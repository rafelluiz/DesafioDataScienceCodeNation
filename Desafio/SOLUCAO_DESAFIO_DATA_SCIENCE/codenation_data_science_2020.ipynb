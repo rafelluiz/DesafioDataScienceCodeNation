{
 "cells": [
  {
   "cell_type": "markdown",
   "metadata": {
    "colab_type": "text",
    "id": "qKZlyoYopM0L"
   },
   "source": [
    "#CodeNation - Descubra as melhores notas de matemática do ENEM 2016"
   ]
  },
  {
   "cell_type": "markdown",
   "metadata": {
    "colab_type": "text",
    "id": "BfmIOm9mo28U"
   },
   "source": [
    "Olá cientista, tudo bem com você? Esse desafio foi proposto pela **CodeNation** e para você ser aceito aos treinamentos, devia obter ao menos **90% de acerto**.\n",
    "\n",
    "Aqui vou mostrar um guia de como alcancei facilmente **93%** passo a passo.\n",
    "\n",
    "Caso queira as informações sobre o desafio e os arquivos, basta dar uma olhada no meu repositório do git [CodeNation-Data-Science-2020](https://github.com/lpcaldeira/codenation-data-science)\n",
    "\n",
    "- Este tutorial foi feito utilizando o Google Colab\n",
    "- Baixe os arquivos no repositório citado acima e faça upload do **train.csv** e **test.csv** no menu lateral a esquerda em Files > Upload"
   ]
  },
  {
   "cell_type": "markdown",
   "metadata": {
    "colab_type": "text",
    "id": "0g97rg-ZgbOQ"
   },
   "source": [
    "Não esqueça de acionar a GPU em Runtime > change runtime type > Hardware accelerator > GPU > Save"
   ]
  },
  {
   "cell_type": "markdown",
   "metadata": {
    "colab_type": "text",
    "id": "-cRVSfyS9bQ7"
   },
   "source": [
    "#Visão geral sobre os dados"
   ]
  },
  {
   "cell_type": "markdown",
   "metadata": {
    "colab_type": "text",
    "id": "TJGc3D9OP20T"
   },
   "source": [
    "Importando as libs que serão utilizadas"
   ]
  },
  {
   "cell_type": "code",
   "execution_count": 1,
   "metadata": {
    "colab": {},
    "colab_type": "code",
    "id": "2GSqicxdeu36"
   },
   "outputs": [],
   "source": [
    "import numpy as np\n",
    "import pandas as pd"
   ]
  },
  {
   "cell_type": "markdown",
   "metadata": {
    "colab_type": "text",
    "id": "DLJ_e6_9QCET"
   },
   "source": [
    "Configurações do pandas pra exibirem todas as linhas e colunas dos itens solicitados"
   ]
  },
  {
   "cell_type": "code",
   "execution_count": 2,
   "metadata": {
    "colab": {},
    "colab_type": "code",
    "id": "aLVhg6t0v9LG"
   },
   "outputs": [],
   "source": [
    "pd.set_option('display.max_columns', None)\n",
    "pd.set_option('display.max_rows', None)"
   ]
  },
  {
   "cell_type": "markdown",
   "metadata": {
    "colab_type": "text",
    "id": "0pPs3zoHP6Ey"
   },
   "source": [
    "Importando os arquivos de treino e teste"
   ]
  },
  {
   "cell_type": "code",
   "execution_count": 3,
   "metadata": {
    "colab": {},
    "colab_type": "code",
    "id": "0Spp88bbPziT"
   },
   "outputs": [],
   "source": [
    "df_train = pd.read_csv('train.csv', sep=\",\" , encoding=\"UTF8\" )\n",
    "df_test = pd.read_csv('test.csv', sep=\",\" , encoding=\"UTF8\" )"
   ]
  },
  {
   "cell_type": "markdown",
   "metadata": {
    "colab_type": "text",
    "id": "lUm7MVytP-cn"
   },
   "source": [
    "Visualizando as colunas que estão no arquivo de testes"
   ]
  },
  {
   "cell_type": "code",
   "execution_count": 4,
   "metadata": {
    "colab": {
     "base_uri": "https://localhost:8080/",
     "height": 221
    },
    "colab_type": "code",
    "id": "arU5MKiaeviv",
    "outputId": "3714fb84-532f-4f3a-f6bb-2747923045f5"
   },
   "outputs": [
    {
     "data": {
      "text/plain": [
       "Index(['NU_INSCRICAO', 'CO_UF_RESIDENCIA', 'SG_UF_RESIDENCIA', 'NU_IDADE',\n",
       "       'TP_SEXO', 'TP_COR_RACA', 'TP_NACIONALIDADE', 'TP_ST_CONCLUSAO',\n",
       "       'TP_ANO_CONCLUIU', 'TP_ESCOLA', 'TP_ENSINO', 'IN_TREINEIRO',\n",
       "       'TP_DEPENDENCIA_ADM_ESC', 'IN_BAIXA_VISAO', 'IN_CEGUEIRA', 'IN_SURDEZ',\n",
       "       'IN_DISLEXIA', 'IN_DISCALCULIA', 'IN_SABATISTA', 'IN_GESTANTE',\n",
       "       'IN_IDOSO', 'TP_PRESENCA_CN', 'TP_PRESENCA_CH', 'TP_PRESENCA_LC',\n",
       "       'CO_PROVA_CN', 'CO_PROVA_CH', 'CO_PROVA_LC', 'CO_PROVA_MT',\n",
       "       'NU_NOTA_CN', 'NU_NOTA_CH', 'NU_NOTA_LC', 'TP_LINGUA',\n",
       "       'TP_STATUS_REDACAO', 'NU_NOTA_COMP1', 'NU_NOTA_COMP2', 'NU_NOTA_COMP3',\n",
       "       'NU_NOTA_COMP4', 'NU_NOTA_COMP5', 'NU_NOTA_REDACAO', 'Q001', 'Q002',\n",
       "       'Q006', 'Q024', 'Q025', 'Q026', 'Q027', 'Q047'],\n",
       "      dtype='object')"
      ]
     },
     "execution_count": 4,
     "metadata": {},
     "output_type": "execute_result"
    }
   ],
   "source": [
    "df_test.columns"
   ]
  },
  {
   "cell_type": "markdown",
   "metadata": {
    "colab_type": "text",
    "id": "iEPlm8FGQKd4"
   },
   "source": [
    "Identificando quais campos tem mais correlação com o nosso target/NU_NOTA_MT"
   ]
  },
  {
   "cell_type": "code",
   "execution_count": 5,
   "metadata": {
    "colab": {
     "base_uri": "https://localhost:8080/",
     "height": 1000
    },
    "colab_type": "code",
    "id": "v7kd8WX-evox",
    "outputId": "8192cdb9-ec0d-4908-850e-7ed14e42ba21"
   },
   "outputs": [
    {
     "data": {
      "text/plain": [
       "NU_NOTA_MT                     1.000000\n",
       "NU_NOTA_CN                     0.584941\n",
       "NU_NOTA_CH                     0.529594\n",
       "NU_NOTA_LC                     0.494695\n",
       "NU_NOTA_REDACAO                0.379376\n",
       "TP_DEPENDENCIA_ADM_ESC         0.373233\n",
       "NU_NOTA_COMP3                  0.350307\n",
       "NU_NOTA_COMP5                  0.343337\n",
       "NU_NOTA_COMP4                  0.342282\n",
       "NU_NOTA_COMP2                  0.335638\n",
       "NU_NOTA_COMP1                  0.299402\n",
       "CO_MUNICIPIO_NASCIMENTO        0.113416\n",
       "CO_UF_NASCIMENTO               0.112236\n",
       "CO_MUNICIPIO_PROVA             0.109433\n",
       "CO_MUNICIPIO_RESIDENCIA        0.108850\n",
       "CO_UF_PROVA                    0.108251\n",
       "CO_UF_RESIDENCIA               0.107493\n",
       "CO_MUNICIPIO_ESC               0.102517\n",
       "CO_ESCOLA                      0.102072\n",
       "CO_UF_ESC                      0.100935\n",
       "CO_UF_ENTIDADE_CERTIFICACAO    0.086797\n",
       "TP_ESCOLA                      0.069304\n",
       "IN_DEFICIT_ATENCAO             0.060628\n",
       "IN_SEM_RECURSO                 0.034406\n",
       "Q035                           0.031685\n",
       "TP_ANO_CONCLUIU                0.029039\n",
       "TP_SIT_FUNC_ESC                0.026338\n",
       "IN_OUTRA_DEF                   0.016654\n",
       "IN_AMPLIADA_18                 0.016266\n",
       "IN_DISCALCULIA                 0.009813\n",
       "IN_VISAO_MONOCULAR             0.008103\n",
       "Unnamed: 0                     0.006530\n",
       "IN_APOIO_PERNA                 0.006191\n",
       "TP_PRESENCA_CN                 0.003552\n",
       "TP_PRESENCA_CH                 0.003552\n",
       "IN_DISLEXIA                    0.001453\n",
       "IN_BAIXA_VISAO                 0.000685\n",
       "IN_GESTANTE                   -0.000945\n",
       "IN_NOME_SOCIAL                -0.004051\n",
       "IN_MESA_CADEIRA_SEPARADA      -0.007509\n",
       "IN_DEFICIENCIA_MENTAL         -0.010387\n",
       "IN_IDOSO                      -0.011336\n",
       "IN_LEITURA_LABIAL             -0.012154\n",
       "IN_DEFICIENCIA_AUDITIVA       -0.014768\n",
       "IN_SURDEZ                     -0.015249\n",
       "IN_MESA_CADEIRA_RODAS         -0.016027\n",
       "IN_SABATISTA                  -0.016459\n",
       "IN_AMPLIADA_24                -0.016538\n",
       "IN_LIBRAS                     -0.017802\n",
       "Q039                          -0.019360\n",
       "IN_DEFICIENCIA_FISICA         -0.020357\n",
       "IN_LACTANTE                   -0.020762\n",
       "IN_TRANSCRICAO                -0.021882\n",
       "IN_LEDOR                      -0.022052\n",
       "IN_TREINEIRO                  -0.022287\n",
       "TP_NACIONALIDADE              -0.034965\n",
       "TP_ESTADO_CIVIL               -0.035393\n",
       "IN_ACESSO                     -0.035681\n",
       "Q031                          -0.051815\n",
       "TP_LOCALIZACAO_ESC            -0.052961\n",
       "TP_STATUS_REDACAO             -0.059376\n",
       "NU_IDADE                      -0.061485\n",
       "Q005                          -0.070824\n",
       "TP_ENSINO                     -0.086353\n",
       "TP_ST_CONCLUSAO               -0.087869\n",
       "Q032                          -0.090325\n",
       "IN_CERTIFICADO                -0.103732\n",
       "Q034                          -0.104780\n",
       "Q033                          -0.114083\n",
       "Q040                          -0.119997\n",
       "Q029                          -0.124075\n",
       "Q030                          -0.127963\n",
       "Q041                          -0.131795\n",
       "Q036                          -0.145501\n",
       "TP_COR_RACA                   -0.157364\n",
       "TP_LINGUA                     -0.201726\n",
       "Q038                          -0.202259\n",
       "Q037                          -0.265249\n",
       "Name: NU_NOTA_MT, dtype: float64"
      ]
     },
     "execution_count": 5,
     "metadata": {},
     "output_type": "execute_result"
    }
   ],
   "source": [
    "# Quanto mais próximo a 1, maior a correlação\n",
    "df_train.corr()['NU_NOTA_MT'].dropna().sort_values(ascending=False)"
   ]
  },
  {
   "cell_type": "markdown",
   "metadata": {
    "colab_type": "text",
    "id": "_ZB4Ju23QU1n"
   },
   "source": [
    "Criando as colunas que serão utilizadas no modelo"
   ]
  },
  {
   "cell_type": "code",
   "execution_count": 6,
   "metadata": {
    "colab": {},
    "colab_type": "code",
    "id": "jERIioXR6bTK"
   },
   "outputs": [],
   "source": [
    "colunas = [\n",
    "    'CO_UF_RESIDENCIA',\n",
    "    'SG_UF_RESIDENCIA',\n",
    "    'NU_IDADE',\n",
    "    'TP_SEXO',\n",
    "    'TP_COR_RACA',\n",
    "    'TP_NACIONALIDADE',\n",
    "    'TP_ST_CONCLUSAO',\n",
    "    'TP_ANO_CONCLUIU',\n",
    "    'TP_ESCOLA',\n",
    "    'TP_ENSINO',\n",
    "    'IN_TREINEIRO',\n",
    "    'TP_DEPENDENCIA_ADM_ESC',\n",
    "    'IN_BAIXA_VISAO',\n",
    "    'IN_CEGUEIRA',\n",
    "    'IN_SURDEZ',\n",
    "    'IN_DISLEXIA',\n",
    "    'IN_DISCALCULIA',\n",
    "    'IN_SABATISTA',\n",
    "    'IN_GESTANTE',\n",
    "    'IN_IDOSO',\n",
    "    'TP_PRESENCA_CN',\n",
    "    'TP_PRESENCA_CH',\n",
    "    'TP_PRESENCA_LC',\n",
    "    'CO_PROVA_CN',\n",
    "    'CO_PROVA_CH',\n",
    "    'CO_PROVA_LC',\n",
    "    'CO_PROVA_MT',\n",
    "    'NU_NOTA_CN',\n",
    "    'NU_NOTA_CH',\n",
    "    'NU_NOTA_LC',\n",
    "    'TP_LINGUA',\n",
    "    'TP_STATUS_REDACAO',\n",
    "    'NU_NOTA_COMP1',\n",
    "    'NU_NOTA_COMP2',\n",
    "    'NU_NOTA_COMP3',\n",
    "    'NU_NOTA_COMP4',\n",
    "    'NU_NOTA_COMP5',\n",
    "    'NU_NOTA_REDACAO',\n",
    "    'Q001',\n",
    "    'Q002',\n",
    "    'Q006',\n",
    "    'Q024',\n",
    "    'Q025',\n",
    "    'Q026',\n",
    "    'Q027',\n",
    "    'Q047'\n",
    "]\n",
    "colunas_corr = [\n",
    "    'NU_NOTA_MT',\n",
    "    'CO_UF_RESIDENCIA',\n",
    "    'SG_UF_RESIDENCIA',\n",
    "    'NU_IDADE',\n",
    "    'TP_SEXO',\n",
    "    'TP_COR_RACA',\n",
    "    'TP_NACIONALIDADE',\n",
    "    'TP_ST_CONCLUSAO',\n",
    "    'TP_ANO_CONCLUIU',\n",
    "    'TP_ESCOLA',\n",
    "    'TP_ENSINO',\n",
    "    'IN_TREINEIRO',\n",
    "    'TP_DEPENDENCIA_ADM_ESC',\n",
    "    'IN_BAIXA_VISAO',\n",
    "    'IN_CEGUEIRA',\n",
    "    'IN_SURDEZ',\n",
    "    'IN_DISLEXIA',\n",
    "    'IN_DISCALCULIA',\n",
    "    'IN_SABATISTA',\n",
    "    'IN_GESTANTE',\n",
    "    'IN_IDOSO',\n",
    "    'TP_PRESENCA_CN',\n",
    "    'TP_PRESENCA_CH',\n",
    "    'TP_PRESENCA_LC',\n",
    "    'CO_PROVA_CN',\n",
    "    'CO_PROVA_CH',\n",
    "    'CO_PROVA_LC',\n",
    "    'CO_PROVA_MT',\n",
    "    'NU_NOTA_CN',\n",
    "    'NU_NOTA_CH',\n",
    "    'NU_NOTA_LC',\n",
    "    'TP_LINGUA',\n",
    "    'TP_STATUS_REDACAO',\n",
    "    'NU_NOTA_COMP1',\n",
    "    'NU_NOTA_COMP2',\n",
    "    'NU_NOTA_COMP3',\n",
    "    'NU_NOTA_COMP4',\n",
    "    'NU_NOTA_COMP5',\n",
    "    'NU_NOTA_REDACAO',\n",
    "    'Q001',\n",
    "    'Q002',\n",
    "    'Q006',\n",
    "    'Q024',\n",
    "    'Q025',\n",
    "    'Q026',\n",
    "    'Q027',\n",
    "    'Q047'\n",
    "]"
   ]
  },
  {
   "cell_type": "markdown",
   "metadata": {
    "colab_type": "text",
    "id": "CwNPevKYQPDJ"
   },
   "source": [
    "#Gráficos e correções de valores"
   ]
  },
  {
   "cell_type": "code",
   "execution_count": 7,
   "metadata": {
    "colab": {
     "base_uri": "https://localhost:8080/",
     "height": 71
    },
    "colab_type": "code",
    "id": "e12g52LOwwre",
    "outputId": "0d685889-cdca-4743-ba58-74d9a231d8d7"
   },
   "outputs": [],
   "source": [
    "import matplotlib.pyplot as plt\n",
    "import seaborn as sns\n",
    "plt.style.use('ggplot')\n",
    "%matplotlib inline"
   ]
  },
  {
   "cell_type": "markdown",
   "metadata": {
    "colab_type": "text",
    "id": "oHcMMVYnWc5g"
   },
   "source": [
    "Vamos usar estes campos para visualizar os gráficos, pois possuem maior correlação com o target:\n",
    "\n",
    "> NU_NOTA_LC\n",
    "\n",
    "> NU_NOTA_CN\n",
    "\n",
    "> NU_NOTA_CH"
   ]
  },
  {
   "cell_type": "markdown",
   "metadata": {
    "colab_type": "text",
    "id": "6kaTI1hwQnqx"
   },
   "source": [
    "Quantidade de campos NULOS de cada campo"
   ]
  },
  {
   "cell_type": "code",
   "execution_count": 8,
   "metadata": {
    "colab": {
     "base_uri": "https://localhost:8080/",
     "height": 816
    },
    "colab_type": "code",
    "id": "jVACpIbLewB8",
    "outputId": "63674aaf-397e-484a-cd44-25ac0a7aa655"
   },
   "outputs": [
    {
     "data": {
      "text/plain": [
       "CO_UF_RESIDENCIA             0\n",
       "SG_UF_RESIDENCIA             0\n",
       "NU_IDADE                     0\n",
       "TP_SEXO                      0\n",
       "TP_COR_RACA                  0\n",
       "TP_NACIONALIDADE             0\n",
       "TP_ST_CONCLUSAO              0\n",
       "TP_ANO_CONCLUIU              0\n",
       "TP_ESCOLA                    0\n",
       "TP_ENSINO                 9448\n",
       "IN_TREINEIRO                 0\n",
       "TP_DEPENDENCIA_ADM_ESC    9448\n",
       "IN_BAIXA_VISAO               0\n",
       "IN_CEGUEIRA                  0\n",
       "IN_SURDEZ                    0\n",
       "IN_DISLEXIA                  0\n",
       "IN_DISCALCULIA               0\n",
       "IN_SABATISTA                 0\n",
       "IN_GESTANTE                  0\n",
       "IN_IDOSO                     0\n",
       "TP_PRESENCA_CN               0\n",
       "TP_PRESENCA_CH               0\n",
       "TP_PRESENCA_LC               0\n",
       "CO_PROVA_CN                  0\n",
       "CO_PROVA_CH                  0\n",
       "CO_PROVA_LC                  0\n",
       "CO_PROVA_MT                  0\n",
       "NU_NOTA_CN                3389\n",
       "NU_NOTA_CH                3389\n",
       "NU_NOTA_LC                3597\n",
       "TP_LINGUA                    0\n",
       "TP_STATUS_REDACAO         3597\n",
       "NU_NOTA_COMP1             3597\n",
       "NU_NOTA_COMP2             3597\n",
       "NU_NOTA_COMP3             3597\n",
       "NU_NOTA_COMP4             3597\n",
       "NU_NOTA_COMP5             3597\n",
       "NU_NOTA_REDACAO           3597\n",
       "Q001                         0\n",
       "Q002                         0\n",
       "Q006                         0\n",
       "Q024                         0\n",
       "Q025                         0\n",
       "Q026                         0\n",
       "Q027                      7373\n",
       "Q047                         0\n",
       "dtype: int64"
      ]
     },
     "execution_count": 8,
     "metadata": {},
     "output_type": "execute_result"
    }
   ],
   "source": [
    "df_train[colunas].isnull().sum()"
   ]
  },
  {
   "cell_type": "markdown",
   "metadata": {
    "colab_type": "text",
    "id": "BHM3Fp31Sym1"
   },
   "source": [
    "Visualizando campos nulos/NaN nos datasets"
   ]
  },
  {
   "cell_type": "code",
   "execution_count": 9,
   "metadata": {
    "colab": {
     "base_uri": "https://localhost:8080/",
     "height": 282
    },
    "colab_type": "code",
    "id": "6qgk07gRfzJx",
    "outputId": "9ccee25f-ac51-41a2-883a-707920ec727e"
   },
   "outputs": [
    {
     "data": {
      "image/png": "[encoded data removed]",
      "text/plain": [
       "<Figure size 432x288 with 1 Axes>"
      ]
     },
     "metadata": {
      "needs_background": "light"
     },
     "output_type": "display_data"
    }
   ],
   "source": [
    "x0 = df_train['NU_NOTA_LC']\n",
    "x1 = df_test['NU_NOTA_LC']\n",
    "sns.distplot(x0)\n",
    "sns.distplot(x1)\n",
    "plt.legend(labels=['Treino','Teste'], ncol=2, loc='upper left');"
   ]
  },
  {
   "cell_type": "markdown",
   "metadata": {
    "colab_type": "text",
    "id": "XlVrRhOzTQrE"
   },
   "source": [
    "Pelo visto, temos muitos campo nulos/NaN, então a minha opção foi substituí-los por zero"
   ]
  },
  {
   "cell_type": "code",
   "execution_count": 10,
   "metadata": {
    "colab": {
     "base_uri": "https://localhost:8080/",
     "height": 34
    },
    "colab_type": "code",
    "id": "Fj_NNKRzfzQR",
    "outputId": "d5e3f352-ceb4-4453-f767-ac3081c0f94e"
   },
   "outputs": [
    {
     "data": {
      "text/plain": [
       "13730"
      ]
     },
     "execution_count": 10,
     "metadata": {},
     "output_type": "execute_result"
    }
   ],
   "source": [
    "#Caso queira utilizar média, basta descomentar a linha abaixo\n",
    "#df_train = df_train.fillna(df_train.median())\n",
    "#E comentar essa\n",
    "df_train = df_train.fillna(0)\n",
    "\n",
    "# Quantidade de linhas no dataset de treino\n",
    "len(df_train)"
   ]
  },
  {
   "cell_type": "markdown",
   "metadata": {
    "colab_type": "text",
    "id": "u2z8_DxJUGRW"
   },
   "source": [
    " Verifica o gráfico de novo (repare agora a quantidade de valores Zero que temos no dataset de TREINO)"
   ]
  },
  {
   "cell_type": "code",
   "execution_count": 11,
   "metadata": {
    "colab": {
     "base_uri": "https://localhost:8080/",
     "height": 282
    },
    "colab_type": "code",
    "id": "88IS2ljhfzV7",
    "outputId": "18ba10c8-ec2f-429d-8f22-98eb17ea85d3"
   },
   "outputs": [
    {
     "data": {
      "image/png": "[encoded data removed]",
      "text/plain": [
       "<Figure size 432x288 with 1 Axes>"
      ]
     },
     "metadata": {
      "needs_background": "light"
     },
     "output_type": "display_data"
    }
   ],
   "source": [
    "x0 = df_train['NU_NOTA_LC']\n",
    "x1 = df_test['NU_NOTA_LC']\n",
    "sns.distplot(x0)\n",
    "sns.distplot(x1)\n",
    "plt.legend(labels=['Treino','Teste'], ncol=2, loc='upper left');"
   ]
  },
  {
   "cell_type": "code",
   "execution_count": 12,
   "metadata": {
    "colab": {
     "base_uri": "https://localhost:8080/",
     "height": 285
    },
    "colab_type": "code",
    "id": "vEVqqLJQg0Ao",
    "outputId": "ea409d6f-8ab2-46af-a796-2cf7544bc426"
   },
   "outputs": [
    {
     "data": {
      "image/png": "[encoded data removed]",
      "text/plain": [
       "<Figure size 432x288 with 1 Axes>"
      ]
     },
     "metadata": {
      "needs_background": "light"
     },
     "output_type": "display_data"
    }
   ],
   "source": [
    "# Verifica outro gráfico\n",
    "x0 = df_train['NU_NOTA_CN']\n",
    "x1 = df_test['NU_NOTA_CN']\n",
    "sns.distplot(x0)\n",
    "sns.distplot(x1)\n",
    "plt.legend(labels=['Treino','Teste'], ncol=2, loc='upper left');"
   ]
  },
  {
   "cell_type": "code",
   "execution_count": 13,
   "metadata": {
    "colab": {
     "base_uri": "https://localhost:8080/",
     "height": 282
    },
    "colab_type": "code",
    "id": "jRbUf8zKev_t",
    "outputId": "05539e69-b9ad-440b-829c-11b54411075e"
   },
   "outputs": [
    {
     "data": {
      "image/png": "[encoded data removed]",
      "text/plain": [
       "<Figure size 432x288 with 1 Axes>"
      ]
     },
     "metadata": {
      "needs_background": "light"
     },
     "output_type": "display_data"
    }
   ],
   "source": [
    "# Verifica outro gráfico\n",
    "x0 = df_train['NU_NOTA_CH']\n",
    "x1 = df_test['NU_NOTA_CH']\n",
    "sns.distplot(x0)\n",
    "sns.distplot(x1)\n",
    "plt.legend(labels=['Treino','Teste'], ncol=2, loc='upper left');"
   ]
  },
  {
   "cell_type": "markdown",
   "metadata": {
    "colab_type": "text",
    "id": "uydv-j7UXdHr"
   },
   "source": [
    "Verificando a quantidade de nulos/NaN no dataset de Teste"
   ]
  },
  {
   "cell_type": "code",
   "execution_count": 14,
   "metadata": {
    "colab": {
     "base_uri": "https://localhost:8080/",
     "height": 833
    },
    "colab_type": "code",
    "id": "QcnhJoXaev9B",
    "outputId": "9e660331-3dfe-4833-da9a-cdddb0a0fc54"
   },
   "outputs": [
    {
     "data": {
      "text/plain": [
       "NU_INSCRICAO                 0\n",
       "CO_UF_RESIDENCIA             0\n",
       "SG_UF_RESIDENCIA             0\n",
       "NU_IDADE                     0\n",
       "TP_SEXO                      0\n",
       "TP_COR_RACA                  0\n",
       "TP_NACIONALIDADE             0\n",
       "TP_ST_CONCLUSAO              0\n",
       "TP_ANO_CONCLUIU              0\n",
       "TP_ESCOLA                    0\n",
       "TP_ENSINO                 3096\n",
       "IN_TREINEIRO                 0\n",
       "TP_DEPENDENCIA_ADM_ESC    3096\n",
       "IN_BAIXA_VISAO               0\n",
       "IN_CEGUEIRA                  0\n",
       "IN_SURDEZ                    0\n",
       "IN_DISLEXIA                  0\n",
       "IN_DISCALCULIA               0\n",
       "IN_SABATISTA                 0\n",
       "IN_GESTANTE                  0\n",
       "IN_IDOSO                     0\n",
       "TP_PRESENCA_CN               0\n",
       "TP_PRESENCA_CH               0\n",
       "TP_PRESENCA_LC               0\n",
       "CO_PROVA_CN                  0\n",
       "CO_PROVA_CH                  0\n",
       "CO_PROVA_LC                  0\n",
       "CO_PROVA_MT                  0\n",
       "NU_NOTA_CN                1134\n",
       "NU_NOTA_CH                1134\n",
       "NU_NOTA_LC                1199\n",
       "TP_LINGUA                    0\n",
       "TP_STATUS_REDACAO         1199\n",
       "NU_NOTA_COMP1             1199\n",
       "NU_NOTA_COMP2             1199\n",
       "NU_NOTA_COMP3             1199\n",
       "NU_NOTA_COMP4             1199\n",
       "NU_NOTA_COMP5             1199\n",
       "NU_NOTA_REDACAO           1199\n",
       "Q001                         0\n",
       "Q002                         0\n",
       "Q006                         0\n",
       "Q024                         0\n",
       "Q025                         0\n",
       "Q026                         0\n",
       "Q027                      2488\n",
       "Q047                         0\n",
       "dtype: int64"
      ]
     },
     "execution_count": 14,
     "metadata": {},
     "output_type": "execute_result"
    }
   ],
   "source": [
    "# Verificando a quantidade de notas ‘nulls’ na base de test:\n",
    "df_test.isnull().sum()"
   ]
  },
  {
   "cell_type": "markdown",
   "metadata": {
    "colab_type": "text",
    "id": "yqkHFnybXL5H"
   },
   "source": [
    "Agora, repetimos a mesma substituição aplicada no dataset de Treino ao dataset de Teste"
   ]
  },
  {
   "cell_type": "code",
   "execution_count": 15,
   "metadata": {
    "colab": {
     "base_uri": "https://localhost:8080/",
     "height": 34
    },
    "colab_type": "code",
    "id": "W-zz_JQVhEiH",
    "outputId": "70acceee-f38e-4ba5-a572-65a3b9cf132a"
   },
   "outputs": [
    {
     "data": {
      "text/plain": [
       "4576"
      ]
     },
     "execution_count": 15,
     "metadata": {},
     "output_type": "execute_result"
    }
   ],
   "source": [
    "#Caso queira utilizar média, basta descomentar a linha abaixo\n",
    "#df_test = df_test.fillna(df_test.median())\n",
    "#E comentar essa\n",
    "df_test = df_test.fillna(0)\n",
    "\n",
    "# Quantidade de linhas no dataset de treino\n",
    "len(df_test)"
   ]
  },
  {
   "cell_type": "markdown",
   "metadata": {
    "colab_type": "text",
    "id": "VDyGI-W6X53g"
   },
   "source": [
    "Vamos verificar novamente como ficaram os gráficos, percebendo que a coluna Azul (que representa o dataset de testes), também cresceu em valores 0 e diminuiu em nulos/NaN"
   ]
  },
  {
   "cell_type": "code",
   "execution_count": 16,
   "metadata": {
    "colab": {
     "base_uri": "https://localhost:8080/",
     "height": 282
    },
    "colab_type": "code",
    "id": "rJ9nyAithpMx",
    "outputId": "d6e42dce-a60a-406c-deb1-52bcb243843e"
   },
   "outputs": [
    {
     "data": {
      "image/png": "[encoded data removed]",
      "text/plain": [
       "<Figure size 432x288 with 1 Axes>"
      ]
     },
     "metadata": {
      "needs_background": "light"
     },
     "output_type": "display_data"
    }
   ],
   "source": [
    "# Verifica outro gráfico\n",
    "x0 = df_train['NU_NOTA_LC']\n",
    "x1 = df_test['NU_NOTA_LC']\n",
    "sns.distplot(x0)\n",
    "sns.distplot(x1)\n",
    "plt.legend(labels=['Treino','Teste'], ncol=2, loc='upper left');"
   ]
  },
  {
   "cell_type": "code",
   "execution_count": 17,
   "metadata": {
    "colab": {
     "base_uri": "https://localhost:8080/",
     "height": 282
    },
    "colab_type": "code",
    "id": "wSK5P8mlev4t",
    "outputId": "fc5f84a6-14f3-41c7-e531-4689a04d3fa5"
   },
   "outputs": [
    {
     "data": {
      "image/png": "[encoded data removed]",
      "text/plain": [
       "<Figure size 432x288 with 1 Axes>"
      ]
     },
     "metadata": {
      "needs_background": "light"
     },
     "output_type": "display_data"
    }
   ],
   "source": [
    "# Verifica o gráfico de novo\n",
    "x0 = df_train['NU_NOTA_CN']\n",
    "x1 = df_test['NU_NOTA_CN']\n",
    "sns.distplot(x0)\n",
    "sns.distplot(x1)\n",
    "plt.legend(labels=['Treino','Teste'], ncol=2, loc='upper left');"
   ]
  },
  {
   "cell_type": "code",
   "execution_count": 18,
   "metadata": {
    "colab": {
     "base_uri": "https://localhost:8080/",
     "height": 282
    },
    "colab_type": "code",
    "id": "gmHcsDvHhpBj",
    "outputId": "9735cf9d-f883-4cf9-c9f1-bf320b49a1f7"
   },
   "outputs": [
    {
     "data": {
      "image/png": "[encoded data removed]",
      "text/plain": [
       "<Figure size 432x288 with 1 Axes>"
      ]
     },
     "metadata": {
      "needs_background": "light"
     },
     "output_type": "display_data"
    }
   ],
   "source": [
    "# Verifica outro gráfico\n",
    "x0 = df_train['NU_NOTA_CH']\n",
    "x1 = df_test['NU_NOTA_CH']\n",
    "sns.distplot(x0)\n",
    "sns.distplot(x1)\n",
    "plt.legend(labels=['Treino','Teste'], ncol=2, loc='upper left');"
   ]
  },
  {
   "cell_type": "markdown",
   "metadata": {
    "colab_type": "text",
    "id": "A3d7RZQGhxEz"
   },
   "source": [
    "#Separando e tratando os dados"
   ]
  },
  {
   "cell_type": "markdown",
   "metadata": {
    "colab_type": "text",
    "id": "ZvSAL5feYZ6P"
   },
   "source": [
    "Precisamos normalizar os dados tratando/transformando campos do tipo **OBJECT** em **FLOAT**"
   ]
  },
  {
   "cell_type": "markdown",
   "metadata": {
    "colab_type": "text",
    "id": "n-j1dY0mYo6o"
   },
   "source": [
    "Primeiro, os encontramos nos 2 datasets"
   ]
  },
  {
   "cell_type": "code",
   "execution_count": 19,
   "metadata": {
    "colab": {},
    "colab_type": "code",
    "id": "q9QOuD6g06HJ"
   },
   "outputs": [],
   "source": [
    "train_colunas_do_tipo_objeto = df_train.select_dtypes(include=[object]).columns\n",
    "test_colunas_do_tipo_objeto = df_test.select_dtypes(include=[object]).columns"
   ]
  },
  {
   "cell_type": "markdown",
   "metadata": {
    "colab_type": "text",
    "id": "mzKpy76KZgWX"
   },
   "source": [
    "Agora, separamos os valores de cada dataset e os campos que vamos utilizar"
   ]
  },
  {
   "cell_type": "code",
   "execution_count": 20,
   "metadata": {
    "colab": {},
    "colab_type": "code",
    "id": "85M9RWjeZghD"
   },
   "outputs": [],
   "source": [
    "# y_train fica com os valores das notas de matemática do Treino\n",
    "y_train = df_train['NU_NOTA_MT']\n",
    "# x_train pega todos os valores que o dataset de Teste possui\n",
    "x_train = df_train[colunas]\n",
    "# x_test tem todos os campos, menos a Inscrição(NU_INSCRICAO)\n",
    "x_test = df_test[colunas]"
   ]
  },
  {
   "cell_type": "markdown",
   "metadata": {
    "colab_type": "text",
    "id": "9huDE6JVYsGI"
   },
   "source": [
    "Depois, podemos usar, por exemplo, o LabelEncoder para tratar cada campo do tipo objeto"
   ]
  },
  {
   "cell_type": "code",
   "execution_count": 21,
   "metadata": {
    "colab": {
     "base_uri": "https://localhost:8080/",
     "height": 0
    },
    "colab_type": "code",
    "id": "k5oH1kHM0u-Z",
    "outputId": "5d946634-be2c-4557-ec56-1b7e324fbfa4"
   },
   "outputs": [
    {
     "name": "stderr",
     "output_type": "stream",
     "text": [
      "<ipython-input-21-93b2b3a7eb49>:7: SettingWithCopyWarning: \n",
      "A value is trying to be set on a copy of a slice from a DataFrame.\n",
      "Try using .loc[row_indexer,col_indexer] = value instead\n",
      "\n",
      "See the caveats in the documentation: https://pandas.pydata.org/pandas-docs/stable/user_guide/indexing.html#returning-a-view-versus-a-copy\n",
      "  x_train[coluna] = LabelEncoder().fit_transform(x_train[coluna].astype(str))\n",
      "<ipython-input-21-93b2b3a7eb49>:11: SettingWithCopyWarning: \n",
      "A value is trying to be set on a copy of a slice from a DataFrame.\n",
      "Try using .loc[row_indexer,col_indexer] = value instead\n",
      "\n",
      "See the caveats in the documentation: https://pandas.pydata.org/pandas-docs/stable/user_guide/indexing.html#returning-a-view-versus-a-copy\n",
      "  x_test[coluna] = LabelEncoder().fit_transform(x_test[coluna].astype(str))\n"
     ]
    }
   ],
   "source": [
    "from sklearn.preprocessing import LabelEncoder\n",
    "\n",
    "y_train_encoder = LabelEncoder().fit_transform(y_train)\n",
    "\n",
    "for coluna in train_colunas_do_tipo_objeto:\n",
    "  if coluna in colunas and coluna != 'NU_INSCRICAO':\n",
    "    x_train[coluna] = LabelEncoder().fit_transform(x_train[coluna].astype(str))\n",
    "\n",
    "for coluna in test_colunas_do_tipo_objeto:\n",
    "  if coluna in colunas and coluna != 'NU_INSCRICAO':\n",
    "    x_test[coluna] = LabelEncoder().fit_transform(x_test[coluna].astype(str))"
   ]
  },
  {
   "cell_type": "markdown",
   "metadata": {
    "colab_type": "text",
    "id": "HaNbp7TbZ0-V"
   },
   "source": [
    "Importamos os scalers e aplicamos nos dados para aumentar a velocidade de processamento.\n",
    "\n",
    "Neste exemplo, apenas apliquei o Standard mas deixei o Robust junto, para caso você queira fazer alguns testes extras."
   ]
  },
  {
   "cell_type": "code",
   "execution_count": 22,
   "metadata": {
    "colab": {},
    "colab_type": "code",
    "id": "kHCp6K8ZLzlK"
   },
   "outputs": [],
   "source": [
    "from sklearn.preprocessing import RobustScaler, StandardScaler\n",
    "sc = StandardScaler()\n",
    "rb = StandardScaler()\n",
    "x_train_scaler = sc.fit_transform(x_train)  \n",
    "x_test_scaler = sc.transform(x_test)"
   ]
  },
  {
   "cell_type": "markdown",
   "metadata": {
    "colab_type": "text",
    "id": "CV7iTRn1aP5p"
   },
   "source": [
    "#Criando os modelos de regressões"
   ]
  },
  {
   "cell_type": "markdown",
   "metadata": {
    "colab_type": "text",
    "id": "mbNjI-hJaXCB"
   },
   "source": [
    "Estou utilizando aqui o conceito de Pipeline com RandomizedSearchCV (você pode aplicar o GridSearchCV se quiser) para realizar vários testes de regressão e identificar os melhores parâmetros para o meu modelo alcançar ou chegar o mais próximo de 100%"
   ]
  },
  {
   "cell_type": "markdown",
   "metadata": {
    "colab_type": "text",
    "id": "VeZzDBY1a4G9"
   },
   "source": [
    "##O primeiro a ser testado será o AdaBoost"
   ]
  },
  {
   "cell_type": "code",
   "execution_count": 23,
   "metadata": {
    "colab": {
     "base_uri": "https://localhost:8080/",
     "height": 748
    },
    "colab_type": "code",
    "id": "pDt67wtrlO9a",
    "outputId": "e11bddfe-b85f-453e-80a7-cc162e8fedda"
   },
   "outputs": [
    {
     "name": "stdout",
     "output_type": "stream",
     "text": [
      "Fitting 5 folds for each of 20 candidates, totalling 100 fits\n"
     ]
    },
    {
     "name": "stderr",
     "output_type": "stream",
     "text": [
      "[Parallel(n_jobs=-1)]: Using backend LokyBackend with 4 concurrent workers.\n",
      "[Parallel(n_jobs=-1)]: Done   5 tasks      | elapsed:   42.1s\n",
      "[Parallel(n_jobs=-1)]: Done  10 tasks      | elapsed:   55.4s\n",
      "[Parallel(n_jobs=-1)]: Done  17 tasks      | elapsed:  1.4min\n",
      "[Parallel(n_jobs=-1)]: Done  24 tasks      | elapsed:  2.8min\n",
      "[Parallel(n_jobs=-1)]: Done  33 tasks      | elapsed:  3.1min\n",
      "[Parallel(n_jobs=-1)]: Done  42 tasks      | elapsed:  3.3min\n",
      "[Parallel(n_jobs=-1)]: Done  53 tasks      | elapsed:  3.8min\n",
      "[Parallel(n_jobs=-1)]: Done  64 tasks      | elapsed:  4.4min\n",
      "[Parallel(n_jobs=-1)]: Done  77 tasks      | elapsed:  5.2min\n",
      "[Parallel(n_jobs=-1)]: Done  90 tasks      | elapsed:  5.8min\n",
      "[Parallel(n_jobs=-1)]: Done 100 out of 100 | elapsed:  6.2min finished\n"
     ]
    },
    {
     "data": {
      "text/plain": [
       "(0.9232058508027757,\n",
       " {'ada__random_state': 42,\n",
       "  'ada__n_estimators': 10,\n",
       "  'ada__loss': 'exponential',\n",
       "  'ada__base_estimator': DecisionTreeRegressor(max_depth=8)},\n",
       " Pipeline(steps=[('scaler', StandardScaler()),\n",
       "                 ('ada',\n",
       "                  AdaBoostRegressor(base_estimator=DecisionTreeRegressor(max_depth=8),\n",
       "                                    loss='exponential', n_estimators=10,\n",
       "                                    random_state=42))]))"
      ]
     },
     "execution_count": 23,
     "metadata": {},
     "output_type": "execute_result"
    }
   ],
   "source": [
    "from sklearn.pipeline import Pipeline\n",
    "from sklearn.model_selection import RandomizedSearchCV\n",
    "from sklearn.ensemble import AdaBoostRegressor\n",
    "from sklearn.tree import DecisionTreeRegressor\n",
    "\n",
    "# Instanciamos o Regressor\n",
    "ada = AdaBoostRegressor()\n",
    "# Setamos o Scaler que criamos anteriormente e o Regressor\n",
    "clf = Pipeline([('scaler', sc), ('ada', ada)])\n",
    "\n",
    "# Informamos os parâmetros e variações do Regressor que queremos que o RandomizedSearchCV aplique para nós\n",
    "random_grid = {\n",
    "    'ada__base_estimator': [DecisionTreeRegressor(max_depth=8), DecisionTreeRegressor(max_depth=3)],\n",
    "    'ada__random_state': [0, 42],\n",
    "    'ada__loss': ['linear','square','exponential'],\n",
    "    'ada__n_estimators': [10, 20, 50, 100, 200]\n",
    "}\n",
    "\n",
    "# Informamos mais alguns parâmetros, agora referentes apenas ao RandomizeSearchCV\n",
    "search = RandomizedSearchCV(estimator = clf, param_distributions = random_grid, \n",
    "                            n_iter = 20, cv = 5, verbose = 10, n_jobs = -1)\n",
    "\n",
    "# Aqui efetivamente roda o processo usando o dataset de Treino para treinar o modelo\n",
    "results = search.fit(x_train, y_train)\n",
    "\n",
    "# Aqui mostrará os melhores parâmetros juntamente com o percentual de acerto.\n",
    "# No teste que fiz, o percentual ficou em 99.99963%\n",
    "results.best_score_, results.best_params_, results.best_estimator_"
   ]
  },
  {
   "cell_type": "markdown",
   "metadata": {
    "colab_type": "text",
    "id": "c8iZk3YesvvH"
   },
   "source": [
    "0.9235217474934994 %\n",
    "\n",
    "Regressor com parâmetros:\n",
    "\n",
    "AdaBoostRegressor(base_estimator=DecisionTreeRegressor(ccp_alpha=0.0,\n",
    "                                                                         criterion='mse',\n",
    "                                                                         max_depth=8,\n",
    "                                                                         max_features=None,\n",
    "                                                                         max_leaf_nodes=None,\n",
    "                                                                         min_impurity_decrease=0.0,\n",
    "                                                                         min_impurity_split=None,\n",
    "                                                                         min_samples_leaf=1,\n",
    "                                                                         min_samples_split=2,\n",
    "                                                                         min_weight_fraction_leaf=0.0,\n",
    "                                                                         presort='deprecated',\n",
    "                                                                         random_state=None,\n",
    "                                                                         splitter='best'),\n",
    "                                    learning_rate=1.0, loss='exponential',\n",
    "                                    n_estimators=10, random_state=0)"
   ]
  },
  {
   "cell_type": "markdown",
   "metadata": {
    "colab_type": "text",
    "id": "aBhqcmnGb3vj"
   },
   "source": [
    "Então, agora que tenho os parâmetros que já me deram 92% de acerto, vou utilizá-los no dataset de Teste"
   ]
  },
  {
   "cell_type": "code",
   "execution_count": 24,
   "metadata": {
    "colab": {},
    "colab_type": "code",
    "id": "WT7yFCI0ra_p"
   },
   "outputs": [],
   "source": [
    "from sklearn.ensemble import AdaBoostRegressor\n",
    "ada = AdaBoostRegressor(base_estimator=DecisionTreeRegressor(ccp_alpha=0.0,\n",
    "                                                                         criterion='mse',\n",
    "                                                                         max_depth=8,\n",
    "                                                                         max_features=None,\n",
    "                                                                         max_leaf_nodes=None,\n",
    "                                                                         min_impurity_decrease=0.0,\n",
    "                                                                         min_impurity_split=None,\n",
    "                                                                         min_samples_leaf=1,\n",
    "                                                                         min_samples_split=2,\n",
    "                                                                         min_weight_fraction_leaf=0.0,\n",
    "                                                                         presort='deprecated',\n",
    "                                                                         random_state=None,\n",
    "                                                                         splitter='best'),\n",
    "                                    learning_rate=1.0, loss='exponential',\n",
    "                                    n_estimators=10, random_state=0)\n",
    "\n",
    "# Treinando o nosso modelo com o scaler e encoder que fizemos lá em cima\n",
    "ada.fit(x_train_scaler, y_train_encoder)\n",
    "# Realizando a predição das notas com o dataset de Teste\n",
    "y_pred_test = ada.predict(x_test_scaler)\n",
    "# Exportando o arquivo com as notas geradas\n",
    "answer = pd.DataFrame()\n",
    "answer['NU_INSCRICAO'] = df_test.NU_INSCRICAO\n",
    "answer['NU_NOTA_MT'] = y_pred_test\n",
    "answer.to_csv('answer_ada.csv', index=False)"
   ]
  },
  {
   "cell_type": "code",
   "execution_count": 25,
   "metadata": {
    "colab": {
     "base_uri": "https://localhost:8080/",
     "height": 51
    },
    "colab_type": "code",
    "id": "RF1DzVRahAMs",
    "outputId": "79d2cdf8-7764-41c1-ae6f-487467cd0046"
   },
   "outputs": [
    {
     "name": "stdout",
     "output_type": "stream",
     "text": [
      "[0.97582539 0.97910108 0.97784262 0.97826916 0.97617906]\n",
      "Accuracy: 0.98 (+/- 0.00)\n"
     ]
    }
   ],
   "source": [
    "# Teste auxiliar para identificar a acurrácia do modelo usando cross_validation.\n",
    "# Quanto mais perto de 1.0, melhor\n",
    "from sklearn.model_selection import cross_val_score\n",
    "scores = cross_val_score(ada, x_test_scaler, y_pred_test, cv=5)\n",
    "print(scores)\n",
    "print(\"Accuracy: %0.2f (+/- %0.2f)\" % (scores.mean(), scores.std() * 2))"
   ]
  },
  {
   "cell_type": "markdown",
   "metadata": {
    "colab_type": "text",
    "id": "SZGbfTJyhHgJ"
   },
   "source": [
    "##O segundo a ser testado será o DecisionTree"
   ]
  },
  {
   "cell_type": "code",
   "execution_count": 26,
   "metadata": {
    "colab": {
     "base_uri": "https://localhost:8080/",
     "height": 901
    },
    "colab_type": "code",
    "id": "AYJxPUSClO6l",
    "outputId": "4eee4266-cfe0-4802-9a4c-a4b3b28f891e"
   },
   "outputs": [
    {
     "name": "stdout",
     "output_type": "stream",
     "text": [
      "Fitting 5 folds for each of 200 candidates, totalling 1000 fits\n"
     ]
    },
    {
     "name": "stderr",
     "output_type": "stream",
     "text": [
      "[Parallel(n_jobs=-1)]: Using backend LokyBackend with 4 concurrent workers.\n",
      "[Parallel(n_jobs=-1)]: Batch computation too fast (0.1653s.) Setting batch_size=2.\n",
      "[Parallel(n_jobs=-1)]: Done   5 tasks      | elapsed:    0.3s\n",
      "[Parallel(n_jobs=-1)]: Done  12 tasks      | elapsed:    0.6s\n",
      "[Parallel(n_jobs=-1)]: Done  26 tasks      | elapsed:    1.5s\n",
      "[Parallel(n_jobs=-1)]: Done  40 tasks      | elapsed:    2.4s\n",
      "[Parallel(n_jobs=-1)]: Done  58 tasks      | elapsed:    3.4s\n",
      "[Parallel(n_jobs=-1)]: Done  76 tasks      | elapsed:    4.1s\n",
      "[Parallel(n_jobs=-1)]: Done  98 tasks      | elapsed:    5.2s\n",
      "[Parallel(n_jobs=-1)]: Done 120 tasks      | elapsed:    5.9s\n",
      "[Parallel(n_jobs=-1)]: Done 146 tasks      | elapsed:    6.9s\n",
      "[Parallel(n_jobs=-1)]: Done 172 tasks      | elapsed:    8.1s\n",
      "[Parallel(n_jobs=-1)]: Done 202 tasks      | elapsed:    9.6s\n",
      "[Parallel(n_jobs=-1)]: Done 232 tasks      | elapsed:   11.3s\n",
      "[Parallel(n_jobs=-1)]: Batch computation too slow (2.4879s.) Setting batch_size=1.\n",
      "[Parallel(n_jobs=-1)]: Done 266 tasks      | elapsed:   22.3s\n",
      "[Parallel(n_jobs=-1)]: Done 283 tasks      | elapsed:   23.8s\n",
      "[Parallel(n_jobs=-1)]: Done 303 tasks      | elapsed:   24.8s\n",
      "[Parallel(n_jobs=-1)]: Done 322 tasks      | elapsed:   25.9s\n",
      "[Parallel(n_jobs=-1)]: Done 343 tasks      | elapsed:   27.1s\n",
      "[Parallel(n_jobs=-1)]: Done 364 tasks      | elapsed:   28.3s\n",
      "[Parallel(n_jobs=-1)]: Done 388 tasks      | elapsed:   29.5s\n",
      "[Parallel(n_jobs=-1)]: Done 412 tasks      | elapsed:   39.0s\n",
      "[Parallel(n_jobs=-1)]: Done 437 tasks      | elapsed:   40.1s\n",
      "[Parallel(n_jobs=-1)]: Done 462 tasks      | elapsed:   41.4s\n",
      "[Parallel(n_jobs=-1)]: Done 489 tasks      | elapsed:   57.9s\n",
      "[Parallel(n_jobs=-1)]: Done 516 tasks      | elapsed:  1.1min\n",
      "[Parallel(n_jobs=-1)]: Done 545 tasks      | elapsed:  1.2min\n",
      "[Parallel(n_jobs=-1)]: Done 574 tasks      | elapsed:  1.2min\n",
      "[Parallel(n_jobs=-1)]: Done 605 tasks      | elapsed:  1.3min\n",
      "[Parallel(n_jobs=-1)]: Done 636 tasks      | elapsed:  1.3min\n",
      "[Parallel(n_jobs=-1)]: Done 669 tasks      | elapsed:  1.4min\n",
      "[Parallel(n_jobs=-1)]: Done 702 tasks      | elapsed:  1.4min\n",
      "[Parallel(n_jobs=-1)]: Done 737 tasks      | elapsed:  1.5min\n",
      "[Parallel(n_jobs=-1)]: Done 772 tasks      | elapsed:  1.6min\n",
      "[Parallel(n_jobs=-1)]: Done 809 tasks      | elapsed:  1.8min\n",
      "[Parallel(n_jobs=-1)]: Done 846 tasks      | elapsed:  1.8min\n",
      "[Parallel(n_jobs=-1)]: Done 885 tasks      | elapsed:  1.9min\n",
      "[Parallel(n_jobs=-1)]: Done 924 tasks      | elapsed:  1.9min\n",
      "[Parallel(n_jobs=-1)]: Done 965 tasks      | elapsed:  2.0min\n",
      "[Parallel(n_jobs=-1)]: Done 1000 out of 1000 | elapsed:  2.0min finished\n"
     ]
    },
    {
     "data": {
      "text/plain": [
       "(0.9072323784363631,\n",
       " {'dt__splitter': 'best',\n",
       "  'dt__random_state': 5,\n",
       "  'dt__min_weight_fraction_leaf': 0.0,\n",
       "  'dt__min_samples_split': 5,\n",
       "  'dt__min_samples_leaf': 5,\n",
       "  'dt__max_features': 10,\n",
       "  'dt__max_depth': 5,\n",
       "  'dt__criterion': 'mae'},\n",
       " Pipeline(steps=[('scaler', StandardScaler()),\n",
       "                 ('dt',\n",
       "                  DecisionTreeRegressor(criterion='mae', max_depth=5,\n",
       "                                        max_features=10, min_samples_leaf=5,\n",
       "                                        min_samples_split=5, random_state=5))]))"
      ]
     },
     "execution_count": 26,
     "metadata": {},
     "output_type": "execute_result"
    }
   ],
   "source": [
    "from sklearn.pipeline import Pipeline\n",
    "from sklearn.model_selection import RandomizedSearchCV\n",
    "from sklearn.tree import DecisionTreeRegressor\n",
    "\n",
    "dt = DecisionTreeRegressor()\n",
    "clf = Pipeline([('scaler', sc), ('dt', dt)])\n",
    "\n",
    "random_grid = {\n",
    "    'dt__criterion': ['mse', 'friedman_mse', 'mae'],\n",
    "    'dt__splitter': ['best', 'random'],\n",
    "    'dt__max_depth': [None, 5, 8, 20],\n",
    "    'dt__min_samples_split': [0, 2, 5],\n",
    "    'dt__min_samples_leaf': [0, 1, 5],\n",
    "    'dt__min_weight_fraction_leaf': [0.0, 0.1, 0.2, 0.3, 0.4, 0.5, 0.6, 0.7, 0.8, 0.9, 1.0],\n",
    "    'dt__max_features': [0, None, 5, 10, 'auto', 'sqrt', 'log2'],\n",
    "    'dt__random_state': [0, None, 5, 42]\n",
    "}\n",
    "\n",
    "search = RandomizedSearchCV(estimator = clf, param_distributions = random_grid, \n",
    "                            n_iter = 200, cv = 5, verbose = 10, n_jobs = -1)\n",
    "\n",
    "results = search.fit(x_train, y_train)\n",
    "\n",
    "results.best_score_, results.best_params_, results.best_estimator_"
   ]
  },
  {
   "cell_type": "markdown",
   "metadata": {
    "colab_type": "text",
    "id": "TKP_npZruSGB"
   },
   "source": [
    "0.9163452188462285 %\n",
    "\n",
    "Regressor com os parâmetros:\n",
    "\n",
    "DecisionTreeRegressor(ccp_alpha=0.0, criterion='mse',\n",
    "                                        max_depth=8, max_features='auto',\n",
    "                                        max_leaf_nodes=None,\n",
    "                                        min_impurity_decrease=0.0,\n",
    "                                        min_impurity_split=None,\n",
    "                                        min_samples_leaf=1, min_samples_split=2,\n",
    "                                        min_weight_fraction_leaf=0.0,\n",
    "                                        presort='deprecated', random_state=None,\n",
    "                                        splitter='best')"
   ]
  },
  {
   "cell_type": "code",
   "execution_count": 27,
   "metadata": {
    "colab": {},
    "colab_type": "code",
    "id": "_oU6M0PqB6K9"
   },
   "outputs": [],
   "source": [
    "from sklearn.tree import DecisionTreeRegressor\n",
    "dt = DecisionTreeRegressor(ccp_alpha=0.0, criterion='mse',\n",
    "                                        max_depth=8, max_features='auto',\n",
    "                                        max_leaf_nodes=None,\n",
    "                                        min_impurity_decrease=0.0,\n",
    "                                        min_impurity_split=None,\n",
    "                                        min_samples_leaf=1, min_samples_split=2,\n",
    "                                        min_weight_fraction_leaf=0.0,\n",
    "                                        presort='deprecated', random_state=None,\n",
    "                                        splitter='best')\n",
    "# Treinando o nosso modelo através do fit:\n",
    "dt.fit(x_train_scaler, y_train_encoder)\n",
    "# Realizando a predição das notas da nossa base test:\n",
    "y_pred_test = dt.predict(x_test_scaler)\n",
    "answer = pd.DataFrame()\n",
    "answer['NU_INSCRICAO'] = df_test.NU_INSCRICAO\n",
    "answer['NU_NOTA_MT'] = y_pred_test\n",
    "answer.to_csv('answer_dt.csv', index=False)"
   ]
  },
  {
   "cell_type": "code",
   "execution_count": 28,
   "metadata": {
    "colab": {
     "base_uri": "https://localhost:8080/",
     "height": 51
    },
    "colab_type": "code",
    "id": "klLRWi2Pg8yY",
    "outputId": "d0b78620-808f-4ad1-cf53-c4077446d1f8"
   },
   "outputs": [
    {
     "name": "stdout",
     "output_type": "stream",
     "text": [
      "[0.94727513 0.9554578  0.96070499 0.92811386 0.93995893]\n",
      "Accuracy: 0.95 (+/- 0.02)\n"
     ]
    }
   ],
   "source": [
    "from sklearn.model_selection import cross_val_score\n",
    "scores = cross_val_score(dt, x_test_scaler, y_pred_test, cv=5)\n",
    "print(scores)\n",
    "print(\"Accuracy: %0.2f (+/- %0.2f)\" % (scores.mean(), scores.std() * 2))"
   ]
  },
  {
   "cell_type": "markdown",
   "metadata": {
    "colab_type": "text",
    "id": "sez8NdITiJm7"
   },
   "source": [
    "##O terceiro a ser testado é o RandomForest"
   ]
  },
  {
   "cell_type": "code",
   "execution_count": 29,
   "metadata": {
    "colab": {
     "base_uri": "https://localhost:8080/",
     "height": 1000
    },
    "colab_type": "code",
    "id": "Yf_2BcPUlOwC",
    "outputId": "81b547d4-b3ea-4b4f-944a-a27f86bfbafa"
   },
   "outputs": [
    {
     "name": "stdout",
     "output_type": "stream",
     "text": [
      "Fitting 5 folds for each of 20 candidates, totalling 100 fits\n"
     ]
    },
    {
     "name": "stderr",
     "output_type": "stream",
     "text": [
      "[Parallel(n_jobs=-1)]: Using backend LokyBackend with 4 concurrent workers.\n",
      "[Parallel(n_jobs=-1)]: Batch computation too fast (0.1676s.) Setting batch_size=2.\n",
      "[Parallel(n_jobs=-1)]: Done   5 tasks      | elapsed:    0.5s\n",
      "[Parallel(n_jobs=-1)]: Done  12 tasks      | elapsed:    1.7s\n",
      "[Parallel(n_jobs=-1)]: Done  26 tasks      | elapsed:    6.0s\n",
      "[Parallel(n_jobs=-1)]: Batch computation too slow (2.3835s.) Setting batch_size=1.\n",
      "[Parallel(n_jobs=-1)]: Done  37 tasks      | elapsed:   16.6s\n",
      "[Parallel(n_jobs=-1)]: Done  46 tasks      | elapsed:   24.0s\n",
      "[Parallel(n_jobs=-1)]: Done  55 tasks      | elapsed:  9.1min\n",
      "[Parallel(n_jobs=-1)]: Done  68 tasks      | elapsed: 27.3min\n",
      "[Parallel(n_jobs=-1)]: Done  80 tasks      | elapsed: 27.4min\n",
      "[Parallel(n_jobs=-1)]: Done  93 tasks      | elapsed: 27.9min\n",
      "[Parallel(n_jobs=-1)]: Done 100 out of 100 | elapsed: 29.1min finished\n",
      "[Parallel(n_jobs=-1)]: Using backend ThreadingBackend with 4 concurrent workers.\n"
     ]
    },
    {
     "name": "stdout",
     "output_type": "stream",
     "text": [
      "building tree 1 of 100building tree 2 of 100\n",
      "\n",
      "building tree 3 of 100building tree 4 of 100\n",
      "\n",
      "building tree 5 of 100\n",
      "building tree 6 of 100\n",
      "building tree 7 of 100\n",
      "building tree 8 of 100\n",
      "building tree 9 of 100\n"
     ]
    },
    {
     "name": "stderr",
     "output_type": "stream",
     "text": [
      "[Parallel(n_jobs=-1)]: Done   5 tasks      | elapsed:    0.5s\n"
     ]
    },
    {
     "name": "stdout",
     "output_type": "stream",
     "text": [
      "building tree 10 of 100\n",
      "building tree 11 of 100\n",
      "building tree 12 of 100\n",
      "building tree 13 of 100\n"
     ]
    },
    {
     "name": "stderr",
     "output_type": "stream",
     "text": [
      "[Parallel(n_jobs=-1)]: Done  10 tasks      | elapsed:    0.9s\n"
     ]
    },
    {
     "name": "stdout",
     "output_type": "stream",
     "text": [
      "building tree 14 of 100\n",
      "building tree 15 of 100\n",
      "building tree 16 of 100\n",
      "building tree 17 of 100\n",
      "building tree 18 of 100building tree 19 of 100\n",
      "\n",
      "building tree 20 of 100\n",
      "building tree 21 of 100\n",
      "building tree 22 of 100\n"
     ]
    },
    {
     "name": "stderr",
     "output_type": "stream",
     "text": [
      "[Parallel(n_jobs=-1)]: Done  17 tasks      | elapsed:    1.2s\n"
     ]
    },
    {
     "name": "stdout",
     "output_type": "stream",
     "text": [
      "building tree 23 of 100\n",
      "building tree 24 of 100\n",
      "building tree 25 of 100\n",
      "building tree 26 of 100\n",
      "building tree 27 of 100\n",
      "building tree 28 of 100\n",
      "building tree 29 of 100\n",
      "building tree 30 of 100\n"
     ]
    },
    {
     "name": "stderr",
     "output_type": "stream",
     "text": [
      "[Parallel(n_jobs=-1)]: Done  24 tasks      | elapsed:    1.7s\n"
     ]
    },
    {
     "name": "stdout",
     "output_type": "stream",
     "text": [
      "building tree 31 of 100\n",
      "building tree 32 of 100\n",
      "building tree 33 of 100\n",
      "building tree 34 of 100\n",
      "building tree 35 of 100\n",
      "building tree 36 of 100\n",
      "building tree 37 of 100\n",
      "building tree 38 of 100\n",
      "building tree 39 of 100\n"
     ]
    },
    {
     "name": "stderr",
     "output_type": "stream",
     "text": [
      "[Parallel(n_jobs=-1)]: Done  33 tasks      | elapsed:    2.1s\n"
     ]
    },
    {
     "name": "stdout",
     "output_type": "stream",
     "text": [
      "building tree 40 of 100\n",
      "building tree 41 of 100\n",
      "building tree 42 of 100\n",
      "building tree 43 of 100\n",
      "building tree 44 of 100\n",
      "building tree 45 of 100\n",
      "building tree 46 of 100\n",
      "building tree 47 of 100\n",
      "building tree 48 of 100\n",
      "building tree 49 of 100\n"
     ]
    },
    {
     "name": "stderr",
     "output_type": "stream",
     "text": [
      "[Parallel(n_jobs=-1)]: Done  42 tasks      | elapsed:    2.8s\n"
     ]
    },
    {
     "name": "stdout",
     "output_type": "stream",
     "text": [
      "building tree 50 of 100\n",
      "building tree 51 of 100\n",
      "building tree 52 of 100\n",
      "building tree 53 of 100\n",
      "building tree 54 of 100\n",
      "building tree 55 of 100\n",
      "building tree 56 of 100\n",
      "building tree 57 of 100\n",
      "building tree 58 of 100\n"
     ]
    },
    {
     "name": "stderr",
     "output_type": "stream",
     "text": [
      "[Parallel(n_jobs=-1)]: Done  53 tasks      | elapsed:    3.4s\n"
     ]
    },
    {
     "name": "stdout",
     "output_type": "stream",
     "text": [
      "building tree 59 of 100\n",
      "building tree 60 of 100\n",
      "building tree 61 of 100\n",
      "building tree 62 of 100\n",
      "building tree 63 of 100\n",
      "building tree 64 of 100\n",
      "building tree 65 of 100\n",
      "building tree 66 of 100\n",
      "building tree 67 of 100\n",
      "building tree 68 of 100\n"
     ]
    },
    {
     "name": "stderr",
     "output_type": "stream",
     "text": [
      "[Parallel(n_jobs=-1)]: Done  64 tasks      | elapsed:    4.0s\n"
     ]
    },
    {
     "name": "stdout",
     "output_type": "stream",
     "text": [
      "building tree 69 of 100\n",
      "building tree 70 of 100\n",
      "building tree 71 of 100\n",
      "building tree 72 of 100\n",
      "building tree 73 of 100\n",
      "building tree 74 of 100\n",
      "building tree 75 of 100\n",
      "building tree 76 of 100\n",
      "building tree 77 of 100\n",
      "building tree 78 of 100\n",
      "building tree 79 of 100building tree 80 of 100\n",
      "\n",
      "building tree 81 of 100\n",
      "building tree 82 of 100\n",
      "building tree 83 of 100\n",
      "building tree 84 of 100\n"
     ]
    },
    {
     "name": "stderr",
     "output_type": "stream",
     "text": [
      "[Parallel(n_jobs=-1)]: Done  77 tasks      | elapsed:    4.9s\n"
     ]
    },
    {
     "name": "stdout",
     "output_type": "stream",
     "text": [
      "building tree 85 of 100\n",
      "building tree 86 of 100\n",
      "building tree 87 of 100\n",
      "building tree 88 of 100\n",
      "building tree 89 of 100\n",
      "building tree 90 of 100\n",
      "building tree 91 of 100\n",
      "building tree 92 of 100\n",
      "building tree 93 of 100\n"
     ]
    },
    {
     "name": "stderr",
     "output_type": "stream",
     "text": [
      "[Parallel(n_jobs=-1)]: Done  90 tasks      | elapsed:    5.5s\n"
     ]
    },
    {
     "name": "stdout",
     "output_type": "stream",
     "text": [
      "building tree 94 of 100\n",
      "building tree 95 of 100\n",
      "building tree 96 of 100\n",
      "building tree 97 of 100\n",
      "building tree 98 of 100\n",
      "building tree 99 of 100\n",
      "building tree 100 of 100\n"
     ]
    },
    {
     "name": "stderr",
     "output_type": "stream",
     "text": [
      "[Parallel(n_jobs=-1)]: Done 100 out of 100 | elapsed:    5.9s finished\n"
     ]
    },
    {
     "data": {
      "text/plain": [
       "(0.9253931841189722,\n",
       " {'rf__verbose': 10,\n",
       "  'rf__random_state': 0,\n",
       "  'rf__n_jobs': -1,\n",
       "  'rf__n_estimators': 100,\n",
       "  'rf__min_samples_split': 2,\n",
       "  'rf__min_samples_leaf': 1,\n",
       "  'rf__max_features': 'auto',\n",
       "  'rf__max_depth': 8,\n",
       "  'rf__criterion': 'mse'},\n",
       " Pipeline(steps=[('scaler', StandardScaler()),\n",
       "                 ('rf',\n",
       "                  RandomForestRegressor(max_depth=8, n_jobs=-1, random_state=0,\n",
       "                                        verbose=10))]))"
      ]
     },
     "execution_count": 29,
     "metadata": {},
     "output_type": "execute_result"
    }
   ],
   "source": [
    "from sklearn.pipeline import Pipeline\n",
    "from sklearn.model_selection import RandomizedSearchCV\n",
    "from sklearn.ensemble import RandomForestRegressor\n",
    "\n",
    "rf = RandomForestRegressor()\n",
    "clf = Pipeline([('scaler', sc), ('rf', rf)])\n",
    "\n",
    "random_grid = {\n",
    "    'rf__criterion': ['mse', 'friedman_mse', 'mae'],\n",
    "    'rf__n_estimators': [10, 100, 200, 300],\n",
    "    'rf__max_depth': [None, 5, 8, 20],\n",
    "    'rf__min_samples_split': [0, 2, 5],\n",
    "    'rf__min_samples_leaf': [0, 1, 5, 10],\n",
    "    'rf__max_features': [0, 'auto', 'sqrt', 'log2'],\n",
    "    'rf__n_jobs': [-1],\n",
    "    'rf__verbose': [10],\n",
    "    'rf__random_state': [0, None, 5, 42]\n",
    "}\n",
    "\n",
    "search = RandomizedSearchCV(estimator = clf, param_distributions = random_grid, \n",
    "                            n_iter = 20, cv = 5, verbose = 10, n_jobs = -1)\n",
    "\n",
    "results = search.fit(x_train, y_train)\n",
    "\n",
    "results.best_score_, results.best_params_, results.best_estimator_"
   ]
  },
  {
   "cell_type": "markdown",
   "metadata": {
    "colab_type": "text",
    "id": "-o9AaGStAtuy"
   },
   "source": [
    "0.9254360637203654 %\n",
    "\n",
    "Regressor com os parâmetros:\n",
    "\n",
    "RandomForestRegressor(bootstrap=True, ccp_alpha=0.0,\n",
    "                                        criterion='friedman_mse', max_depth=20,\n",
    "                                        max_features='auto', max_leaf_nodes=None,\n",
    "                                        max_samples=None,\n",
    "                                        min_impurity_decrease=0.0,\n",
    "                                        min_impurity_split=None,\n",
    "                                        min_samples_leaf=5, min_samples_split=5,\n",
    "                                        min_weight_fraction_leaf=0.0,\n",
    "                                        n_estimators=200, n_jobs=-1,\n",
    "                                        oob_score=False, random_state=5,\n",
    "                                        verbose=10, warm_start=False)"
   ]
  },
  {
   "cell_type": "code",
   "execution_count": 30,
   "metadata": {
    "colab": {
     "base_uri": "https://localhost:8080/",
     "height": 1000
    },
    "colab_type": "code",
    "id": "QXnxhslZCVlS",
    "outputId": "f46ec84e-629d-4a1c-b89d-4fbe33957f64"
   },
   "outputs": [
    {
     "name": "stderr",
     "output_type": "stream",
     "text": [
      "[Parallel(n_jobs=-1)]: Using backend ThreadingBackend with 4 concurrent workers.\n"
     ]
    },
    {
     "name": "stdout",
     "output_type": "stream",
     "text": [
      "building tree 1 of 200building tree 2 of 200building tree 3 of 200\n",
      "\n",
      "building tree 4 of 200\n",
      "\n",
      "building tree 5 of 200\n",
      "building tree 6 of 200\n",
      "building tree 7 of 200\n",
      "building tree 8 of 200\n"
     ]
    },
    {
     "name": "stderr",
     "output_type": "stream",
     "text": [
      "[Parallel(n_jobs=-1)]: Done   5 tasks      | elapsed:    0.8s\n"
     ]
    },
    {
     "name": "stdout",
     "output_type": "stream",
     "text": [
      "building tree 9 of 200\n",
      "building tree 10 of 200\n",
      "building tree 11 of 200\n",
      "building tree 12 of 200\n",
      "building tree 13 of 200\n",
      "building tree 14 of 200\n",
      "building tree 15 of 200\n",
      "building tree 16 of 200\n"
     ]
    },
    {
     "name": "stderr",
     "output_type": "stream",
     "text": [
      "[Parallel(n_jobs=-1)]: Done  10 tasks      | elapsed:    1.2s\n"
     ]
    },
    {
     "name": "stdout",
     "output_type": "stream",
     "text": [
      "building tree 17 of 200\n",
      "building tree 18 of 200\n",
      "building tree 19 of 200\n",
      "building tree 20 of 200\n",
      "building tree 21 of 200\n",
      "building tree 22 of 200\n",
      "building tree 23 of 200\n",
      "building tree 24 of 200\n"
     ]
    },
    {
     "name": "stderr",
     "output_type": "stream",
     "text": [
      "[Parallel(n_jobs=-1)]: Done  17 tasks      | elapsed:    1.9s\n"
     ]
    },
    {
     "name": "stdout",
     "output_type": "stream",
     "text": [
      "building tree 25 of 200\n",
      "building tree 26 of 200\n",
      "building tree 27 of 200\n",
      "building tree 28 of 200\n"
     ]
    },
    {
     "name": "stderr",
     "output_type": "stream",
     "text": [
      "[Parallel(n_jobs=-1)]: Done  24 tasks      | elapsed:    2.6s\n"
     ]
    },
    {
     "name": "stdout",
     "output_type": "stream",
     "text": [
      "building tree 29 of 200\n",
      "building tree 30 of 200\n",
      "building tree 31 of 200\n",
      "building tree 32 of 200\n",
      "building tree 33 of 200\n",
      "building tree 34 of 200\n",
      "building tree 35 of 200\n",
      "building tree 36 of 200\n",
      "building tree 37 of 200\n",
      "building tree 38 of 200\n"
     ]
    },
    {
     "name": "stderr",
     "output_type": "stream",
     "text": [
      "[Parallel(n_jobs=-1)]: Done  33 tasks      | elapsed:    3.5s\n"
     ]
    },
    {
     "name": "stdout",
     "output_type": "stream",
     "text": [
      "building tree 39 of 200\n",
      "building tree 40 of 200\n",
      "building tree 41 of 200\n",
      "building tree 42 of 200\n",
      "building tree 43 of 200\n",
      "building tree 44 of 200\n",
      "building tree 45 of 200\n",
      "building tree 46 of 200\n",
      "building tree 47 of 200\n",
      "building tree 48 of 200\n"
     ]
    },
    {
     "name": "stderr",
     "output_type": "stream",
     "text": [
      "[Parallel(n_jobs=-1)]: Done  42 tasks      | elapsed:    4.2s\n"
     ]
    },
    {
     "name": "stdout",
     "output_type": "stream",
     "text": [
      "building tree 49 of 200\n",
      "building tree 50 of 200\n",
      "building tree 51 of 200\n",
      "building tree 52 of 200\n",
      "building tree 53 of 200\n",
      "building tree 54 of 200\n",
      "building tree 55 of 200\n",
      "building tree 56 of 200\n"
     ]
    },
    {
     "name": "stderr",
     "output_type": "stream",
     "text": [
      "[Parallel(n_jobs=-1)]: Done  53 tasks      | elapsed:    5.5s\n"
     ]
    },
    {
     "name": "stdout",
     "output_type": "stream",
     "text": [
      "building tree 57 of 200\n",
      "building tree 58 of 200\n",
      "building tree 59 of 200\n",
      "building tree 60 of 200\n",
      "building tree 61 of 200\n",
      "building tree 62 of 200\n",
      "building tree 63 of 200\n",
      "building tree 64 of 200\n",
      "building tree 65 of 200\n",
      "building tree 66 of 200\n",
      "building tree 67 of 200\n",
      "building tree 68 of 200\n",
      "building tree 69 of 200\n"
     ]
    },
    {
     "name": "stderr",
     "output_type": "stream",
     "text": [
      "[Parallel(n_jobs=-1)]: Done  64 tasks      | elapsed:    6.4s\n"
     ]
    },
    {
     "name": "stdout",
     "output_type": "stream",
     "text": [
      "building tree 70 of 200\n",
      "building tree 71 of 200\n",
      "building tree 72 of 200\n",
      "building tree 73 of 200\n",
      "building tree 74 of 200\n",
      "building tree 75 of 200\n",
      "building tree 76 of 200\n",
      "building tree 77 of 200\n",
      "building tree 78 of 200\n",
      "building tree 79 of 200\n",
      "building tree 80 of 200\n"
     ]
    },
    {
     "name": "stderr",
     "output_type": "stream",
     "text": [
      "[Parallel(n_jobs=-1)]: Done  77 tasks      | elapsed:    7.6s\n"
     ]
    },
    {
     "name": "stdout",
     "output_type": "stream",
     "text": [
      "building tree 81 of 200\n",
      "building tree 82 of 200\n",
      "building tree 83 of 200\n",
      "building tree 84 of 200\n",
      "building tree 85 of 200\n",
      "building tree 86 of 200\n",
      "building tree 87 of 200\n",
      "building tree 88 of 200\n",
      "building tree 89 of 200\n",
      "building tree 90 of 200\n",
      "building tree 91 of 200\n",
      "building tree 92 of 200\n",
      "building tree 93 of 200\n",
      "building tree 94 of 200\n"
     ]
    },
    {
     "name": "stderr",
     "output_type": "stream",
     "text": [
      "[Parallel(n_jobs=-1)]: Done  90 tasks      | elapsed:    8.8s\n"
     ]
    },
    {
     "name": "stdout",
     "output_type": "stream",
     "text": [
      "building tree 95 of 200\n",
      "building tree 96 of 200\n",
      "building tree 97 of 200\n",
      "building tree 98 of 200\n",
      "building tree 99 of 200\n",
      "building tree 100 of 200\n",
      "building tree 101 of 200\n",
      "building tree 102 of 200\n",
      "building tree 103 of 200\n",
      "building tree 104 of 200\n",
      "building tree 105 of 200\n",
      "building tree 106 of 200\n",
      "building tree 107 of 200\n",
      "building tree 108 of 200\n",
      "building tree 109 of 200\n"
     ]
    },
    {
     "name": "stderr",
     "output_type": "stream",
     "text": [
      "[Parallel(n_jobs=-1)]: Done 105 tasks      | elapsed:   10.2s\n"
     ]
    },
    {
     "name": "stdout",
     "output_type": "stream",
     "text": [
      "building tree 110 of 200\n",
      "building tree 111 of 200\n",
      "building tree 112 of 200\n",
      "building tree 113 of 200\n",
      "building tree 114 of 200\n",
      "building tree 115 of 200\n",
      "building tree 116 of 200\n",
      "building tree 117 of 200\n",
      "building tree 118 of 200\n",
      "building tree 119 of 200\n",
      "building tree 120 of 200\n",
      "building tree 121 of 200\n",
      "building tree 122 of 200\n",
      "building tree 123 of 200\n",
      "building tree 124 of 200\n",
      "building tree 125 of 200\n",
      "building tree 126 of 200\n"
     ]
    },
    {
     "name": "stderr",
     "output_type": "stream",
     "text": [
      "[Parallel(n_jobs=-1)]: Done 120 tasks      | elapsed:   11.9s\n"
     ]
    },
    {
     "name": "stdout",
     "output_type": "stream",
     "text": [
      "building tree 127 of 200\n",
      "building tree 128 of 200\n",
      "building tree 129 of 200\n",
      "building tree 130 of 200\n",
      "building tree 131 of 200\n",
      "building tree 132 of 200\n",
      "building tree 133 of 200\n",
      "building tree 134 of 200\n",
      "building tree 135 of 200\n",
      "building tree 136 of 200\n",
      "building tree 137 of 200\n",
      "building tree 138 of 200\n",
      "building tree 139 of 200\n",
      "building tree 140 of 200\n",
      "building tree 141 of 200\n",
      "building tree 142 of 200\n",
      "building tree 143 of 200\n"
     ]
    },
    {
     "name": "stderr",
     "output_type": "stream",
     "text": [
      "[Parallel(n_jobs=-1)]: Done 137 tasks      | elapsed:   13.5s\n"
     ]
    },
    {
     "name": "stdout",
     "output_type": "stream",
     "text": [
      "building tree 144 of 200\n",
      "building tree 145 of 200\n",
      "building tree 146 of 200\n",
      "building tree 147 of 200\n",
      "building tree 148 of 200\n",
      "building tree 149 of 200\n",
      "building tree 150 of 200\n",
      "building tree 151 of 200\n",
      "building tree 152 of 200\n",
      "building tree 153 of 200\n",
      "building tree 154 of 200\n",
      "building tree 155 of 200\n",
      "building tree 156 of 200\n",
      "building tree 157 of 200\n",
      "building tree 158 of 200\n",
      "building tree 159 of 200\n",
      "building tree 160 of 200\n"
     ]
    },
    {
     "name": "stderr",
     "output_type": "stream",
     "text": [
      "[Parallel(n_jobs=-1)]: Done 154 tasks      | elapsed:   15.0s\n"
     ]
    },
    {
     "name": "stdout",
     "output_type": "stream",
     "text": [
      "building tree 161 of 200\n",
      "building tree 162 of 200\n",
      "building tree 163 of 200\n",
      "building tree 164 of 200\n",
      "building tree 165 of 200\n",
      "building tree 166 of 200\n",
      "building tree 167 of 200\n",
      "building tree 168 of 200\n",
      "building tree 169 of 200\n",
      "building tree 170 of 200\n",
      "building tree 171 of 200\n",
      "building tree 172 of 200\n",
      "building tree 173 of 200\n",
      "building tree 174 of 200\n",
      "building tree 175 of 200\n",
      "building tree 176 of 200\n",
      "building tree 177 of 200\n"
     ]
    },
    {
     "name": "stderr",
     "output_type": "stream",
     "text": [
      "[Parallel(n_jobs=-1)]: Done 173 tasks      | elapsed:   16.9s\n"
     ]
    },
    {
     "name": "stdout",
     "output_type": "stream",
     "text": [
      "building tree 178 of 200\n",
      "building tree 179 of 200\n",
      "building tree 180 of 200\n",
      "building tree 181 of 200\n",
      "building tree 182 of 200\n",
      "building tree 183 of 200\n",
      "building tree 184 of 200\n",
      "building tree 185 of 200\n",
      "building tree 186 of 200building tree 187 of 200\n",
      "\n",
      "building tree 188 of 200\n",
      "building tree 189 of 200\n",
      "building tree 190 of 200\n",
      "building tree 191 of 200\n",
      "building tree 192 of 200\n",
      "building tree 193 of 200\n",
      "building tree 194 of 200\n",
      "building tree 195 of 200\n",
      "building tree 196 of 200\n",
      "building tree 197 of 200\n",
      "building tree 198 of 200\n"
     ]
    },
    {
     "name": "stderr",
     "output_type": "stream",
     "text": [
      "[Parallel(n_jobs=-1)]: Done 192 tasks      | elapsed:   18.7s\n"
     ]
    },
    {
     "name": "stdout",
     "output_type": "stream",
     "text": [
      "building tree 199 of 200\n",
      "building tree 200 of 200\n"
     ]
    },
    {
     "name": "stderr",
     "output_type": "stream",
     "text": [
      "[Parallel(n_jobs=-1)]: Done 200 out of 200 | elapsed:   19.4s finished\n",
      "[Parallel(n_jobs=4)]: Using backend ThreadingBackend with 4 concurrent workers.\n",
      "[Parallel(n_jobs=4)]: Done   5 tasks      | elapsed:    0.0s\n",
      "[Parallel(n_jobs=4)]: Done  10 tasks      | elapsed:    0.0s\n",
      "[Parallel(n_jobs=4)]: Done  17 tasks      | elapsed:    0.0s\n",
      "[Parallel(n_jobs=4)]: Done  24 tasks      | elapsed:    0.0s\n",
      "[Parallel(n_jobs=4)]: Done  33 tasks      | elapsed:    0.1s\n",
      "[Parallel(n_jobs=4)]: Done  42 tasks      | elapsed:    0.1s\n",
      "[Parallel(n_jobs=4)]: Done  53 tasks      | elapsed:    0.1s\n",
      "[Parallel(n_jobs=4)]: Done  64 tasks      | elapsed:    0.1s\n",
      "[Parallel(n_jobs=4)]: Done  77 tasks      | elapsed:    0.1s\n",
      "[Parallel(n_jobs=4)]: Done  90 tasks      | elapsed:    0.1s\n",
      "[Parallel(n_jobs=4)]: Done 105 tasks      | elapsed:    0.1s\n",
      "[Parallel(n_jobs=4)]: Done 120 tasks      | elapsed:    0.2s\n",
      "[Parallel(n_jobs=4)]: Done 137 tasks      | elapsed:    0.2s\n",
      "[Parallel(n_jobs=4)]: Done 154 tasks      | elapsed:    0.2s\n",
      "[Parallel(n_jobs=4)]: Done 173 tasks      | elapsed:    0.2s\n",
      "[Parallel(n_jobs=4)]: Done 192 tasks      | elapsed:    0.2s\n",
      "[Parallel(n_jobs=4)]: Done 200 out of 200 | elapsed:    0.2s finished\n"
     ]
    }
   ],
   "source": [
    "from sklearn.ensemble import RandomForestRegressor\n",
    "rf = RandomForestRegressor(bootstrap=True, ccp_alpha=0.0,\n",
    "                                        criterion='friedman_mse', max_depth=20,\n",
    "                                        max_features='auto', max_leaf_nodes=None,\n",
    "                                        max_samples=None,\n",
    "                                        min_impurity_decrease=0.0,\n",
    "                                        min_impurity_split=None,\n",
    "                                        min_samples_leaf=5, min_samples_split=5,\n",
    "                                        min_weight_fraction_leaf=0.0,\n",
    "                                        n_estimators=200, n_jobs=-1,\n",
    "                                        oob_score=False, random_state=5,\n",
    "                                        verbose=10, warm_start=False)\n",
    "# Treinando o nosso modelo através do fit:\n",
    "rf.fit(x_train_scaler, y_train_encoder)\n",
    "# Realizando a predição das notas da nossa base test:\n",
    "y_pred_test = rf.predict(x_test_scaler)\n",
    "answer = pd.DataFrame()\n",
    "answer['NU_INSCRICAO'] = df_test.NU_INSCRICAO\n",
    "answer['NU_NOTA_MT'] = y_pred_test\n",
    "answer.to_csv('answer_rf.csv', index=False)"
   ]
  },
  {
   "cell_type": "code",
   "execution_count": 31,
   "metadata": {
    "colab": {
     "base_uri": "https://localhost:8080/",
     "height": 1000
    },
    "colab_type": "code",
    "id": "BJkw8v2RgyXn",
    "outputId": "5845c0ba-ae8a-4c95-8785-1d90ca5c1cf2"
   },
   "outputs": [
    {
     "name": "stderr",
     "output_type": "stream",
     "text": [
      "[Parallel(n_jobs=-1)]: Using backend LokyBackend with 4 concurrent workers.\n",
      "[Parallel(n_jobs=-1)]: Batch computation too fast (0.1072s.) Setting batch_size=2.\n",
      "[Parallel(n_jobs=-1)]: Done   5 tasks      | elapsed:    0.4s\n",
      "[Parallel(n_jobs=-1)]: Done  12 tasks      | elapsed:    0.7s\n",
      "[Parallel(n_jobs=-1)]: Done  26 tasks      | elapsed:    0.9s\n",
      "[Parallel(n_jobs=-1)]: Done  40 tasks      | elapsed:    1.2s\n",
      "[Parallel(n_jobs=-1)]: Done  58 tasks      | elapsed:    1.6s\n",
      "[Parallel(n_jobs=-1)]: Done  76 tasks      | elapsed:    1.9s\n",
      "[Parallel(n_jobs=-1)]: Done  98 tasks      | elapsed:    2.3s\n",
      "[Parallel(n_jobs=-1)]: Done 120 tasks      | elapsed:    3.0s\n",
      "[Parallel(n_jobs=-1)]: Done 146 tasks      | elapsed:    3.4s\n",
      "[Parallel(n_jobs=-1)]: Done 172 tasks      | elapsed:    3.9s\n",
      "[Parallel(n_jobs=-1)]: Done 200 out of 200 | elapsed:    4.5s finished\n",
      "[Parallel(n_jobs=4)]: Using backend ThreadingBackend with 4 concurrent workers.\n",
      "[Parallel(n_jobs=4)]: Done   5 tasks      | elapsed:    0.0s\n",
      "[Parallel(n_jobs=4)]: Done  10 tasks      | elapsed:    0.0s\n",
      "[Parallel(n_jobs=4)]: Done  17 tasks      | elapsed:    0.0s\n",
      "[Parallel(n_jobs=4)]: Done  24 tasks      | elapsed:    0.0s\n",
      "[Parallel(n_jobs=4)]: Done  33 tasks      | elapsed:    0.0s\n",
      "[Parallel(n_jobs=4)]: Done  42 tasks      | elapsed:    0.1s\n",
      "[Parallel(n_jobs=4)]: Done  53 tasks      | elapsed:    0.1s\n",
      "[Parallel(n_jobs=4)]: Done  64 tasks      | elapsed:    0.1s\n",
      "[Parallel(n_jobs=4)]: Done  77 tasks      | elapsed:    0.1s\n",
      "[Parallel(n_jobs=4)]: Done  90 tasks      | elapsed:    0.1s\n",
      "[Parallel(n_jobs=4)]: Done 105 tasks      | elapsed:    0.1s\n",
      "[Parallel(n_jobs=4)]: Done 120 tasks      | elapsed:    0.2s\n",
      "[Parallel(n_jobs=4)]: Done 137 tasks      | elapsed:    0.2s\n",
      "[Parallel(n_jobs=4)]: Done 154 tasks      | elapsed:    0.2s\n"
     ]
    },
    {
     "name": "stdout",
     "output_type": "stream",
     "text": [
      "Using ThreadingBackend as joblib.Parallel backend instead of LokyBackend as the latter does not provide shared memory semantics.\n"
     ]
    },
    {
     "name": "stderr",
     "output_type": "stream",
     "text": [
      "[Parallel(n_jobs=4)]: Done 173 tasks      | elapsed:    0.2s\n",
      "[Parallel(n_jobs=4)]: Done 192 tasks      | elapsed:    0.2s\n",
      "[Parallel(n_jobs=4)]: Done 200 out of 200 | elapsed:    0.2s finished\n",
      "[Parallel(n_jobs=-1)]: Using backend LokyBackend with 4 concurrent workers.\n",
      "[Parallel(n_jobs=-1)]: Batch computation too fast (0.0459s.) Setting batch_size=2.\n",
      "[Parallel(n_jobs=-1)]: Done   5 tasks      | elapsed:    0.2s\n",
      "[Parallel(n_jobs=-1)]: Done  12 tasks      | elapsed:    0.4s\n",
      "[Parallel(n_jobs=-1)]: Done  26 tasks      | elapsed:    0.7s\n",
      "[Parallel(n_jobs=-1)]: Done  40 tasks      | elapsed:    1.0s\n",
      "[Parallel(n_jobs=-1)]: Done  58 tasks      | elapsed:    1.6s\n",
      "[Parallel(n_jobs=-1)]: Done  76 tasks      | elapsed:    2.0s\n",
      "[Parallel(n_jobs=-1)]: Done  98 tasks      | elapsed:    2.4s\n",
      "[Parallel(n_jobs=-1)]: Done 120 tasks      | elapsed:    3.0s\n",
      "[Parallel(n_jobs=-1)]: Done 146 tasks      | elapsed:    3.7s\n",
      "[Parallel(n_jobs=-1)]: Done 172 tasks      | elapsed:    4.3s\n",
      "[Parallel(n_jobs=-1)]: Done 200 out of 200 | elapsed:    4.7s finished\n",
      "[Parallel(n_jobs=4)]: Using backend ThreadingBackend with 4 concurrent workers.\n",
      "[Parallel(n_jobs=4)]: Done   5 tasks      | elapsed:    0.0s\n",
      "[Parallel(n_jobs=4)]: Done  10 tasks      | elapsed:    0.0s\n",
      "[Parallel(n_jobs=4)]: Done  17 tasks      | elapsed:    0.0s\n",
      "[Parallel(n_jobs=4)]: Done  24 tasks      | elapsed:    0.0s\n",
      "[Parallel(n_jobs=4)]: Done  33 tasks      | elapsed:    0.0s\n",
      "[Parallel(n_jobs=4)]: Done  42 tasks      | elapsed:    0.0s\n",
      "[Parallel(n_jobs=4)]: Done  53 tasks      | elapsed:    0.0s\n",
      "[Parallel(n_jobs=4)]: Done  64 tasks      | elapsed:    0.1s\n",
      "[Parallel(n_jobs=4)]: Done  77 tasks      | elapsed:    0.1s\n",
      "[Parallel(n_jobs=4)]: Done  90 tasks      | elapsed:    0.1s\n",
      "[Parallel(n_jobs=4)]: Done 105 tasks      | elapsed:    0.1s\n",
      "[Parallel(n_jobs=4)]: Done 120 tasks      | elapsed:    0.1s\n",
      "[Parallel(n_jobs=4)]: Done 137 tasks      | elapsed:    0.1s\n",
      "[Parallel(n_jobs=4)]: Done 154 tasks      | elapsed:    0.1s\n",
      "[Parallel(n_jobs=4)]: Done 173 tasks      | elapsed:    0.1s\n",
      "[Parallel(n_jobs=4)]: Done 192 tasks      | elapsed:    0.1s\n",
      "[Parallel(n_jobs=4)]: Done 200 out of 200 | elapsed:    0.1s finished\n"
     ]
    },
    {
     "name": "stdout",
     "output_type": "stream",
     "text": [
      "Using ThreadingBackend as joblib.Parallel backend instead of LokyBackend as the latter does not provide shared memory semantics.\n"
     ]
    },
    {
     "name": "stderr",
     "output_type": "stream",
     "text": [
      "[Parallel(n_jobs=-1)]: Using backend LokyBackend with 4 concurrent workers.\n",
      "[Parallel(n_jobs=-1)]: Batch computation too fast (0.0562s.) Setting batch_size=2.\n",
      "[Parallel(n_jobs=-1)]: Done   5 tasks      | elapsed:    0.3s\n",
      "[Parallel(n_jobs=-1)]: Done  12 tasks      | elapsed:    0.6s\n",
      "[Parallel(n_jobs=-1)]: Done  26 tasks      | elapsed:    0.9s\n",
      "[Parallel(n_jobs=-1)]: Done  40 tasks      | elapsed:    1.2s\n",
      "[Parallel(n_jobs=-1)]: Done  58 tasks      | elapsed:    1.4s\n",
      "[Parallel(n_jobs=-1)]: Done  76 tasks      | elapsed:    2.0s\n",
      "[Parallel(n_jobs=-1)]: Done  98 tasks      | elapsed:    2.6s\n",
      "[Parallel(n_jobs=-1)]: Done 120 tasks      | elapsed:    3.0s\n",
      "[Parallel(n_jobs=-1)]: Done 146 tasks      | elapsed:    3.5s\n",
      "[Parallel(n_jobs=-1)]: Done 172 tasks      | elapsed:    4.2s\n",
      "[Parallel(n_jobs=-1)]: Done 200 out of 200 | elapsed:    4.8s finished\n",
      "[Parallel(n_jobs=4)]: Using backend ThreadingBackend with 4 concurrent workers.\n",
      "[Parallel(n_jobs=4)]: Done   5 tasks      | elapsed:    0.0s\n",
      "[Parallel(n_jobs=4)]: Done  10 tasks      | elapsed:    0.0s\n",
      "[Parallel(n_jobs=4)]: Done  17 tasks      | elapsed:    0.0s\n",
      "[Parallel(n_jobs=4)]: Done  24 tasks      | elapsed:    0.0s\n",
      "[Parallel(n_jobs=4)]: Done  33 tasks      | elapsed:    0.0s\n",
      "[Parallel(n_jobs=4)]: Done  42 tasks      | elapsed:    0.1s\n",
      "[Parallel(n_jobs=4)]: Done  53 tasks      | elapsed:    0.1s\n",
      "[Parallel(n_jobs=4)]: Done  64 tasks      | elapsed:    0.1s\n",
      "[Parallel(n_jobs=4)]: Done  77 tasks      | elapsed:    0.1s\n",
      "[Parallel(n_jobs=4)]: Done  90 tasks      | elapsed:    0.1s\n",
      "[Parallel(n_jobs=4)]: Done 105 tasks      | elapsed:    0.1s\n",
      "[Parallel(n_jobs=4)]: Done 120 tasks      | elapsed:    0.1s\n",
      "[Parallel(n_jobs=4)]: Done 137 tasks      | elapsed:    0.1s\n",
      "[Parallel(n_jobs=4)]: Done 154 tasks      | elapsed:    0.1s\n",
      "[Parallel(n_jobs=4)]: Done 173 tasks      | elapsed:    0.2s\n",
      "[Parallel(n_jobs=4)]: Done 192 tasks      | elapsed:    0.2s\n",
      "[Parallel(n_jobs=4)]: Done 200 out of 200 | elapsed:    0.2s finished\n"
     ]
    },
    {
     "name": "stdout",
     "output_type": "stream",
     "text": [
      "Using ThreadingBackend as joblib.Parallel backend instead of LokyBackend as the latter does not provide shared memory semantics.\n"
     ]
    },
    {
     "name": "stderr",
     "output_type": "stream",
     "text": [
      "[Parallel(n_jobs=-1)]: Using backend LokyBackend with 4 concurrent workers.\n",
      "[Parallel(n_jobs=-1)]: Batch computation too fast (0.0667s.) Setting batch_size=2.\n",
      "[Parallel(n_jobs=-1)]: Done   5 tasks      | elapsed:    0.1s\n",
      "[Parallel(n_jobs=-1)]: Done  12 tasks      | elapsed:    0.4s\n",
      "[Parallel(n_jobs=-1)]: Done  26 tasks      | elapsed:    0.8s\n",
      "[Parallel(n_jobs=-1)]: Done  40 tasks      | elapsed:    1.1s\n",
      "[Parallel(n_jobs=-1)]: Done  58 tasks      | elapsed:    1.7s\n",
      "[Parallel(n_jobs=-1)]: Done  76 tasks      | elapsed:    2.0s\n",
      "[Parallel(n_jobs=-1)]: Done  98 tasks      | elapsed:    2.4s\n",
      "[Parallel(n_jobs=-1)]: Done 120 tasks      | elapsed:    2.9s\n",
      "[Parallel(n_jobs=-1)]: Done 146 tasks      | elapsed:    3.6s\n",
      "[Parallel(n_jobs=-1)]: Done 172 tasks      | elapsed:    4.1s\n",
      "[Parallel(n_jobs=-1)]: Done 200 out of 200 | elapsed:    4.7s finished\n",
      "[Parallel(n_jobs=4)]: Using backend ThreadingBackend with 4 concurrent workers.\n",
      "[Parallel(n_jobs=4)]: Done   5 tasks      | elapsed:    0.0s\n",
      "[Parallel(n_jobs=4)]: Done  10 tasks      | elapsed:    0.0s\n",
      "[Parallel(n_jobs=4)]: Done  17 tasks      | elapsed:    0.0s\n",
      "[Parallel(n_jobs=4)]: Done  24 tasks      | elapsed:    0.0s\n",
      "[Parallel(n_jobs=4)]: Done  33 tasks      | elapsed:    0.0s\n",
      "[Parallel(n_jobs=4)]: Done  42 tasks      | elapsed:    0.0s\n",
      "[Parallel(n_jobs=4)]: Done  53 tasks      | elapsed:    0.1s\n",
      "[Parallel(n_jobs=4)]: Done  64 tasks      | elapsed:    0.1s\n",
      "[Parallel(n_jobs=4)]: Done  77 tasks      | elapsed:    0.1s\n",
      "[Parallel(n_jobs=4)]: Done  90 tasks      | elapsed:    0.1s\n",
      "[Parallel(n_jobs=4)]: Done 105 tasks      | elapsed:    0.1s\n",
      "[Parallel(n_jobs=4)]: Done 120 tasks      | elapsed:    0.1s\n",
      "[Parallel(n_jobs=4)]: Done 137 tasks      | elapsed:    0.1s\n",
      "[Parallel(n_jobs=4)]: Done 154 tasks      | elapsed:    0.2s\n",
      "[Parallel(n_jobs=4)]: Done 173 tasks      | elapsed:    0.2s\n",
      "[Parallel(n_jobs=4)]: Done 192 tasks      | elapsed:    0.2s\n",
      "[Parallel(n_jobs=4)]: Done 200 out of 200 | elapsed:    0.2s finished\n"
     ]
    },
    {
     "name": "stdout",
     "output_type": "stream",
     "text": [
      "Using ThreadingBackend as joblib.Parallel backend instead of LokyBackend as the latter does not provide shared memory semantics.\n"
     ]
    },
    {
     "name": "stderr",
     "output_type": "stream",
     "text": [
      "[Parallel(n_jobs=-1)]: Using backend LokyBackend with 4 concurrent workers.\n",
      "[Parallel(n_jobs=-1)]: Batch computation too fast (0.0648s.) Setting batch_size=2.\n",
      "[Parallel(n_jobs=-1)]: Done   5 tasks      | elapsed:    0.3s\n",
      "[Parallel(n_jobs=-1)]: Done  12 tasks      | elapsed:    0.5s\n",
      "[Parallel(n_jobs=-1)]: Done  26 tasks      | elapsed:    0.8s\n",
      "[Parallel(n_jobs=-1)]: Done  40 tasks      | elapsed:    1.1s\n",
      "[Parallel(n_jobs=-1)]: Done  58 tasks      | elapsed:    1.6s\n",
      "[Parallel(n_jobs=-1)]: Done  76 tasks      | elapsed:    2.1s\n",
      "[Parallel(n_jobs=-1)]: Done  98 tasks      | elapsed:    2.5s\n",
      "[Parallel(n_jobs=-1)]: Done 120 tasks      | elapsed:    3.0s\n",
      "[Parallel(n_jobs=-1)]: Done 146 tasks      | elapsed:    3.6s\n",
      "[Parallel(n_jobs=-1)]: Done 172 tasks      | elapsed:    4.5s\n"
     ]
    },
    {
     "name": "stdout",
     "output_type": "stream",
     "text": [
      "Using ThreadingBackend as joblib.Parallel backend instead of LokyBackend as the latter does not provide shared memory semantics.\n",
      "[0.98478279 0.98734295 0.98512844 0.98790398 0.98457088]\n",
      "Accuracy: 0.99 (+/- 0.00)\n"
     ]
    },
    {
     "name": "stderr",
     "output_type": "stream",
     "text": [
      "[Parallel(n_jobs=-1)]: Done 200 out of 200 | elapsed:    4.9s finished\n",
      "[Parallel(n_jobs=4)]: Using backend ThreadingBackend with 4 concurrent workers.\n",
      "[Parallel(n_jobs=4)]: Done   5 tasks      | elapsed:    0.0s\n",
      "[Parallel(n_jobs=4)]: Done  10 tasks      | elapsed:    0.0s\n",
      "[Parallel(n_jobs=4)]: Done  17 tasks      | elapsed:    0.0s\n",
      "[Parallel(n_jobs=4)]: Done  24 tasks      | elapsed:    0.0s\n",
      "[Parallel(n_jobs=4)]: Done  33 tasks      | elapsed:    0.0s\n",
      "[Parallel(n_jobs=4)]: Done  42 tasks      | elapsed:    0.0s\n",
      "[Parallel(n_jobs=4)]: Done  53 tasks      | elapsed:    0.0s\n",
      "[Parallel(n_jobs=4)]: Done  64 tasks      | elapsed:    0.0s\n",
      "[Parallel(n_jobs=4)]: Done  77 tasks      | elapsed:    0.0s\n",
      "[Parallel(n_jobs=4)]: Done  90 tasks      | elapsed:    0.1s\n",
      "[Parallel(n_jobs=4)]: Done 105 tasks      | elapsed:    0.1s\n",
      "[Parallel(n_jobs=4)]: Done 120 tasks      | elapsed:    0.1s\n",
      "[Parallel(n_jobs=4)]: Done 137 tasks      | elapsed:    0.1s\n",
      "[Parallel(n_jobs=4)]: Done 154 tasks      | elapsed:    0.1s\n",
      "[Parallel(n_jobs=4)]: Done 173 tasks      | elapsed:    0.1s\n",
      "[Parallel(n_jobs=4)]: Done 192 tasks      | elapsed:    0.1s\n",
      "[Parallel(n_jobs=4)]: Done 200 out of 200 | elapsed:    0.1s finished\n"
     ]
    }
   ],
   "source": [
    "from sklearn.model_selection import cross_val_score\n",
    "scores = cross_val_score(rf, x_test_scaler, y_pred_test, cv=5)\n",
    "print(scores)\n",
    "print(\"Accuracy: %0.2f (+/- %0.2f)\" % (scores.mean(), scores.std() * 2))"
   ]
  },
  {
   "cell_type": "markdown",
   "metadata": {
    "colab_type": "text",
    "id": "es-Zse_p8nea"
   },
   "source": [
    "#Caso você queira aplicar mais alguns algoritmos, segue aqui algumas recomendações"
   ]
  },
  {
   "cell_type": "code",
   "execution_count": 32,
   "metadata": {
    "colab": {
     "base_uri": "https://localhost:8080/",
     "height": 224
    },
    "colab_type": "code",
    "id": "3H2W5258382K",
    "outputId": "bced0589-0fbd-4bc9-a505-2e7a9104ef64"
   },
   "outputs": [
    {
     "name": "stdout",
     "output_type": "stream",
     "text": [
      "Requirement already satisfied: category_encoders in ./venv/lib/python3.8/site-packages (2.2.2)\n",
      "Requirement already satisfied: patsy>=0.5.1 in ./venv/lib/python3.8/site-packages (from category_encoders) (0.5.1)\n",
      "Requirement already satisfied: pandas>=0.21.1 in ./venv/lib/python3.8/site-packages (from category_encoders) (1.0.4)\n",
      "Requirement already satisfied: numpy>=1.14.0 in ./venv/lib/python3.8/site-packages (from category_encoders) (1.18.5)\n",
      "Requirement already satisfied: statsmodels>=0.9.0 in ./venv/lib/python3.8/site-packages (from category_encoders) (0.11.1)\n",
      "Requirement already satisfied: scikit-learn>=0.20.0 in ./venv/lib/python3.8/site-packages (from category_encoders) (0.23.1)\n",
      "Requirement already satisfied: scipy>=1.0.0 in ./venv/lib/python3.8/site-packages (from category_encoders) (1.4.1)\n",
      "Requirement already satisfied: six in ./venv/lib/python3.8/site-packages (from patsy>=0.5.1->category_encoders) (1.15.0)\n",
      "Requirement already satisfied: python-dateutil>=2.6.1 in ./venv/lib/python3.8/site-packages (from pandas>=0.21.1->category_encoders) (2.8.1)\n",
      "Requirement already satisfied: pytz>=2017.2 in ./venv/lib/python3.8/site-packages (from pandas>=0.21.1->category_encoders) (2020.1)\n",
      "Requirement already satisfied: joblib>=0.11 in ./venv/lib/python3.8/site-packages (from scikit-learn>=0.20.0->category_encoders) (0.15.1)\n",
      "Requirement already satisfied: threadpoolctl>=2.0.0 in ./venv/lib/python3.8/site-packages (from scikit-learn>=0.20.0->category_encoders) (2.1.0)\n"
     ]
    }
   ],
   "source": [
    "# Outra opção de Pipeline\n",
    "from sklearn.model_selection import GridSearchCV\n",
    "# Outras opções de Regressores\n",
    "from sklearn.neural_network import MLPRegressor\n",
    "from sklearn.linear_model import Perceptron\n",
    "from sklearn.linear_model import LinearRegression\n",
    "from sklearn.linear_model import LogisticRegression\n",
    "from sklearn.linear_model import SGDRegressor\n",
    "from sklearn.ensemble import ExtraTreesRegressor\n",
    "\n",
    "# Outra opção de scaler\n",
    "# Primeiro instala\n",
    "!pip install category_encoders\n",
    "# Depois o utiliza da mesma forma que usa o StandardScaler\n",
    "import category_encoders as ce\n",
    "onehotencoder = ce.OneHotEncoder()\n",
    "x_train_onehotencoder = onehotencoder.fit_transform(x_train)\n",
    "x_test_onehotencoder = onehotencoder.fit_transform(x_test)"
   ]
  },
  {
   "cell_type": "markdown",
   "metadata": {
    "colab_type": "text",
    "id": "rzN9wn0worVL"
   },
   "source": [
    "#Script que não permite que o Google Colab desconecte. Assim, você não perde suas execuções que demoram mais de 30 minutos.\n",
    "\n",
    "Basta abrir as opções de desenvolvedor (F12 ou ctrl + shift + i), colar o código abaixo na aba Console e dar Enter.\n",
    "\n",
    "> function ConnectButton(){\n",
    "    const arraydocolab = document.querySelectorAll('.notebook-content .cell.code .cell-gutter paper-icon-button')\n",
    "    arraydocolab[arraydocolab.length - 1].click()\n",
    "    console.log('==== Reconecta a cada 20 minutos ====')\n",
    "}\n",
    "var intervaldocolab = setInterval(ConnectButton,1200000);\n",
    "// se quiser remover isso, basta digitar no console: clearInterval(intervaldocolab)\n",
    "\n"
   ]
  },
  {
   "cell_type": "code",
   "execution_count": 33,
   "metadata": {
    "colab": {},
    "colab_type": "code",
    "id": "Jq7K3FFY_2MY"
   },
   "outputs": [],
   "source": [
    "# Mantenha essa célula aqui para garantir o funcionamento do script"
   ]
  }
 ],
 "metadata": {
  "accelerator": "GPU",
  "colab": {
   "collapsed_sections": [
    "-cRVSfyS9bQ7",
    "CwNPevKYQPDJ",
    "A3d7RZQGhxEz",
    "CV7iTRn1aP5p",
    "es-Zse_p8nea"
   ],
   "machine_shape": "hm",
   "name": "codenation-data-science-2020.ipynb",
   "provenance": [],
   "toc_visible": true
  },
  "kernelspec": {
   "display_name": "Python 3",
   "language": "python",
   "name": "python3"
  },
  "language_info": {
   "codemirror_mode": {
    "name": "ipython",
    "version": 3
   },
   "file_extension": ".py",
   "mimetype": "text/x-python",
   "name": "python",
   "nbconvert_exporter": "python",
   "pygments_lexer": "ipython3",
   "version": "3.8.2"
  },
  "pycharm": {
   "stem_cell": {
    "cell_type": "raw",
    "source": [],
    "metadata": {
     "collapsed": false
    }
   }
  }
 },
 "nbformat": 4,
 "nbformat_minor": 1
}