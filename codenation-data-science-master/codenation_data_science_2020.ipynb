{
  "nbformat": 4,
  "nbformat_minor": 0,
  "metadata": {
    "colab": {
      "name": "codenation-data-science-2020.ipynb",
      "provenance": [],
      "collapsed_sections": [
        "-cRVSfyS9bQ7",
        "CwNPevKYQPDJ",
        "A3d7RZQGhxEz",
        "CV7iTRn1aP5p",
        "es-Zse_p8nea"
      ],
      "toc_visible": true,
      "machine_shape": "hm"
    },
    "kernelspec": {
      "name": "python3",
      "display_name": "Python 3"
    },
    "accelerator": "GPU"
  },
  "cells": [
    {
      "cell_type": "markdown",
      "metadata": {
        "id": "qKZlyoYopM0L",
        "colab_type": "text"
      },
      "source": [
        "#CodeNation - Descubra as melhores notas de matemática do ENEM 2016"
      ]
    },
    {
      "cell_type": "markdown",
      "metadata": {
        "id": "BfmIOm9mo28U",
        "colab_type": "text"
      },
      "source": [
        "Olá cientista, tudo bem com você? Esse desafio foi proposto pela **CodeNation** e para você ser aceito aos treinamentos, devia obter ao menos **90% de acerto**.\n",
        "\n",
        "Aqui vou mostrar um guia de como alcancei facilmente **93%** passo a passo.\n",
        "\n",
        "Caso queira as informações sobre o desafio e os arquivos, basta dar uma olhada no meu repositório do git [CodeNation-Data-Science-2020](https://github.com/lpcaldeira/codenation-data-science)\n",
        "\n",
        "- Este tutorial foi feito utilizando o Google Colab\n",
        "- Baixe os arquivos no repositório citado acima e faça upload do **train.csv** e **test.csv** no menu lateral a esquerda em Files > Upload"
      ]
    },
    {
      "cell_type": "markdown",
      "metadata": {
        "id": "0g97rg-ZgbOQ",
        "colab_type": "text"
      },
      "source": [
        "Não esqueça de acionar a GPU em Runtime > change runtime type > Hardware accelerator > GPU > Save"
      ]
    },
    {
      "cell_type": "markdown",
      "metadata": {
        "id": "-cRVSfyS9bQ7",
        "colab_type": "text"
      },
      "source": [
        "#Visão geral sobre os dados"
      ]
    },
    {
      "cell_type": "markdown",
      "metadata": {
        "id": "TJGc3D9OP20T",
        "colab_type": "text"
      },
      "source": [
        "Importando as libs que serão utilizadas"
      ]
    },
    {
      "cell_type": "code",
      "metadata": {
        "id": "2GSqicxdeu36",
        "colab_type": "code",
        "colab": {}
      },
      "source": [
        "import numpy as np\n",
        "import pandas as pd"
      ],
      "execution_count": 0,
      "outputs": []
    },
    {
      "cell_type": "markdown",
      "metadata": {
        "id": "DLJ_e6_9QCET",
        "colab_type": "text"
      },
      "source": [
        "Configurações do pandas pra exibirem todas as linhas e colunas dos itens solicitados"
      ]
    },
    {
      "cell_type": "code",
      "metadata": {
        "id": "aLVhg6t0v9LG",
        "colab_type": "code",
        "colab": {}
      },
      "source": [
        "pd.set_option('display.max_columns', None)\n",
        "pd.set_option('display.max_rows', None)"
      ],
      "execution_count": 0,
      "outputs": []
    },
    {
      "cell_type": "markdown",
      "metadata": {
        "id": "0pPs3zoHP6Ey",
        "colab_type": "text"
      },
      "source": [
        "Importando os arquivos de treino e teste"
      ]
    },
    {
      "cell_type": "code",
      "metadata": {
        "id": "0Spp88bbPziT",
        "colab_type": "code",
        "colab": {}
      },
      "source": [
        "df_train = pd.read_csv('train.csv', sep=\",\" , encoding=\"UTF8\" )\n",
        "df_test = pd.read_csv('test.csv', sep=\",\" , encoding=\"UTF8\" )"
      ],
      "execution_count": 0,
      "outputs": []
    },
    {
      "cell_type": "markdown",
      "metadata": {
        "id": "lUm7MVytP-cn",
        "colab_type": "text"
      },
      "source": [
        "Visualizando as colunas que estão no arquivo de testes"
      ]
    },
    {
      "cell_type": "code",
      "metadata": {
        "id": "arU5MKiaeviv",
        "colab_type": "code",
        "colab": {
          "base_uri": "https://localhost:8080/",
          "height": 221
        },
        "outputId": "3714fb84-532f-4f3a-f6bb-2747923045f5"
      },
      "source": [
        "df_test.columns"
      ],
      "execution_count": 4,
      "outputs": [
        {
          "output_type": "execute_result",
          "data": {
            "text/plain": [
              "Index(['NU_INSCRICAO', 'CO_UF_RESIDENCIA', 'SG_UF_RESIDENCIA', 'NU_IDADE',\n",
              "       'TP_SEXO', 'TP_COR_RACA', 'TP_NACIONALIDADE', 'TP_ST_CONCLUSAO',\n",
              "       'TP_ANO_CONCLUIU', 'TP_ESCOLA', 'TP_ENSINO', 'IN_TREINEIRO',\n",
              "       'TP_DEPENDENCIA_ADM_ESC', 'IN_BAIXA_VISAO', 'IN_CEGUEIRA', 'IN_SURDEZ',\n",
              "       'IN_DISLEXIA', 'IN_DISCALCULIA', 'IN_SABATISTA', 'IN_GESTANTE',\n",
              "       'IN_IDOSO', 'TP_PRESENCA_CN', 'TP_PRESENCA_CH', 'TP_PRESENCA_LC',\n",
              "       'CO_PROVA_CN', 'CO_PROVA_CH', 'CO_PROVA_LC', 'CO_PROVA_MT',\n",
              "       'NU_NOTA_CN', 'NU_NOTA_CH', 'NU_NOTA_LC', 'TP_LINGUA',\n",
              "       'TP_STATUS_REDACAO', 'NU_NOTA_COMP1', 'NU_NOTA_COMP2', 'NU_NOTA_COMP3',\n",
              "       'NU_NOTA_COMP4', 'NU_NOTA_COMP5', 'NU_NOTA_REDACAO', 'Q001', 'Q002',\n",
              "       'Q006', 'Q024', 'Q025', 'Q026', 'Q027', 'Q047'],\n",
              "      dtype='object')"
            ]
          },
          "metadata": {
            "tags": []
          },
          "execution_count": 4
        }
      ]
    },
    {
      "cell_type": "markdown",
      "metadata": {
        "id": "iEPlm8FGQKd4",
        "colab_type": "text"
      },
      "source": [
        "Identificando quais campos tem mais correlação com o nosso target/NU_NOTA_MT"
      ]
    },
    {
      "cell_type": "code",
      "metadata": {
        "id": "v7kd8WX-evox",
        "colab_type": "code",
        "colab": {
          "base_uri": "https://localhost:8080/",
          "height": 1000
        },
        "outputId": "8192cdb9-ec0d-4908-850e-7ed14e42ba21"
      },
      "source": [
        "# Quanto mais próximo a 1, maior a correlação\n",
        "df_train.corr()['NU_NOTA_MT'].dropna().sort_values(ascending=False)"
      ],
      "execution_count": 5,
      "outputs": [
        {
          "output_type": "execute_result",
          "data": {
            "text/plain": [
              "NU_NOTA_MT                     1.000000\n",
              "NU_NOTA_CN                     0.584941\n",
              "NU_NOTA_CH                     0.529594\n",
              "NU_NOTA_LC                     0.494695\n",
              "NU_NOTA_REDACAO                0.379376\n",
              "TP_DEPENDENCIA_ADM_ESC         0.373233\n",
              "NU_NOTA_COMP3                  0.350307\n",
              "NU_NOTA_COMP5                  0.343337\n",
              "NU_NOTA_COMP4                  0.342282\n",
              "NU_NOTA_COMP2                  0.335638\n",
              "NU_NOTA_COMP1                  0.299402\n",
              "CO_MUNICIPIO_NASCIMENTO        0.113416\n",
              "CO_UF_NASCIMENTO               0.112236\n",
              "CO_MUNICIPIO_PROVA             0.109433\n",
              "CO_MUNICIPIO_RESIDENCIA        0.108850\n",
              "CO_UF_PROVA                    0.108251\n",
              "CO_UF_RESIDENCIA               0.107493\n",
              "CO_MUNICIPIO_ESC               0.102517\n",
              "CO_ESCOLA                      0.102072\n",
              "CO_UF_ESC                      0.100935\n",
              "CO_UF_ENTIDADE_CERTIFICACAO    0.086797\n",
              "TP_ESCOLA                      0.069304\n",
              "IN_DEFICIT_ATENCAO             0.060628\n",
              "IN_SEM_RECURSO                 0.034406\n",
              "Q035                           0.031685\n",
              "TP_ANO_CONCLUIU                0.029039\n",
              "TP_SIT_FUNC_ESC                0.026338\n",
              "IN_OUTRA_DEF                   0.016654\n",
              "IN_AMPLIADA_18                 0.016266\n",
              "IN_DISCALCULIA                 0.009813\n",
              "IN_VISAO_MONOCULAR             0.008103\n",
              "Unnamed: 0                     0.006530\n",
              "IN_APOIO_PERNA                 0.006191\n",
              "TP_PRESENCA_CN                 0.003552\n",
              "TP_PRESENCA_CH                 0.003552\n",
              "IN_DISLEXIA                    0.001453\n",
              "IN_BAIXA_VISAO                 0.000685\n",
              "IN_GESTANTE                   -0.000945\n",
              "IN_NOME_SOCIAL                -0.004051\n",
              "IN_MESA_CADEIRA_SEPARADA      -0.007509\n",
              "IN_DEFICIENCIA_MENTAL         -0.010387\n",
              "IN_IDOSO                      -0.011336\n",
              "IN_LEITURA_LABIAL             -0.012154\n",
              "IN_DEFICIENCIA_AUDITIVA       -0.014768\n",
              "IN_SURDEZ                     -0.015249\n",
              "IN_MESA_CADEIRA_RODAS         -0.016027\n",
              "IN_SABATISTA                  -0.016459\n",
              "IN_AMPLIADA_24                -0.016538\n",
              "IN_LIBRAS                     -0.017802\n",
              "Q039                          -0.019360\n",
              "IN_DEFICIENCIA_FISICA         -0.020357\n",
              "IN_LACTANTE                   -0.020762\n",
              "IN_TRANSCRICAO                -0.021882\n",
              "IN_LEDOR                      -0.022052\n",
              "IN_TREINEIRO                  -0.022287\n",
              "TP_NACIONALIDADE              -0.034965\n",
              "TP_ESTADO_CIVIL               -0.035393\n",
              "IN_ACESSO                     -0.035681\n",
              "Q031                          -0.051815\n",
              "TP_LOCALIZACAO_ESC            -0.052961\n",
              "TP_STATUS_REDACAO             -0.059376\n",
              "NU_IDADE                      -0.061485\n",
              "Q005                          -0.070824\n",
              "TP_ENSINO                     -0.086353\n",
              "TP_ST_CONCLUSAO               -0.087869\n",
              "Q032                          -0.090325\n",
              "IN_CERTIFICADO                -0.103732\n",
              "Q034                          -0.104780\n",
              "Q033                          -0.114083\n",
              "Q040                          -0.119997\n",
              "Q029                          -0.124075\n",
              "Q030                          -0.127963\n",
              "Q041                          -0.131795\n",
              "Q036                          -0.145501\n",
              "TP_COR_RACA                   -0.157364\n",
              "TP_LINGUA                     -0.201726\n",
              "Q038                          -0.202259\n",
              "Q037                          -0.265249\n",
              "Name: NU_NOTA_MT, dtype: float64"
            ]
          },
          "metadata": {
            "tags": []
          },
          "execution_count": 5
        }
      ]
    },
    {
      "cell_type": "markdown",
      "metadata": {
        "id": "_ZB4Ju23QU1n",
        "colab_type": "text"
      },
      "source": [
        "Criando as colunas que serão utilizadas no modelo"
      ]
    },
    {
      "cell_type": "code",
      "metadata": {
        "id": "jERIioXR6bTK",
        "colab_type": "code",
        "colab": {}
      },
      "source": [
        "colunas = [\n",
        "    'CO_UF_RESIDENCIA',\n",
        "    'SG_UF_RESIDENCIA',\n",
        "    'NU_IDADE',\n",
        "    'TP_SEXO',\n",
        "    'TP_COR_RACA',\n",
        "    'TP_NACIONALIDADE',\n",
        "    'TP_ST_CONCLUSAO',\n",
        "    'TP_ANO_CONCLUIU',\n",
        "    'TP_ESCOLA',\n",
        "    'TP_ENSINO',\n",
        "    'IN_TREINEIRO',\n",
        "    'TP_DEPENDENCIA_ADM_ESC',\n",
        "    'IN_BAIXA_VISAO',\n",
        "    'IN_CEGUEIRA',\n",
        "    'IN_SURDEZ',\n",
        "    'IN_DISLEXIA',\n",
        "    'IN_DISCALCULIA',\n",
        "    'IN_SABATISTA',\n",
        "    'IN_GESTANTE',\n",
        "    'IN_IDOSO',\n",
        "    'TP_PRESENCA_CN',\n",
        "    'TP_PRESENCA_CH',\n",
        "    'TP_PRESENCA_LC',\n",
        "    'CO_PROVA_CN',\n",
        "    'CO_PROVA_CH',\n",
        "    'CO_PROVA_LC',\n",
        "    'CO_PROVA_MT',\n",
        "    'NU_NOTA_CN',\n",
        "    'NU_NOTA_CH',\n",
        "    'NU_NOTA_LC',\n",
        "    'TP_LINGUA',\n",
        "    'TP_STATUS_REDACAO',\n",
        "    'NU_NOTA_COMP1',\n",
        "    'NU_NOTA_COMP2',\n",
        "    'NU_NOTA_COMP3',\n",
        "    'NU_NOTA_COMP4',\n",
        "    'NU_NOTA_COMP5',\n",
        "    'NU_NOTA_REDACAO',\n",
        "    'Q001',\n",
        "    'Q002',\n",
        "    'Q006',\n",
        "    'Q024',\n",
        "    'Q025',\n",
        "    'Q026',\n",
        "    'Q027',\n",
        "    'Q047'\n",
        "]\n",
        "colunas_corr = [\n",
        "    'NU_NOTA_MT',\n",
        "    'CO_UF_RESIDENCIA',\n",
        "    'SG_UF_RESIDENCIA',\n",
        "    'NU_IDADE',\n",
        "    'TP_SEXO',\n",
        "    'TP_COR_RACA',\n",
        "    'TP_NACIONALIDADE',\n",
        "    'TP_ST_CONCLUSAO',\n",
        "    'TP_ANO_CONCLUIU',\n",
        "    'TP_ESCOLA',\n",
        "    'TP_ENSINO',\n",
        "    'IN_TREINEIRO',\n",
        "    'TP_DEPENDENCIA_ADM_ESC',\n",
        "    'IN_BAIXA_VISAO',\n",
        "    'IN_CEGUEIRA',\n",
        "    'IN_SURDEZ',\n",
        "    'IN_DISLEXIA',\n",
        "    'IN_DISCALCULIA',\n",
        "    'IN_SABATISTA',\n",
        "    'IN_GESTANTE',\n",
        "    'IN_IDOSO',\n",
        "    'TP_PRESENCA_CN',\n",
        "    'TP_PRESENCA_CH',\n",
        "    'TP_PRESENCA_LC',\n",
        "    'CO_PROVA_CN',\n",
        "    'CO_PROVA_CH',\n",
        "    'CO_PROVA_LC',\n",
        "    'CO_PROVA_MT',\n",
        "    'NU_NOTA_CN',\n",
        "    'NU_NOTA_CH',\n",
        "    'NU_NOTA_LC',\n",
        "    'TP_LINGUA',\n",
        "    'TP_STATUS_REDACAO',\n",
        "    'NU_NOTA_COMP1',\n",
        "    'NU_NOTA_COMP2',\n",
        "    'NU_NOTA_COMP3',\n",
        "    'NU_NOTA_COMP4',\n",
        "    'NU_NOTA_COMP5',\n",
        "    'NU_NOTA_REDACAO',\n",
        "    'Q001',\n",
        "    'Q002',\n",
        "    'Q006',\n",
        "    'Q024',\n",
        "    'Q025',\n",
        "    'Q026',\n",
        "    'Q027',\n",
        "    'Q047'\n",
        "]"
      ],
      "execution_count": 0,
      "outputs": []
    },
    {
      "cell_type": "markdown",
      "metadata": {
        "id": "CwNPevKYQPDJ",
        "colab_type": "text"
      },
      "source": [
        "#Gráficos e correções de valores"
      ]
    },
    {
      "cell_type": "code",
      "metadata": {
        "id": "e12g52LOwwre",
        "colab_type": "code",
        "colab": {
          "base_uri": "https://localhost:8080/",
          "height": 71
        },
        "outputId": "0d685889-cdca-4743-ba58-74d9a231d8d7"
      },
      "source": [
        "import matplotlib.pyplot as plt\n",
        "import seaborn as sns\n",
        "plt.style.use('ggplot')\n",
        "%matplotlib inline"
      ],
      "execution_count": 7,
      "outputs": [
        {
          "output_type": "stream",
          "text": [
            "/usr/local/lib/python3.6/dist-packages/statsmodels/tools/_testing.py:19: FutureWarning: pandas.util.testing is deprecated. Use the functions in the public API at pandas.testing instead.\n",
            "  import pandas.util.testing as tm\n"
          ],
          "name": "stderr"
        }
      ]
    },
    {
      "cell_type": "markdown",
      "metadata": {
        "id": "oHcMMVYnWc5g",
        "colab_type": "text"
      },
      "source": [
        "Vamos usar estes campos para visualizar os gráficos, pois possuem maior correlação com o target:\n",
        "\n",
        "> NU_NOTA_LC\n",
        "\n",
        "> NU_NOTA_CN\n",
        "\n",
        "> NU_NOTA_CH"
      ]
    },
    {
      "cell_type": "markdown",
      "metadata": {
        "id": "6kaTI1hwQnqx",
        "colab_type": "text"
      },
      "source": [
        "Quantidade de campos NULOS de cada campo"
      ]
    },
    {
      "cell_type": "code",
      "metadata": {
        "id": "jVACpIbLewB8",
        "colab_type": "code",
        "colab": {
          "base_uri": "https://localhost:8080/",
          "height": 816
        },
        "outputId": "63674aaf-397e-484a-cd44-25ac0a7aa655"
      },
      "source": [
        "df_train[colunas].isnull().sum()"
      ],
      "execution_count": 8,
      "outputs": [
        {
          "output_type": "execute_result",
          "data": {
            "text/plain": [
              "CO_UF_RESIDENCIA             0\n",
              "SG_UF_RESIDENCIA             0\n",
              "NU_IDADE                     0\n",
              "TP_SEXO                      0\n",
              "TP_COR_RACA                  0\n",
              "TP_NACIONALIDADE             0\n",
              "TP_ST_CONCLUSAO              0\n",
              "TP_ANO_CONCLUIU              0\n",
              "TP_ESCOLA                    0\n",
              "TP_ENSINO                 9448\n",
              "IN_TREINEIRO                 0\n",
              "TP_DEPENDENCIA_ADM_ESC    9448\n",
              "IN_BAIXA_VISAO               0\n",
              "IN_CEGUEIRA                  0\n",
              "IN_SURDEZ                    0\n",
              "IN_DISLEXIA                  0\n",
              "IN_DISCALCULIA               0\n",
              "IN_SABATISTA                 0\n",
              "IN_GESTANTE                  0\n",
              "IN_IDOSO                     0\n",
              "TP_PRESENCA_CN               0\n",
              "TP_PRESENCA_CH               0\n",
              "TP_PRESENCA_LC               0\n",
              "CO_PROVA_CN                  0\n",
              "CO_PROVA_CH                  0\n",
              "CO_PROVA_LC                  0\n",
              "CO_PROVA_MT                  0\n",
              "NU_NOTA_CN                3389\n",
              "NU_NOTA_CH                3389\n",
              "NU_NOTA_LC                3597\n",
              "TP_LINGUA                    0\n",
              "TP_STATUS_REDACAO         3597\n",
              "NU_NOTA_COMP1             3597\n",
              "NU_NOTA_COMP2             3597\n",
              "NU_NOTA_COMP3             3597\n",
              "NU_NOTA_COMP4             3597\n",
              "NU_NOTA_COMP5             3597\n",
              "NU_NOTA_REDACAO           3597\n",
              "Q001                         0\n",
              "Q002                         0\n",
              "Q006                         0\n",
              "Q024                         0\n",
              "Q025                         0\n",
              "Q026                         0\n",
              "Q027                      7373\n",
              "Q047                         0\n",
              "dtype: int64"
            ]
          },
          "metadata": {
            "tags": []
          },
          "execution_count": 8
        }
      ]
    },
    {
      "cell_type": "markdown",
      "metadata": {
        "id": "BHM3Fp31Sym1",
        "colab_type": "text"
      },
      "source": [
        "Visualizando campos nulos/NaN nos datasets"
      ]
    },
    {
      "cell_type": "code",
      "metadata": {
        "id": "6qgk07gRfzJx",
        "colab_type": "code",
        "colab": {
          "base_uri": "https://localhost:8080/",
          "height": 282
        },
        "outputId": "9ccee25f-ac51-41a2-883a-707920ec727e"
      },
      "source": [
        "x0 = df_train['NU_NOTA_LC']\n",
        "x1 = df_test['NU_NOTA_LC']\n",
        "sns.distplot(x0)\n",
        "sns.distplot(x1)\n",
        "plt.legend(labels=['Treino','Teste'], ncol=2, loc='upper left');"
      ],
      "execution_count": 9,
      "outputs": [
        {
          "output_type": "display_data",
          "data": {
            "image/png": "[encoded data removed]",
            "text/plain": [
              "<Figure size 432x288 with 1 Axes>"
            ]
          },
          "metadata": {
            "tags": []
          }
        }
      ]
    },
    {
      "cell_type": "markdown",
      "metadata": {
        "id": "XlVrRhOzTQrE",
        "colab_type": "text"
      },
      "source": [
        "Pelo visto, temos muitos campo nulos/NaN, então a minha opção foi substituí-los por zero"
      ]
    },
    {
      "cell_type": "code",
      "metadata": {
        "id": "Fj_NNKRzfzQR",
        "colab_type": "code",
        "colab": {
          "base_uri": "https://localhost:8080/",
          "height": 34
        },
        "outputId": "d5e3f352-ceb4-4453-f767-ac3081c0f94e"
      },
      "source": [
        "#Caso queira utilizar média, basta descomentar a linha abaixo\n",
        "#df_train = df_train.fillna(df_train.median())\n",
        "#E comentar essa\n",
        "df_train = df_train.fillna(0)\n",
        "\n",
        "# Quantidade de linhas no dataset de treino\n",
        "len(df_train)"
      ],
      "execution_count": 10,
      "outputs": [
        {
          "output_type": "execute_result",
          "data": {
            "text/plain": [
              "13730"
            ]
          },
          "metadata": {
            "tags": []
          },
          "execution_count": 10
        }
      ]
    },
    {
      "cell_type": "markdown",
      "metadata": {
        "id": "u2z8_DxJUGRW",
        "colab_type": "text"
      },
      "source": [
        " Verifica o gráfico de novo (repare agora a quantidade de valores Zero que temos no dataset de TREINO)"
      ]
    },
    {
      "cell_type": "code",
      "metadata": {
        "id": "88IS2ljhfzV7",
        "colab_type": "code",
        "colab": {
          "base_uri": "https://localhost:8080/",
          "height": 282
        },
        "outputId": "18ba10c8-ec2f-429d-8f22-98eb17ea85d3"
      },
      "source": [
        "x0 = df_train['NU_NOTA_LC']\n",
        "x1 = df_test['NU_NOTA_LC']\n",
        "sns.distplot(x0)\n",
        "sns.distplot(x1)\n",
        "plt.legend(labels=['Treino','Teste'], ncol=2, loc='upper left');"
      ],
      "execution_count": 11,
      "outputs": [
        {
          "output_type": "display_data",
          "data": {
            "image/png": "[encoded data removed]",
            "text/plain": [
              "<Figure size 432x288 with 1 Axes>"
            ]
          },
          "metadata": {
            "tags": []
          }
        }
      ]
    },
    {
      "cell_type": "code",
      "metadata": {
        "id": "vEVqqLJQg0Ao",
        "colab_type": "code",
        "colab": {
          "base_uri": "https://localhost:8080/",
          "height": 285
        },
        "outputId": "ea409d6f-8ab2-46af-a796-2cf7544bc426"
      },
      "source": [
        "# Verifica outro gráfico\n",
        "x0 = df_train['NU_NOTA_CN']\n",
        "x1 = df_test['NU_NOTA_CN']\n",
        "sns.distplot(x0)\n",
        "sns.distplot(x1)\n",
        "plt.legend(labels=['Treino','Teste'], ncol=2, loc='upper left');"
      ],
      "execution_count": 12,
      "outputs": [
        {
          "output_type": "display_data",
          "data": {
            "image/png": "[encoded data removed]",
            "text/plain": [
              "<Figure size 432x288 with 1 Axes>"
            ]
          },
          "metadata": {
            "tags": []
          }
        }
      ]
    },
    {
      "cell_type": "code",
      "metadata": {
        "id": "jRbUf8zKev_t",
        "colab_type": "code",
        "colab": {
          "base_uri": "https://localhost:8080/",
          "height": 282
        },
        "outputId": "05539e69-b9ad-440b-829c-11b54411075e"
      },
      "source": [
        "# Verifica outro gráfico\n",
        "x0 = df_train['NU_NOTA_CH']\n",
        "x1 = df_test['NU_NOTA_CH']\n",
        "sns.distplot(x0)\n",
        "sns.distplot(x1)\n",
        "plt.legend(labels=['Treino','Teste'], ncol=2, loc='upper left');"
      ],
      "execution_count": 13,
      "outputs": [
        {
          "output_type": "display_data",
          "data": {
            "image/png": "[encoded data removed]",
            "text/plain": [
              "<Figure size 432x288 with 1 Axes>"
            ]
          },
          "metadata": {
            "tags": []
          }
        }
      ]
    },
    {
      "cell_type": "markdown",
      "metadata": {
        "id": "uydv-j7UXdHr",
        "colab_type": "text"
      },
      "source": [
        "Verificando a quantidade de nulos/NaN no dataset de Teste"
      ]
    },
    {
      "cell_type": "code",
      "metadata": {
        "id": "QcnhJoXaev9B",
        "colab_type": "code",
        "colab": {
          "base_uri": "https://localhost:8080/",
          "height": 833
        },
        "outputId": "9e660331-3dfe-4833-da9a-cdddb0a0fc54"
      },
      "source": [
        "# Verificando a quantidade de notas ‘nulls’ na base de test:\n",
        "df_test.isnull().sum()"
      ],
      "execution_count": 14,
      "outputs": [
        {
          "output_type": "execute_result",
          "data": {
            "text/plain": [
              "NU_INSCRICAO                 0\n",
              "CO_UF_RESIDENCIA             0\n",
              "SG_UF_RESIDENCIA             0\n",
              "NU_IDADE                     0\n",
              "TP_SEXO                      0\n",
              "TP_COR_RACA                  0\n",
              "TP_NACIONALIDADE             0\n",
              "TP_ST_CONCLUSAO              0\n",
              "TP_ANO_CONCLUIU              0\n",
              "TP_ESCOLA                    0\n",
              "TP_ENSINO                 3096\n",
              "IN_TREINEIRO                 0\n",
              "TP_DEPENDENCIA_ADM_ESC    3096\n",
              "IN_BAIXA_VISAO               0\n",
              "IN_CEGUEIRA                  0\n",
              "IN_SURDEZ                    0\n",
              "IN_DISLEXIA                  0\n",
              "IN_DISCALCULIA               0\n",
              "IN_SABATISTA                 0\n",
              "IN_GESTANTE                  0\n",
              "IN_IDOSO                     0\n",
              "TP_PRESENCA_CN               0\n",
              "TP_PRESENCA_CH               0\n",
              "TP_PRESENCA_LC               0\n",
              "CO_PROVA_CN                  0\n",
              "CO_PROVA_CH                  0\n",
              "CO_PROVA_LC                  0\n",
              "CO_PROVA_MT                  0\n",
              "NU_NOTA_CN                1134\n",
              "NU_NOTA_CH                1134\n",
              "NU_NOTA_LC                1199\n",
              "TP_LINGUA                    0\n",
              "TP_STATUS_REDACAO         1199\n",
              "NU_NOTA_COMP1             1199\n",
              "NU_NOTA_COMP2             1199\n",
              "NU_NOTA_COMP3             1199\n",
              "NU_NOTA_COMP4             1199\n",
              "NU_NOTA_COMP5             1199\n",
              "NU_NOTA_REDACAO           1199\n",
              "Q001                         0\n",
              "Q002                         0\n",
              "Q006                         0\n",
              "Q024                         0\n",
              "Q025                         0\n",
              "Q026                         0\n",
              "Q027                      2488\n",
              "Q047                         0\n",
              "dtype: int64"
            ]
          },
          "metadata": {
            "tags": []
          },
          "execution_count": 14
        }
      ]
    },
    {
      "cell_type": "markdown",
      "metadata": {
        "id": "yqkHFnybXL5H",
        "colab_type": "text"
      },
      "source": [
        "Agora, repetimos a mesma substituição aplicada no dataset de Treino ao dataset de Teste"
      ]
    },
    {
      "cell_type": "code",
      "metadata": {
        "id": "W-zz_JQVhEiH",
        "colab_type": "code",
        "colab": {
          "base_uri": "https://localhost:8080/",
          "height": 34
        },
        "outputId": "70acceee-f38e-4ba5-a572-65a3b9cf132a"
      },
      "source": [
        "#Caso queira utilizar média, basta descomentar a linha abaixo\n",
        "#df_test = df_test.fillna(df_test.median())\n",
        "#E comentar essa\n",
        "df_test = df_test.fillna(0)\n",
        "\n",
        "# Quantidade de linhas no dataset de treino\n",
        "len(df_test)"
      ],
      "execution_count": 15,
      "outputs": [
        {
          "output_type": "execute_result",
          "data": {
            "text/plain": [
              "4576"
            ]
          },
          "metadata": {
            "tags": []
          },
          "execution_count": 15
        }
      ]
    },
    {
      "cell_type": "markdown",
      "metadata": {
        "id": "VDyGI-W6X53g",
        "colab_type": "text"
      },
      "source": [
        "Vamos verificar novamente como ficaram os gráficos, percebendo que a coluna Azul (que representa o dataset de testes), também cresceu em valores 0 e diminuiu em nulos/NaN"
      ]
    },
    {
      "cell_type": "code",
      "metadata": {
        "id": "rJ9nyAithpMx",
        "colab_type": "code",
        "colab": {
          "base_uri": "https://localhost:8080/",
          "height": 282
        },
        "outputId": "d6e42dce-a60a-406c-deb1-52bcb243843e"
      },
      "source": [
        "# Verifica outro gráfico\n",
        "x0 = df_train['NU_NOTA_LC']\n",
        "x1 = df_test['NU_NOTA_LC']\n",
        "sns.distplot(x0)\n",
        "sns.distplot(x1)\n",
        "plt.legend(labels=['Treino','Teste'], ncol=2, loc='upper left');"
      ],
      "execution_count": 16,
      "outputs": [
        {
          "output_type": "display_data",
          "data": {
            "image/png": "[encoded data removed]",
            "text/plain": [
              "<Figure size 432x288 with 1 Axes>"
            ]
          },
          "metadata": {
            "tags": []
          }
        }
      ]
    },
    {
      "cell_type": "code",
      "metadata": {
        "id": "wSK5P8mlev4t",
        "colab_type": "code",
        "colab": {
          "base_uri": "https://localhost:8080/",
          "height": 282
        },
        "outputId": "fc5f84a6-14f3-41c7-e531-4689a04d3fa5"
      },
      "source": [
        "# Verifica o gráfico de novo\n",
        "x0 = df_train['NU_NOTA_CN']\n",
        "x1 = df_test['NU_NOTA_CN']\n",
        "sns.distplot(x0)\n",
        "sns.distplot(x1)\n",
        "plt.legend(labels=['Treino','Teste'], ncol=2, loc='upper left');"
      ],
      "execution_count": 17,
      "outputs": [
        {
          "output_type": "display_data",
          "data": {
            "image/png": "[encoded data removed]",
            "text/plain": [
              "<Figure size 432x288 with 1 Axes>"
            ]
          },
          "metadata": {
            "tags": []
          }
        }
      ]
    },
    {
      "cell_type": "code",
      "metadata": {
        "id": "gmHcsDvHhpBj",
        "colab_type": "code",
        "colab": {
          "base_uri": "https://localhost:8080/",
          "height": 282
        },
        "outputId": "9735cf9d-f883-4cf9-c9f1-bf320b49a1f7"
      },
      "source": [
        "# Verifica outro gráfico\n",
        "x0 = df_train['NU_NOTA_CH']\n",
        "x1 = df_test['NU_NOTA_CH']\n",
        "sns.distplot(x0)\n",
        "sns.distplot(x1)\n",
        "plt.legend(labels=['Treino','Teste'], ncol=2, loc='upper left');"
      ],
      "execution_count": 18,
      "outputs": [
        {
          "output_type": "display_data",
          "data": {
            "image/png": "[encoded data removed]",
            "text/plain": [
              "<Figure size 432x288 with 1 Axes>"
            ]
          },
          "metadata": {
            "tags": []
          }
        }
      ]
    },
    {
      "cell_type": "markdown",
      "metadata": {
        "id": "A3d7RZQGhxEz",
        "colab_type": "text"
      },
      "source": [
        "#Separando e tratando os dados"
      ]
    },
    {
      "cell_type": "markdown",
      "metadata": {
        "id": "ZvSAL5feYZ6P",
        "colab_type": "text"
      },
      "source": [
        "Precisamos normalizar os dados tratando/transformando campos do tipo **OBJECT** em **FLOAT**"
      ]
    },
    {
      "cell_type": "markdown",
      "metadata": {
        "id": "n-j1dY0mYo6o",
        "colab_type": "text"
      },
      "source": [
        "Primeiro, os encontramos nos 2 datasets"
      ]
    },
    {
      "cell_type": "code",
      "metadata": {
        "id": "q9QOuD6g06HJ",
        "colab_type": "code",
        "colab": {}
      },
      "source": [
        "train_colunas_do_tipo_objeto = df_train.select_dtypes(include=[object]).columns\n",
        "test_colunas_do_tipo_objeto = df_test.select_dtypes(include=[object]).columns"
      ],
      "execution_count": 0,
      "outputs": []
    },
    {
      "cell_type": "markdown",
      "metadata": {
        "id": "mzKpy76KZgWX",
        "colab_type": "text"
      },
      "source": [
        "Agora, separamos os valores de cada dataset e os campos que vamos utilizar"
      ]
    },
    {
      "cell_type": "code",
      "metadata": {
        "id": "85M9RWjeZghD",
        "colab_type": "code",
        "colab": {}
      },
      "source": [
        "# y_train fica com os valores das notas de matemática do Treino\n",
        "y_train = df_train['NU_NOTA_MT']\n",
        "# x_train pega todos os valores que o dataset de Teste possui\n",
        "x_train = df_train[colunas]\n",
        "# x_test tem todos os campos, menos a Inscrição(NU_INSCRICAO)\n",
        "x_test = df_test[colunas]"
      ],
      "execution_count": 0,
      "outputs": []
    },
    {
      "cell_type": "markdown",
      "metadata": {
        "id": "9huDE6JVYsGI",
        "colab_type": "text"
      },
      "source": [
        "Depois, podemos usar, por exemplo, o LabelEncoder para tratar cada campo do tipo objeto"
      ]
    },
    {
      "cell_type": "code",
      "metadata": {
        "id": "k5oH1kHM0u-Z",
        "colab_type": "code",
        "colab": {
          "base_uri": "https://localhost:8080/",
          "height": 0
        },
        "outputId": "5d946634-be2c-4557-ec56-1b7e324fbfa4"
      },
      "source": [
        "from sklearn.preprocessing import LabelEncoder\n",
        "\n",
        "y_train_encoder = LabelEncoder().fit_transform(y_train)\n",
        "\n",
        "for coluna in train_colunas_do_tipo_objeto:\n",
        "  if coluna in colunas and coluna != 'NU_INSCRICAO':\n",
        "    x_train[coluna] = LabelEncoder().fit_transform(x_train[coluna].astype(str))\n",
        "\n",
        "for coluna in test_colunas_do_tipo_objeto:\n",
        "  if coluna in colunas and coluna != 'NU_INSCRICAO':\n",
        "    x_test[coluna] = LabelEncoder().fit_transform(x_test[coluna].astype(str))"
      ],
      "execution_count": 21,
      "outputs": [
        {
          "output_type": "stream",
          "text": [
            "/usr/local/lib/python3.6/dist-packages/ipykernel_launcher.py:7: SettingWithCopyWarning: \n",
            "A value is trying to be set on a copy of a slice from a DataFrame.\n",
            "Try using .loc[row_indexer,col_indexer] = value instead\n",
            "\n",
            "See the caveats in the documentation: https://pandas.pydata.org/pandas-docs/stable/user_guide/indexing.html#returning-a-view-versus-a-copy\n",
            "  import sys\n",
            "/usr/local/lib/python3.6/dist-packages/ipykernel_launcher.py:11: SettingWithCopyWarning: \n",
            "A value is trying to be set on a copy of a slice from a DataFrame.\n",
            "Try using .loc[row_indexer,col_indexer] = value instead\n",
            "\n",
            "See the caveats in the documentation: https://pandas.pydata.org/pandas-docs/stable/user_guide/indexing.html#returning-a-view-versus-a-copy\n",
            "  # This is added back by InteractiveShellApp.init_path()\n"
          ],
          "name": "stderr"
        }
      ]
    },
    {
      "cell_type": "markdown",
      "metadata": {
        "id": "HaNbp7TbZ0-V",
        "colab_type": "text"
      },
      "source": [
        "Importamos os scalers e aplicamos nos dados para aumentar a velocidade de processamento.\n",
        "\n",
        "Neste exemplo, apenas apliquei o Standard mas deixei o Robust junto, para caso você queira fazer alguns testes extras."
      ]
    },
    {
      "cell_type": "code",
      "metadata": {
        "id": "kHCp6K8ZLzlK",
        "colab_type": "code",
        "colab": {}
      },
      "source": [
        "from sklearn.preprocessing import RobustScaler, StandardScaler\n",
        "sc = StandardScaler()\n",
        "rb = StandardScaler()\n",
        "x_train_scaler = sc.fit_transform(x_train)  \n",
        "x_test_scaler = sc.transform(x_test)"
      ],
      "execution_count": 0,
      "outputs": []
    },
    {
      "cell_type": "markdown",
      "metadata": {
        "id": "CV7iTRn1aP5p",
        "colab_type": "text"
      },
      "source": [
        "#Criando os modelos de regressões"
      ]
    },
    {
      "cell_type": "markdown",
      "metadata": {
        "id": "mbNjI-hJaXCB",
        "colab_type": "text"
      },
      "source": [
        "Estou utilizando aqui o conceito de Pipeline com RandomizedSearchCV (você pode aplicar o GridSearchCV se quiser) para realizar vários testes de regressão e identificar os melhores parâmetros para o meu modelo alcançar ou chegar o mais próximo de 100%"
      ]
    },
    {
      "cell_type": "markdown",
      "metadata": {
        "id": "VeZzDBY1a4G9",
        "colab_type": "text"
      },
      "source": [
        "##O primeiro a ser testado será o AdaBoost"
      ]
    },
    {
      "cell_type": "code",
      "metadata": {
        "id": "pDt67wtrlO9a",
        "colab_type": "code",
        "colab": {
          "base_uri": "https://localhost:8080/",
          "height": 748
        },
        "outputId": "e11bddfe-b85f-453e-80a7-cc162e8fedda"
      },
      "source": [
        "from sklearn.pipeline import Pipeline\n",
        "from sklearn.model_selection import RandomizedSearchCV\n",
        "from sklearn.ensemble import AdaBoostRegressor\n",
        "from sklearn.tree import DecisionTreeRegressor\n",
        "\n",
        "# Instanciamos o Regressor\n",
        "ada = AdaBoostRegressor()\n",
        "# Setamos o Scaler que criamos anteriormente e o Regressor\n",
        "clf = Pipeline([('scaler', sc), ('ada', ada)])\n",
        "\n",
        "# Informamos os parâmetros e variações do Regressor que queremos que o RandomizedSearchCV aplique para nós\n",
        "random_grid = {\n",
        "    'ada__base_estimator': [DecisionTreeRegressor(max_depth=8), DecisionTreeRegressor(max_depth=3)],\n",
        "    'ada__random_state': [0, 42],\n",
        "    'ada__loss': ['linear','square','exponential'],\n",
        "    'ada__n_estimators': [10, 20, 50, 100, 200]\n",
        "}\n",
        "\n",
        "# Informamos mais alguns parâmetros, agora referentes apenas ao RandomizeSearchCV\n",
        "search = RandomizedSearchCV(estimator = clf, param_distributions = random_grid, \n",
        "                            n_iter = 20, cv = 5, verbose = 10, n_jobs = -1)\n",
        "\n",
        "# Aqui efetivamente roda o processo usando o dataset de Treino para treinar o modelo\n",
        "results = search.fit(x_train, y_train)\n",
        "\n",
        "# Aqui mostrará os melhores parâmetros juntamente com o percentual de acerto.\n",
        "# No teste que fiz, o percentual ficou em 99.99963%\n",
        "results.best_score_, results.best_params_, results.best_estimator_"
      ],
      "execution_count": 23,
      "outputs": [
        {
          "output_type": "stream",
          "text": [
            "Fitting 5 folds for each of 20 candidates, totalling 100 fits\n"
          ],
          "name": "stdout"
        },
        {
          "output_type": "stream",
          "text": [
            "[Parallel(n_jobs=-1)]: Using backend LokyBackend with 4 concurrent workers.\n",
            "[Parallel(n_jobs=-1)]: Done   5 tasks      | elapsed:   11.9s\n",
            "[Parallel(n_jobs=-1)]: Done  10 tasks      | elapsed:   21.3s\n",
            "[Parallel(n_jobs=-1)]: Done  17 tasks      | elapsed:   26.9s\n",
            "[Parallel(n_jobs=-1)]: Done  24 tasks      | elapsed:   31.2s\n",
            "[Parallel(n_jobs=-1)]: Done  33 tasks      | elapsed:   54.8s\n",
            "[Parallel(n_jobs=-1)]: Done  42 tasks      | elapsed:  1.2min\n",
            "[Parallel(n_jobs=-1)]: Done  53 tasks      | elapsed:  1.4min\n",
            "[Parallel(n_jobs=-1)]: Done  64 tasks      | elapsed:  1.7min\n",
            "[Parallel(n_jobs=-1)]: Done  77 tasks      | elapsed:  2.3min\n",
            "[Parallel(n_jobs=-1)]: Done  90 tasks      | elapsed:  2.4min\n",
            "[Parallel(n_jobs=-1)]: Done 100 out of 100 | elapsed:  2.5min finished\n"
          ],
          "name": "stderr"
        },
        {
          "output_type": "execute_result",
          "data": {
            "text/plain": [
              "(0.9224959972045337,\n",
              " {'ada__base_estimator': DecisionTreeRegressor(ccp_alpha=0.0, criterion='mse', max_depth=8,\n",
              "                        max_features=None, max_leaf_nodes=None,\n",
              "                        min_impurity_decrease=0.0, min_impurity_split=None,\n",
              "                        min_samples_leaf=1, min_samples_split=2,\n",
              "                        min_weight_fraction_leaf=0.0, presort='deprecated',\n",
              "                        random_state=None, splitter='best'),\n",
              "  'ada__loss': 'square',\n",
              "  'ada__n_estimators': 10,\n",
              "  'ada__random_state': 0},\n",
              " Pipeline(memory=None,\n",
              "          steps=[('scaler',\n",
              "                  StandardScaler(copy=True, with_mean=True, with_std=True)),\n",
              "                 ('ada',\n",
              "                  AdaBoostRegressor(base_estimator=DecisionTreeRegressor(ccp_alpha=0.0,\n",
              "                                                                         criterion='mse',\n",
              "                                                                         max_depth=8,\n",
              "                                                                         max_features=None,\n",
              "                                                                         max_leaf_nodes=None,\n",
              "                                                                         min_impurity_decrease=0.0,\n",
              "                                                                         min_impurity_split=None,\n",
              "                                                                         min_samples_leaf=1,\n",
              "                                                                         min_samples_split=2,\n",
              "                                                                         min_weight_fraction_leaf=0.0,\n",
              "                                                                         presort='deprecated',\n",
              "                                                                         random_state=None,\n",
              "                                                                         splitter='best'),\n",
              "                                    learning_rate=1.0, loss='square',\n",
              "                                    n_estimators=10, random_state=0))],\n",
              "          verbose=False))"
            ]
          },
          "metadata": {
            "tags": []
          },
          "execution_count": 23
        }
      ]
    },
    {
      "cell_type": "markdown",
      "metadata": {
        "id": "c8iZk3YesvvH",
        "colab_type": "text"
      },
      "source": [
        "0.9235217474934994 %\n",
        "\n",
        "Regressor com parâmetros:\n",
        "\n",
        "AdaBoostRegressor(base_estimator=DecisionTreeRegressor(ccp_alpha=0.0,\n",
        "                                                                         criterion='mse',\n",
        "                                                                         max_depth=8,\n",
        "                                                                         max_features=None,\n",
        "                                                                         max_leaf_nodes=None,\n",
        "                                                                         min_impurity_decrease=0.0,\n",
        "                                                                         min_impurity_split=None,\n",
        "                                                                         min_samples_leaf=1,\n",
        "                                                                         min_samples_split=2,\n",
        "                                                                         min_weight_fraction_leaf=0.0,\n",
        "                                                                         presort='deprecated',\n",
        "                                                                         random_state=None,\n",
        "                                                                         splitter='best'),\n",
        "                                    learning_rate=1.0, loss='exponential',\n",
        "                                    n_estimators=10, random_state=0)"
      ]
    },
    {
      "cell_type": "markdown",
      "metadata": {
        "id": "aBhqcmnGb3vj",
        "colab_type": "text"
      },
      "source": [
        "Então, agora que tenho os parâmetros que já me deram 92% de acerto, vou utilizá-los no dataset de Teste"
      ]
    },
    {
      "cell_type": "code",
      "metadata": {
        "colab_type": "code",
        "id": "WT7yFCI0ra_p",
        "colab": {}
      },
      "source": [
        "from sklearn.ensemble import AdaBoostRegressor\n",
        "ada = AdaBoostRegressor(base_estimator=DecisionTreeRegressor(ccp_alpha=0.0,\n",
        "                                                                         criterion='mse',\n",
        "                                                                         max_depth=8,\n",
        "                                                                         max_features=None,\n",
        "                                                                         max_leaf_nodes=None,\n",
        "                                                                         min_impurity_decrease=0.0,\n",
        "                                                                         min_impurity_split=None,\n",
        "                                                                         min_samples_leaf=1,\n",
        "                                                                         min_samples_split=2,\n",
        "                                                                         min_weight_fraction_leaf=0.0,\n",
        "                                                                         presort='deprecated',\n",
        "                                                                         random_state=None,\n",
        "                                                                         splitter='best'),\n",
        "                                    learning_rate=1.0, loss='exponential',\n",
        "                                    n_estimators=10, random_state=0)\n",
        "\n",
        "# Treinando o nosso modelo com o scaler e encoder que fizemos lá em cima\n",
        "ada.fit(x_train_scaler, y_train_encoder)\n",
        "# Realizando a predição das notas com o dataset de Teste\n",
        "y_pred_test = ada.predict(x_test_scaler)\n",
        "# Exportando o arquivo com as notas geradas\n",
        "answer = pd.DataFrame()\n",
        "answer['NU_INSCRICAO'] = df_test.NU_INSCRICAO\n",
        "answer['NU_NOTA_MT'] = y_pred_test\n",
        "answer.to_csv('answer_ada.csv', index=False)"
      ],
      "execution_count": 0,
      "outputs": []
    },
    {
      "cell_type": "code",
      "metadata": {
        "id": "RF1DzVRahAMs",
        "colab_type": "code",
        "colab": {
          "base_uri": "https://localhost:8080/",
          "height": 51
        },
        "outputId": "79d2cdf8-7764-41c1-ae6f-487467cd0046"
      },
      "source": [
        "# Teste auxiliar para identificar a acurrácia do modelo usando cross_validation.\n",
        "# Quanto mais perto de 1.0, melhor\n",
        "from sklearn.model_selection import cross_val_score\n",
        "scores = cross_val_score(ada, x_test_scaler, y_pred_test, cv=5)\n",
        "print(scores)\n",
        "print(\"Accuracy: %0.2f (+/- %0.2f)\" % (scores.mean(), scores.std() * 2))"
      ],
      "execution_count": 25,
      "outputs": [
        {
          "output_type": "stream",
          "text": [
            "[0.97780235 0.97876015 0.97746329 0.97971457 0.97697498]\n",
            "Accuracy: 0.98 (+/- 0.00)\n"
          ],
          "name": "stdout"
        }
      ]
    },
    {
      "cell_type": "markdown",
      "metadata": {
        "id": "SZGbfTJyhHgJ",
        "colab_type": "text"
      },
      "source": [
        "##O segundo a ser testado será o DecisionTree"
      ]
    },
    {
      "cell_type": "code",
      "metadata": {
        "id": "AYJxPUSClO6l",
        "colab_type": "code",
        "colab": {
          "base_uri": "https://localhost:8080/",
          "height": 901
        },
        "outputId": "4eee4266-cfe0-4802-9a4c-a4b3b28f891e"
      },
      "source": [
        "from sklearn.pipeline import Pipeline\n",
        "from sklearn.model_selection import RandomizedSearchCV\n",
        "from sklearn.tree import DecisionTreeRegressor\n",
        "\n",
        "dt = DecisionTreeRegressor()\n",
        "clf = Pipeline([('scaler', sc), ('dt', dt)])\n",
        "\n",
        "random_grid = {\n",
        "    'dt__criterion': ['mse', 'friedman_mse', 'mae'],\n",
        "    'dt__splitter': ['best', 'random'],\n",
        "    'dt__max_depth': [None, 5, 8, 20],\n",
        "    'dt__min_samples_split': [0, 2, 5],\n",
        "    'dt__min_samples_leaf': [0, 1, 5],\n",
        "    'dt__min_weight_fraction_leaf': [0.0, 0.1, 0.2, 0.3, 0.4, 0.5, 0.6, 0.7, 0.8, 0.9, 1.0],\n",
        "    'dt__max_features': [0, None, 5, 10, 'auto', 'sqrt', 'log2'],\n",
        "    'dt__random_state': [0, None, 5, 42]\n",
        "}\n",
        "\n",
        "search = RandomizedSearchCV(estimator = clf, param_distributions = random_grid, \n",
        "                            n_iter = 200, cv = 5, verbose = 10, n_jobs = -1)\n",
        "\n",
        "results = search.fit(x_train, y_train)\n",
        "\n",
        "results.best_score_, results.best_params_, results.best_estimator_"
      ],
      "execution_count": 26,
      "outputs": [
        {
          "output_type": "stream",
          "text": [
            "Fitting 5 folds for each of 200 candidates, totalling 1000 fits\n"
          ],
          "name": "stdout"
        },
        {
          "output_type": "stream",
          "text": [
            "[Parallel(n_jobs=-1)]: Using backend LokyBackend with 4 concurrent workers.\n",
            "[Parallel(n_jobs=-1)]: Batch computation too fast (0.0454s.) Setting batch_size=2.\n",
            "[Parallel(n_jobs=-1)]: Done   5 tasks      | elapsed:    0.1s\n",
            "[Parallel(n_jobs=-1)]: Batch computation too fast (0.0881s.) Setting batch_size=4.\n",
            "[Parallel(n_jobs=-1)]: Done  12 tasks      | elapsed:    0.2s\n",
            "[Parallel(n_jobs=-1)]: Done  28 tasks      | elapsed:    0.3s\n",
            "[Parallel(n_jobs=-1)]: Batch computation too fast (0.1522s.) Setting batch_size=8.\n",
            "[Parallel(n_jobs=-1)]: Done  56 tasks      | elapsed:    0.5s\n",
            "[Parallel(n_jobs=-1)]: Done 128 tasks      | elapsed:    1.1s\n",
            "[Parallel(n_jobs=-1)]: Done 200 tasks      | elapsed:    1.5s\n",
            "[Parallel(n_jobs=-1)]: Done 288 tasks      | elapsed:    2.2s\n",
            "[Parallel(n_jobs=-1)]: Done 376 tasks      | elapsed:    3.2s\n",
            "[Parallel(n_jobs=-1)]: Batch computation too slow (3.6310s.) Setting batch_size=1.\n",
            "[Parallel(n_jobs=-1)]: Done 480 tasks      | elapsed:   16.0s\n",
            "[Parallel(n_jobs=-1)]: Done 507 tasks      | elapsed:   28.2s\n",
            "[Parallel(n_jobs=-1)]: Done 522 tasks      | elapsed:   31.5s\n",
            "[Parallel(n_jobs=-1)]: Done 537 tasks      | elapsed:   34.8s\n",
            "[Parallel(n_jobs=-1)]: Done 554 tasks      | elapsed:   35.2s\n",
            "[Parallel(n_jobs=-1)]: Done 571 tasks      | elapsed:   41.5s\n",
            "[Parallel(n_jobs=-1)]: Batch computation too fast (0.1955s.) Setting batch_size=2.\n",
            "[Parallel(n_jobs=-1)]: Done 590 tasks      | elapsed:   42.0s\n",
            "[Parallel(n_jobs=-1)]: Batch computation too fast (0.1551s.) Setting batch_size=4.\n",
            "[Parallel(n_jobs=-1)]: Done 650 tasks      | elapsed:   43.5s\n",
            "[Parallel(n_jobs=-1)]: Done 731 tasks      | elapsed:   44.6s\n",
            "[Parallel(n_jobs=-1)]: Done 812 tasks      | elapsed:   45.7s\n",
            "[Parallel(n_jobs=-1)]: Done 904 tasks      | elapsed:   47.1s\n",
            "[Parallel(n_jobs=-1)]: Batch computation too slow (2.1688s.) Setting batch_size=1.\n",
            "[Parallel(n_jobs=-1)]: Done 1000 out of 1000 | elapsed:  1.1min finished\n"
          ],
          "name": "stderr"
        },
        {
          "output_type": "execute_result",
          "data": {
            "text/plain": [
              "(0.9142709075394215,\n",
              " {'dt__criterion': 'mse',\n",
              "  'dt__max_depth': 8,\n",
              "  'dt__max_features': 'auto',\n",
              "  'dt__min_samples_leaf': 5,\n",
              "  'dt__min_samples_split': 2,\n",
              "  'dt__min_weight_fraction_leaf': 0.0,\n",
              "  'dt__random_state': 42,\n",
              "  'dt__splitter': 'random'},\n",
              " Pipeline(memory=None,\n",
              "          steps=[('scaler',\n",
              "                  StandardScaler(copy=True, with_mean=True, with_std=True)),\n",
              "                 ('dt',\n",
              "                  DecisionTreeRegressor(ccp_alpha=0.0, criterion='mse',\n",
              "                                        max_depth=8, max_features='auto',\n",
              "                                        max_leaf_nodes=None,\n",
              "                                        min_impurity_decrease=0.0,\n",
              "                                        min_impurity_split=None,\n",
              "                                        min_samples_leaf=5, min_samples_split=2,\n",
              "                                        min_weight_fraction_leaf=0.0,\n",
              "                                        presort='deprecated', random_state=42,\n",
              "                                        splitter='random'))],\n",
              "          verbose=False))"
            ]
          },
          "metadata": {
            "tags": []
          },
          "execution_count": 26
        }
      ]
    },
    {
      "cell_type": "markdown",
      "metadata": {
        "id": "TKP_npZruSGB",
        "colab_type": "text"
      },
      "source": [
        "0.9163452188462285 %\n",
        "\n",
        "Regressor com os parâmetros:\n",
        "\n",
        "DecisionTreeRegressor(ccp_alpha=0.0, criterion='mse',\n",
        "                                        max_depth=8, max_features='auto',\n",
        "                                        max_leaf_nodes=None,\n",
        "                                        min_impurity_decrease=0.0,\n",
        "                                        min_impurity_split=None,\n",
        "                                        min_samples_leaf=1, min_samples_split=2,\n",
        "                                        min_weight_fraction_leaf=0.0,\n",
        "                                        presort='deprecated', random_state=None,\n",
        "                                        splitter='best')"
      ]
    },
    {
      "cell_type": "code",
      "metadata": {
        "id": "_oU6M0PqB6K9",
        "colab_type": "code",
        "colab": {}
      },
      "source": [
        "from sklearn.tree import DecisionTreeRegressor\n",
        "dt = DecisionTreeRegressor(ccp_alpha=0.0, criterion='mse',\n",
        "                                        max_depth=8, max_features='auto',\n",
        "                                        max_leaf_nodes=None,\n",
        "                                        min_impurity_decrease=0.0,\n",
        "                                        min_impurity_split=None,\n",
        "                                        min_samples_leaf=1, min_samples_split=2,\n",
        "                                        min_weight_fraction_leaf=0.0,\n",
        "                                        presort='deprecated', random_state=None,\n",
        "                                        splitter='best')\n",
        "# Treinando o nosso modelo através do fit:\n",
        "dt.fit(x_train_scaler, y_train_encoder)\n",
        "# Realizando a predição das notas da nossa base test:\n",
        "y_pred_test = dt.predict(x_test_scaler)\n",
        "answer = pd.DataFrame()\n",
        "answer['NU_INSCRICAO'] = df_test.NU_INSCRICAO\n",
        "answer['NU_NOTA_MT'] = y_pred_test\n",
        "answer.to_csv('answer_dt.csv', index=False)"
      ],
      "execution_count": 0,
      "outputs": []
    },
    {
      "cell_type": "code",
      "metadata": {
        "id": "klLRWi2Pg8yY",
        "colab_type": "code",
        "colab": {
          "base_uri": "https://localhost:8080/",
          "height": 51
        },
        "outputId": "d0b78620-808f-4ad1-cf53-c4077446d1f8"
      },
      "source": [
        "from sklearn.model_selection import cross_val_score\n",
        "scores = cross_val_score(dt, x_test_scaler, y_pred_test, cv=5)\n",
        "print(scores)\n",
        "print(\"Accuracy: %0.2f (+/- %0.2f)\" % (scores.mean(), scores.std() * 2))"
      ],
      "execution_count": 28,
      "outputs": [
        {
          "output_type": "stream",
          "text": [
            "[0.9662663  0.94611427 0.9543704  0.92300651 0.93981783]\n",
            "Accuracy: 0.95 (+/- 0.03)\n"
          ],
          "name": "stdout"
        }
      ]
    },
    {
      "cell_type": "markdown",
      "metadata": {
        "id": "sez8NdITiJm7",
        "colab_type": "text"
      },
      "source": [
        "##O terceiro a ser testado é o RandomForest"
      ]
    },
    {
      "cell_type": "code",
      "metadata": {
        "id": "Yf_2BcPUlOwC",
        "colab_type": "code",
        "colab": {
          "base_uri": "https://localhost:8080/",
          "height": 1000
        },
        "outputId": "81b547d4-b3ea-4b4f-944a-a27f86bfbafa"
      },
      "source": [
        "from sklearn.pipeline import Pipeline\n",
        "from sklearn.model_selection import RandomizedSearchCV\n",
        "from sklearn.ensemble import RandomForestRegressor\n",
        "\n",
        "rf = RandomForestRegressor()\n",
        "clf = Pipeline([('scaler', sc), ('rf', rf)])\n",
        "\n",
        "random_grid = {\n",
        "    'rf__criterion': ['mse', 'friedman_mse', 'mae'],\n",
        "    'rf__n_estimators': [10, 100, 200, 300],\n",
        "    'rf__max_depth': [None, 5, 8, 20],\n",
        "    'rf__min_samples_split': [0, 2, 5],\n",
        "    'rf__min_samples_leaf': [0, 1, 5, 10],\n",
        "    'rf__max_features': [0, 'auto', 'sqrt', 'log2'],\n",
        "    'rf__n_jobs': [-1],\n",
        "    'rf__verbose': [10],\n",
        "    'rf__random_state': [0, None, 5, 42]\n",
        "}\n",
        "\n",
        "search = RandomizedSearchCV(estimator = clf, param_distributions = random_grid, \n",
        "                            n_iter = 20, cv = 5, verbose = 10, n_jobs = -1)\n",
        "\n",
        "results = search.fit(x_train, y_train)\n",
        "\n",
        "results.best_score_, results.best_params_, results.best_estimator_"
      ],
      "execution_count": 29,
      "outputs": [
        {
          "output_type": "stream",
          "text": [
            "Fitting 5 folds for each of 20 candidates, totalling 100 fits\n"
          ],
          "name": "stdout"
        },
        {
          "output_type": "stream",
          "text": [
            "[Parallel(n_jobs=-1)]: Using backend LokyBackend with 4 concurrent workers.\n",
            "[Parallel(n_jobs=-1)]: Batch computation too fast (0.1479s.) Setting batch_size=2.\n",
            "[Parallel(n_jobs=-1)]: Done   5 tasks      | elapsed:    0.3s\n",
            "[Parallel(n_jobs=-1)]: Done  12 tasks      | elapsed:    0.7s\n",
            "[Parallel(n_jobs=-1)]: Batch computation too slow (2.1890s.) Setting batch_size=1.\n",
            "[Parallel(n_jobs=-1)]: Done  26 tasks      | elapsed:    7.8s\n",
            "/usr/local/lib/python3.6/dist-packages/joblib/externals/loky/process_executor.py:706: UserWarning: A worker stopped while some jobs were given to the executor. This can be caused by a too short worker timeout or by a memory leak.\n",
            "  \"timeout or by a memory leak.\", UserWarning\n",
            "[Parallel(n_jobs=-1)]: Done  38 tasks      | elapsed:   18.1s\n",
            "[Parallel(n_jobs=-1)]: Done  48 tasks      | elapsed:   19.2s\n",
            "[Parallel(n_jobs=-1)]: Done  57 tasks      | elapsed:   19.9s\n",
            "[Parallel(n_jobs=-1)]: Done  69 tasks      | elapsed:   20.5s\n",
            "[Parallel(n_jobs=-1)]: Done  80 tasks      | elapsed:  2.1min\n",
            "[Parallel(n_jobs=-1)]: Done  93 tasks      | elapsed:  2.2min\n",
            "[Parallel(n_jobs=-1)]: Done 100 out of 100 | elapsed:  2.6min finished\n",
            "[Parallel(n_jobs=-1)]: Using backend ThreadingBackend with 4 concurrent workers.\n",
            "[Parallel(n_jobs=-1)]: Done   5 tasks      | elapsed:    0.1s\n"
          ],
          "name": "stderr"
        },
        {
          "output_type": "stream",
          "text": [
            "building tree 1 of 100building tree 2 of 100building tree 3 of 100\n",
            "\n",
            "building tree 4 of 100\n",
            "\n",
            "building tree 5 of 100\n",
            "building tree 6 of 100building tree 7 of 100building tree 8 of 100\n",
            "\n",
            "\n",
            "building tree 9 of 100\n",
            "building tree 10 of 100\n",
            "building tree 11 of 100building tree 12 of 100\n",
            "\n",
            "building tree 13 of 100\n",
            "building tree 14 of 100\n",
            "building tree 15 of 100\n",
            "building tree 16 of 100\n",
            "building tree 17 of 100\n",
            "building tree 18 of 100\n",
            "building tree 19 of 100\n",
            "building tree 20 of 100\n",
            "building tree 21 of 100\n",
            "building tree 22 of 100\n",
            "building tree 23 of 100\n",
            "building tree 24 of 100\n",
            "building tree 25 of 100"
          ],
          "name": "stdout"
        },
        {
          "output_type": "stream",
          "text": [
            "[Parallel(n_jobs=-1)]: Done  10 tasks      | elapsed:    0.2s\n",
            "[Parallel(n_jobs=-1)]: Done  17 tasks      | elapsed:    0.3s\n"
          ],
          "name": "stderr"
        },
        {
          "output_type": "stream",
          "text": [
            "\n",
            "building tree 26 of 100\n",
            "building tree 27 of 100\n",
            "building tree 28 of 100\n",
            "building tree 29 of 100\n",
            "building tree 30 of 100\n",
            "building tree 31 of 100\n",
            "building tree 32 of 100\n",
            "building tree 33 of 100\n",
            "building tree 34 of 100\n",
            "building tree 35 of 100\n",
            "building tree 36 of 100\n"
          ],
          "name": "stdout"
        },
        {
          "output_type": "stream",
          "text": [
            "[Parallel(n_jobs=-1)]: Done  24 tasks      | elapsed:    0.4s\n",
            "[Parallel(n_jobs=-1)]: Done  33 tasks      | elapsed:    0.6s\n"
          ],
          "name": "stderr"
        },
        {
          "output_type": "stream",
          "text": [
            "building tree 37 of 100\n",
            "building tree 38 of 100\n",
            "building tree 39 of 100\n",
            "building tree 40 of 100\n",
            "building tree 41 of 100\n",
            "building tree 42 of 100\n",
            "building tree 43 of 100\n",
            "building tree 44 of 100\n",
            "building tree 45 of 100\n",
            "building tree 46 of 100\n",
            "building tree 47 of 100\n",
            "building tree 48 of 100\n",
            "building tree 49 of 100\n"
          ],
          "name": "stdout"
        },
        {
          "output_type": "stream",
          "text": [
            "[Parallel(n_jobs=-1)]: Done  42 tasks      | elapsed:    0.8s\n",
            "[Parallel(n_jobs=-1)]: Done  53 tasks      | elapsed:    1.0s\n"
          ],
          "name": "stderr"
        },
        {
          "output_type": "stream",
          "text": [
            "building tree 50 of 100\n",
            "building tree 51 of 100\n",
            "building tree 52 of 100\n",
            "building tree 53 of 100\n",
            "building tree 54 of 100\n",
            "building tree 55 of 100\n",
            "building tree 56 of 100\n",
            "building tree 57 of 100\n",
            "building tree 58 of 100\n",
            "building tree 59 of 100\n",
            "building tree 60 of 100\n",
            "building tree 61 of 100\n",
            "building tree 62 of 100\n",
            "building tree 63 of 100\n",
            "building tree 64 of 100\n",
            "building tree 65 of 100\n",
            "building tree 66 of 100\n",
            "building tree 67 of 100\n",
            "building tree 68 of 100\n",
            "building tree 69 of 100\n",
            "building tree 70 of 100\n",
            "building tree 71 of 100\n",
            "building tree 72 of 100\n",
            "building tree 73 of 100\n"
          ],
          "name": "stdout"
        },
        {
          "output_type": "stream",
          "text": [
            "[Parallel(n_jobs=-1)]: Done  64 tasks      | elapsed:    1.1s\n"
          ],
          "name": "stderr"
        },
        {
          "output_type": "stream",
          "text": [
            "building tree 74 of 100\n",
            "building tree 75 of 100\n",
            "building tree 76 of 100\n",
            "building tree 77 of 100\n",
            "building tree 78 of 100\n",
            "building tree 79 of 100\n",
            "building tree 80 of 100\n",
            "building tree 81 of 100\n",
            "building tree 82 of 100\n",
            "building tree 83 of 100\n",
            "building tree 84 of 100\n",
            "building tree 85 of 100\n"
          ],
          "name": "stdout"
        },
        {
          "output_type": "stream",
          "text": [
            "[Parallel(n_jobs=-1)]: Done  77 tasks      | elapsed:    1.4s\n"
          ],
          "name": "stderr"
        },
        {
          "output_type": "stream",
          "text": [
            "building tree 86 of 100\n",
            "building tree 87 of 100\n",
            "building tree 88 of 100\n",
            "building tree 89 of 100\n",
            "building tree 90 of 100\n",
            "building tree 91 of 100\n",
            "building tree 92 of 100\n",
            "building tree 93 of 100\n",
            "building tree 94 of 100\n",
            "building tree 95 of 100\n",
            "building tree 96 of 100\n",
            "building tree 97 of 100\n"
          ],
          "name": "stdout"
        },
        {
          "output_type": "stream",
          "text": [
            "[Parallel(n_jobs=-1)]: Done  90 tasks      | elapsed:    1.6s\n",
            "[Parallel(n_jobs=-1)]: Done 100 out of 100 | elapsed:    1.8s finished\n"
          ],
          "name": "stderr"
        },
        {
          "output_type": "stream",
          "text": [
            "building tree 98 of 100\n",
            "building tree 99 of 100\n",
            "building tree 100 of 100\n"
          ],
          "name": "stdout"
        },
        {
          "output_type": "execute_result",
          "data": {
            "text/plain": [
              "(0.9256064906500134,\n",
              " {'rf__criterion': 'friedman_mse',\n",
              "  'rf__max_depth': 8,\n",
              "  'rf__max_features': 'auto',\n",
              "  'rf__min_samples_leaf': 5,\n",
              "  'rf__min_samples_split': 2,\n",
              "  'rf__n_estimators': 100,\n",
              "  'rf__n_jobs': -1,\n",
              "  'rf__random_state': 5,\n",
              "  'rf__verbose': 10},\n",
              " Pipeline(memory=None,\n",
              "          steps=[('scaler',\n",
              "                  StandardScaler(copy=True, with_mean=True, with_std=True)),\n",
              "                 ('rf',\n",
              "                  RandomForestRegressor(bootstrap=True, ccp_alpha=0.0,\n",
              "                                        criterion='friedman_mse', max_depth=8,\n",
              "                                        max_features='auto', max_leaf_nodes=None,\n",
              "                                        max_samples=None,\n",
              "                                        min_impurity_decrease=0.0,\n",
              "                                        min_impurity_split=None,\n",
              "                                        min_samples_leaf=5, min_samples_split=2,\n",
              "                                        min_weight_fraction_leaf=0.0,\n",
              "                                        n_estimators=100, n_jobs=-1,\n",
              "                                        oob_score=False, random_state=5,\n",
              "                                        verbose=10, warm_start=False))],\n",
              "          verbose=False))"
            ]
          },
          "metadata": {
            "tags": []
          },
          "execution_count": 29
        }
      ]
    },
    {
      "cell_type": "markdown",
      "metadata": {
        "id": "-o9AaGStAtuy",
        "colab_type": "text"
      },
      "source": [
        "0.9254360637203654 %\n",
        "\n",
        "Regressor com os parâmetros:\n",
        "\n",
        "RandomForestRegressor(bootstrap=True, ccp_alpha=0.0,\n",
        "                                        criterion='friedman_mse', max_depth=20,\n",
        "                                        max_features='auto', max_leaf_nodes=None,\n",
        "                                        max_samples=None,\n",
        "                                        min_impurity_decrease=0.0,\n",
        "                                        min_impurity_split=None,\n",
        "                                        min_samples_leaf=5, min_samples_split=5,\n",
        "                                        min_weight_fraction_leaf=0.0,\n",
        "                                        n_estimators=200, n_jobs=-1,\n",
        "                                        oob_score=False, random_state=5,\n",
        "                                        verbose=10, warm_start=False)"
      ]
    },
    {
      "cell_type": "code",
      "metadata": {
        "id": "QXnxhslZCVlS",
        "colab_type": "code",
        "colab": {
          "base_uri": "https://localhost:8080/",
          "height": 1000
        },
        "outputId": "f46ec84e-629d-4a1c-b89d-4fbe33957f64"
      },
      "source": [
        "from sklearn.ensemble import RandomForestRegressor\n",
        "rf = RandomForestRegressor(bootstrap=True, ccp_alpha=0.0,\n",
        "                                        criterion='friedman_mse', max_depth=20,\n",
        "                                        max_features='auto', max_leaf_nodes=None,\n",
        "                                        max_samples=None,\n",
        "                                        min_impurity_decrease=0.0,\n",
        "                                        min_impurity_split=None,\n",
        "                                        min_samples_leaf=5, min_samples_split=5,\n",
        "                                        min_weight_fraction_leaf=0.0,\n",
        "                                        n_estimators=200, n_jobs=-1,\n",
        "                                        oob_score=False, random_state=5,\n",
        "                                        verbose=10, warm_start=False)\n",
        "# Treinando o nosso modelo através do fit:\n",
        "rf.fit(x_train_scaler, y_train_encoder)\n",
        "# Realizando a predição das notas da nossa base test:\n",
        "y_pred_test = rf.predict(x_test_scaler)\n",
        "answer = pd.DataFrame()\n",
        "answer['NU_INSCRICAO'] = df_test.NU_INSCRICAO\n",
        "answer['NU_NOTA_MT'] = y_pred_test\n",
        "answer.to_csv('answer_rf.csv', index=False)"
      ],
      "execution_count": 30,
      "outputs": [
        {
          "output_type": "stream",
          "text": [
            "[Parallel(n_jobs=-1)]: Using backend ThreadingBackend with 4 concurrent workers.\n"
          ],
          "name": "stderr"
        },
        {
          "output_type": "stream",
          "text": [
            "building tree 1 of 200building tree 2 of 200\n",
            "building tree 3 of 200\n",
            "\n",
            "building tree 4 of 200\n",
            "building tree 5 of 200\n",
            "building tree 6 of 200building tree 7 of 200\n",
            "\n",
            "building tree 8 of 200\n"
          ],
          "name": "stdout"
        },
        {
          "output_type": "stream",
          "text": [
            "[Parallel(n_jobs=-1)]: Done   5 tasks      | elapsed:    0.2s\n",
            "[Parallel(n_jobs=-1)]: Done  10 tasks      | elapsed:    0.4s\n"
          ],
          "name": "stderr"
        },
        {
          "output_type": "stream",
          "text": [
            "building tree 9 of 200\n",
            "building tree 10 of 200\n",
            "building tree 11 of 200\n",
            "building tree 12 of 200\n",
            "building tree 13 of 200\n",
            "building tree 14 of 200\n",
            "building tree 15 of 200building tree 16 of 200\n",
            "\n",
            "building tree 17 of 200\n",
            "building tree 18 of 200\n",
            "building tree 19 of 200\n",
            "building tree 20 of 200\n",
            "building tree 21 of 200\n",
            "building tree 22 of 200\n",
            "building tree 23 of 200\n",
            "building tree 24 of 200\n"
          ],
          "name": "stdout"
        },
        {
          "output_type": "stream",
          "text": [
            "[Parallel(n_jobs=-1)]: Done  17 tasks      | elapsed:    0.6s\n",
            "[Parallel(n_jobs=-1)]: Done  24 tasks      | elapsed:    0.7s\n"
          ],
          "name": "stderr"
        },
        {
          "output_type": "stream",
          "text": [
            "building tree 25 of 200\n",
            "building tree 26 of 200\n",
            "building tree 27 of 200\n",
            "building tree 28 of 200\n",
            "building tree 29 of 200\n",
            "building tree 30 of 200\n",
            "building tree 31 of 200\n",
            "building tree 32 of 200\n",
            "building tree 33 of 200\n",
            "building tree 34 of 200\n",
            "building tree 35 of 200\n",
            "building tree 36 of 200\n",
            "building tree 37 of 200\n",
            "building tree 38 of 200\n",
            "building tree 39 of 200\n",
            "building tree 40 of 200\n"
          ],
          "name": "stdout"
        },
        {
          "output_type": "stream",
          "text": [
            "[Parallel(n_jobs=-1)]: Done  33 tasks      | elapsed:    1.1s\n"
          ],
          "name": "stderr"
        },
        {
          "output_type": "stream",
          "text": [
            "building tree 41 of 200\n",
            "building tree 42 of 200\n",
            "building tree 43 of 200\n",
            "building tree 44 of 200\n",
            "building tree 45 of 200\n",
            "building tree 46 of 200\n",
            "building tree 47 of 200\n",
            "building tree 48 of 200\n"
          ],
          "name": "stdout"
        },
        {
          "output_type": "stream",
          "text": [
            "[Parallel(n_jobs=-1)]: Done  42 tasks      | elapsed:    1.3s\n"
          ],
          "name": "stderr"
        },
        {
          "output_type": "stream",
          "text": [
            "building tree 49 of 200building tree 50 of 200\n",
            "\n",
            "building tree 51 of 200\n",
            "building tree 52 of 200\n",
            "building tree 53 of 200\n",
            "building tree 54 of 200\n",
            "building tree 55 of 200\n",
            "building tree 56 of 200\n"
          ],
          "name": "stdout"
        },
        {
          "output_type": "stream",
          "text": [
            "[Parallel(n_jobs=-1)]: Done  53 tasks      | elapsed:    1.6s\n"
          ],
          "name": "stderr"
        },
        {
          "output_type": "stream",
          "text": [
            "building tree 57 of 200\n",
            "building tree 58 of 200\n",
            "building tree 59 of 200\n",
            "building tree 60 of 200\n",
            "building tree 61 of 200\n",
            "building tree 62 of 200\n",
            "building tree 63 of 200\n",
            "building tree 64 of 200\n",
            "building tree 65 of 200\n",
            "building tree 66 of 200\n",
            "building tree 67 of 200\n",
            "building tree 68 of 200\n",
            "building tree 69 of 200\n",
            "building tree 70 of 200\n",
            "building tree 71 of 200\n",
            "building tree 72 of 200\n"
          ],
          "name": "stdout"
        },
        {
          "output_type": "stream",
          "text": [
            "[Parallel(n_jobs=-1)]: Done  64 tasks      | elapsed:    1.9s\n"
          ],
          "name": "stderr"
        },
        {
          "output_type": "stream",
          "text": [
            "building tree 73 of 200\n",
            "building tree 74 of 200\n",
            "building tree 75 of 200\n",
            "building tree 76 of 200\n",
            "building tree 77 of 200\n",
            "building tree 78 of 200\n",
            "building tree 79 of 200\n",
            "building tree 80 of 200\n"
          ],
          "name": "stdout"
        },
        {
          "output_type": "stream",
          "text": [
            "[Parallel(n_jobs=-1)]: Done  77 tasks      | elapsed:    2.3s\n"
          ],
          "name": "stderr"
        },
        {
          "output_type": "stream",
          "text": [
            "building tree 81 of 200\n",
            "building tree 82 of 200\n",
            "building tree 83 of 200\n",
            "building tree 84 of 200\n",
            "building tree 85 of 200\n",
            "building tree 86 of 200\n",
            "building tree 87 of 200\n",
            "building tree 88 of 200\n",
            "building tree 89 of 200\n",
            "building tree 90 of 200\n",
            "building tree 91 of 200\n",
            "building tree 92 of 200\n",
            "building tree 93 of 200\n",
            "building tree 94 of 200\n",
            "building tree 95 of 200\n",
            "building tree 96 of 200\n"
          ],
          "name": "stdout"
        },
        {
          "output_type": "stream",
          "text": [
            "[Parallel(n_jobs=-1)]: Done  90 tasks      | elapsed:    2.7s\n"
          ],
          "name": "stderr"
        },
        {
          "output_type": "stream",
          "text": [
            "building tree 97 of 200\n",
            "building tree 98 of 200\n",
            "building tree 99 of 200\n",
            "building tree 100 of 200\n",
            "building tree 101 of 200\n",
            "building tree 102 of 200\n",
            "building tree 103 of 200\n",
            "building tree 104 of 200\n",
            "building tree 105 of 200\n",
            "building tree 106 of 200\n",
            "building tree 107 of 200\n",
            "building tree 108 of 200\n",
            "building tree 109 of 200\n",
            "building tree 110 of 200\n",
            "building tree 111 of 200\n",
            "building tree 112 of 200\n"
          ],
          "name": "stdout"
        },
        {
          "output_type": "stream",
          "text": [
            "[Parallel(n_jobs=-1)]: Done 105 tasks      | elapsed:    3.1s\n"
          ],
          "name": "stderr"
        },
        {
          "output_type": "stream",
          "text": [
            "building tree 113 of 200\n",
            "building tree 114 of 200\n",
            "building tree 115 of 200\n",
            "building tree 116 of 200\n",
            "building tree 117 of 200\n",
            "building tree 118 of 200\n",
            "building tree 119 of 200\n",
            "building tree 120 of 200\n",
            "building tree 121 of 200\n",
            "building tree 122 of 200\n",
            "building tree 123 of 200\n",
            "building tree 124 of 200\n",
            "building tree 125 of 200\n",
            "building tree 126 of 200\n",
            "building tree 127 of 200\n",
            "building tree 128 of 200\n"
          ],
          "name": "stdout"
        },
        {
          "output_type": "stream",
          "text": [
            "[Parallel(n_jobs=-1)]: Done 120 tasks      | elapsed:    3.6s\n"
          ],
          "name": "stderr"
        },
        {
          "output_type": "stream",
          "text": [
            "building tree 129 of 200\n",
            "building tree 130 of 200\n",
            "building tree 131 of 200\n",
            "building tree 132 of 200\n",
            "building tree 133 of 200\n",
            "building tree 134 of 200\n",
            "building tree 135 of 200\n",
            "building tree 136 of 200\n",
            "building tree 137 of 200\n",
            "building tree 138 of 200\n",
            "building tree 139 of 200\n",
            "building tree 140 of 200\n",
            "building tree 141 of 200\n",
            "building tree 142 of 200\n",
            "building tree 143 of 200\n"
          ],
          "name": "stdout"
        },
        {
          "output_type": "stream",
          "text": [
            "[Parallel(n_jobs=-1)]: Done 137 tasks      | elapsed:    4.1s\n"
          ],
          "name": "stderr"
        },
        {
          "output_type": "stream",
          "text": [
            "building tree 144 of 200\n",
            "building tree 145 of 200\n",
            "building tree 146 of 200\n",
            "building tree 147 of 200\n",
            "building tree 148 of 200\n",
            "building tree 149 of 200\n",
            "building tree 150 of 200\n",
            "building tree 151 of 200\n",
            "building tree 152 of 200\n",
            "building tree 153 of 200\n",
            "building tree 154 of 200\n",
            "building tree 155 of 200\n",
            "building tree 156 of 200\n",
            "building tree 157 of 200\n",
            "building tree 158 of 200\n",
            "building tree 159 of 200\n"
          ],
          "name": "stdout"
        },
        {
          "output_type": "stream",
          "text": [
            "[Parallel(n_jobs=-1)]: Done 154 tasks      | elapsed:    4.6s\n"
          ],
          "name": "stderr"
        },
        {
          "output_type": "stream",
          "text": [
            "building tree 160 of 200\n",
            "building tree 161 of 200\n",
            "building tree 162 of 200\n",
            "building tree 163 of 200\n",
            "building tree 164 of 200\n",
            "building tree 165 of 200\n",
            "building tree 166 of 200\n",
            "building tree 167 of 200\n",
            "building tree 168 of 200\n",
            "building tree 169 of 200\n",
            "building tree 170 of 200\n",
            "building tree 171 of 200\n",
            "building tree 172 of 200\n",
            "building tree 173 of 200\n",
            "building tree 174 of 200\n",
            "building tree 175 of 200\n",
            "building tree 176 of 200\n",
            "building tree 177 of 200\n",
            "building tree 178 of 200\n",
            "building tree 179 of 200\n",
            "building tree 180 of 200\n",
            "building tree 181 of 200\n",
            "building tree 182 of 200\n",
            "building tree 183 of 200\n"
          ],
          "name": "stdout"
        },
        {
          "output_type": "stream",
          "text": [
            "[Parallel(n_jobs=-1)]: Done 173 tasks      | elapsed:    5.1s\n"
          ],
          "name": "stderr"
        },
        {
          "output_type": "stream",
          "text": [
            "building tree 184 of 200\n",
            "building tree 185 of 200\n",
            "building tree 186 of 200\n",
            "building tree 187 of 200\n",
            "building tree 188 of 200\n",
            "building tree 189 of 200\n",
            "building tree 190 of 200\n",
            "building tree 191 of 200\n",
            "building tree 192 of 200\n",
            "building tree 193 of 200\n",
            "building tree 194 of 200\n",
            "building tree 195 of 200\n",
            "building tree 196 of 200\n",
            "building tree 197 of 200\n",
            "building tree 198 of 200\n",
            "building tree 199 of 200\n"
          ],
          "name": "stdout"
        },
        {
          "output_type": "stream",
          "text": [
            "[Parallel(n_jobs=-1)]: Done 192 tasks      | elapsed:    5.7s\n",
            "[Parallel(n_jobs=-1)]: Done 200 out of 200 | elapsed:    5.9s finished\n"
          ],
          "name": "stderr"
        },
        {
          "output_type": "stream",
          "text": [
            "building tree 200 of 200\n"
          ],
          "name": "stdout"
        },
        {
          "output_type": "stream",
          "text": [
            "[Parallel(n_jobs=4)]: Using backend ThreadingBackend with 4 concurrent workers.\n",
            "[Parallel(n_jobs=4)]: Done   5 tasks      | elapsed:    0.0s\n",
            "[Parallel(n_jobs=4)]: Done  10 tasks      | elapsed:    0.0s\n",
            "[Parallel(n_jobs=4)]: Done  17 tasks      | elapsed:    0.0s\n",
            "[Parallel(n_jobs=4)]: Done  24 tasks      | elapsed:    0.0s\n",
            "[Parallel(n_jobs=4)]: Done  33 tasks      | elapsed:    0.0s\n",
            "[Parallel(n_jobs=4)]: Done  42 tasks      | elapsed:    0.0s\n",
            "[Parallel(n_jobs=4)]: Done  53 tasks      | elapsed:    0.0s\n",
            "[Parallel(n_jobs=4)]: Done  64 tasks      | elapsed:    0.0s\n",
            "[Parallel(n_jobs=4)]: Done  77 tasks      | elapsed:    0.0s\n",
            "[Parallel(n_jobs=4)]: Done  90 tasks      | elapsed:    0.0s\n",
            "[Parallel(n_jobs=4)]: Done 105 tasks      | elapsed:    0.0s\n",
            "[Parallel(n_jobs=4)]: Done 120 tasks      | elapsed:    0.0s\n",
            "[Parallel(n_jobs=4)]: Done 137 tasks      | elapsed:    0.0s\n",
            "[Parallel(n_jobs=4)]: Done 154 tasks      | elapsed:    0.1s\n",
            "[Parallel(n_jobs=4)]: Done 173 tasks      | elapsed:    0.1s\n",
            "[Parallel(n_jobs=4)]: Done 192 tasks      | elapsed:    0.1s\n",
            "[Parallel(n_jobs=4)]: Done 200 out of 200 | elapsed:    0.1s finished\n"
          ],
          "name": "stderr"
        }
      ]
    },
    {
      "cell_type": "code",
      "metadata": {
        "id": "BJkw8v2RgyXn",
        "colab_type": "code",
        "colab": {
          "base_uri": "https://localhost:8080/",
          "height": 1000
        },
        "outputId": "5845c0ba-ae8a-4c95-8785-1d90ca5c1cf2"
      },
      "source": [
        "from sklearn.model_selection import cross_val_score\n",
        "scores = cross_val_score(rf, x_test_scaler, y_pred_test, cv=5)\n",
        "print(scores)\n",
        "print(\"Accuracy: %0.2f (+/- %0.2f)\" % (scores.mean(), scores.std() * 2))"
      ],
      "execution_count": 31,
      "outputs": [
        {
          "output_type": "stream",
          "text": [
            "[Parallel(n_jobs=-1)]: Using backend LokyBackend with 4 concurrent workers.\n",
            "[Parallel(n_jobs=-1)]: Batch computation too fast (0.0316s.) Setting batch_size=2.\n",
            "[Parallel(n_jobs=-1)]: Done   5 tasks      | elapsed:    0.1s\n",
            "[Parallel(n_jobs=-1)]: Batch computation too fast (0.0868s.) Setting batch_size=4.\n",
            "[Parallel(n_jobs=-1)]: Done  12 tasks      | elapsed:    0.1s\n",
            "[Parallel(n_jobs=-1)]: Done  28 tasks      | elapsed:    0.3s\n",
            "[Parallel(n_jobs=-1)]: Batch computation too fast (0.1602s.) Setting batch_size=8.\n",
            "[Parallel(n_jobs=-1)]: Done  56 tasks      | elapsed:    0.4s\n",
            "[Parallel(n_jobs=-1)]: Done 128 tasks      | elapsed:    1.0s\n",
            "[Parallel(n_jobs=-1)]: Done 186 tasks      | elapsed:    1.3s\n",
            "[Parallel(n_jobs=-1)]: Done 200 out of 200 | elapsed:    1.4s finished\n",
            "[Parallel(n_jobs=4)]: Using backend ThreadingBackend with 4 concurrent workers.\n",
            "[Parallel(n_jobs=4)]: Done   5 tasks      | elapsed:    0.0s\n",
            "[Parallel(n_jobs=4)]: Done  10 tasks      | elapsed:    0.0s\n",
            "[Parallel(n_jobs=4)]: Done  17 tasks      | elapsed:    0.0s\n",
            "[Parallel(n_jobs=4)]: Done  24 tasks      | elapsed:    0.0s\n",
            "[Parallel(n_jobs=4)]: Done  33 tasks      | elapsed:    0.0s\n",
            "[Parallel(n_jobs=4)]: Done  42 tasks      | elapsed:    0.0s\n",
            "[Parallel(n_jobs=4)]: Done  53 tasks      | elapsed:    0.0s\n",
            "[Parallel(n_jobs=4)]: Done  64 tasks      | elapsed:    0.0s\n",
            "[Parallel(n_jobs=4)]: Done  77 tasks      | elapsed:    0.0s\n",
            "[Parallel(n_jobs=4)]: Done  90 tasks      | elapsed:    0.0s\n",
            "[Parallel(n_jobs=4)]: Done 105 tasks      | elapsed:    0.0s\n",
            "[Parallel(n_jobs=4)]: Done 120 tasks      | elapsed:    0.0s\n",
            "[Parallel(n_jobs=4)]: Done 137 tasks      | elapsed:    0.0s\n",
            "[Parallel(n_jobs=4)]: Done 154 tasks      | elapsed:    0.0s\n",
            "[Parallel(n_jobs=4)]: Done 173 tasks      | elapsed:    0.0s\n",
            "[Parallel(n_jobs=4)]: Done 192 tasks      | elapsed:    0.0s\n",
            "[Parallel(n_jobs=4)]: Done 200 out of 200 | elapsed:    0.0s finished\n"
          ],
          "name": "stderr"
        },
        {
          "output_type": "stream",
          "text": [
            "Using ThreadingBackend as joblib.Parallel backend instead of LokyBackend as the latter does not provide shared memory semantics.\n"
          ],
          "name": "stdout"
        },
        {
          "output_type": "stream",
          "text": [
            "[Parallel(n_jobs=-1)]: Using backend LokyBackend with 4 concurrent workers.\n",
            "[Parallel(n_jobs=-1)]: Batch computation too fast (0.0300s.) Setting batch_size=2.\n",
            "[Parallel(n_jobs=-1)]: Done   5 tasks      | elapsed:    0.1s\n",
            "[Parallel(n_jobs=-1)]: Batch computation too fast (0.0885s.) Setting batch_size=4.\n",
            "[Parallel(n_jobs=-1)]: Done  12 tasks      | elapsed:    0.1s\n",
            "[Parallel(n_jobs=-1)]: Done  28 tasks      | elapsed:    0.3s\n",
            "[Parallel(n_jobs=-1)]: Batch computation too fast (0.1614s.) Setting batch_size=8.\n",
            "[Parallel(n_jobs=-1)]: Done  56 tasks      | elapsed:    0.4s\n",
            "[Parallel(n_jobs=-1)]: Done 128 tasks      | elapsed:    1.0s\n",
            "[Parallel(n_jobs=-1)]: Done 186 tasks      | elapsed:    1.3s\n",
            "[Parallel(n_jobs=-1)]: Done 200 out of 200 | elapsed:    1.4s finished\n",
            "[Parallel(n_jobs=4)]: Using backend ThreadingBackend with 4 concurrent workers.\n",
            "[Parallel(n_jobs=4)]: Done   5 tasks      | elapsed:    0.0s\n",
            "[Parallel(n_jobs=4)]: Done  10 tasks      | elapsed:    0.0s\n",
            "[Parallel(n_jobs=4)]: Done  17 tasks      | elapsed:    0.0s\n",
            "[Parallel(n_jobs=4)]: Done  24 tasks      | elapsed:    0.0s\n",
            "[Parallel(n_jobs=4)]: Done  33 tasks      | elapsed:    0.0s\n",
            "[Parallel(n_jobs=4)]: Done  42 tasks      | elapsed:    0.0s\n",
            "[Parallel(n_jobs=4)]: Done  53 tasks      | elapsed:    0.0s\n",
            "[Parallel(n_jobs=4)]: Done  64 tasks      | elapsed:    0.0s\n",
            "[Parallel(n_jobs=4)]: Done  77 tasks      | elapsed:    0.0s\n",
            "[Parallel(n_jobs=4)]: Done  90 tasks      | elapsed:    0.0s\n",
            "[Parallel(n_jobs=4)]: Done 105 tasks      | elapsed:    0.0s\n",
            "[Parallel(n_jobs=4)]: Done 120 tasks      | elapsed:    0.0s\n",
            "[Parallel(n_jobs=4)]: Done 137 tasks      | elapsed:    0.0s\n",
            "[Parallel(n_jobs=4)]: Done 154 tasks      | elapsed:    0.0s\n",
            "[Parallel(n_jobs=4)]: Done 173 tasks      | elapsed:    0.0s\n",
            "[Parallel(n_jobs=4)]: Done 192 tasks      | elapsed:    0.0s\n",
            "[Parallel(n_jobs=4)]: Done 200 out of 200 | elapsed:    0.0s finished\n"
          ],
          "name": "stderr"
        },
        {
          "output_type": "stream",
          "text": [
            "Using ThreadingBackend as joblib.Parallel backend instead of LokyBackend as the latter does not provide shared memory semantics.\n"
          ],
          "name": "stdout"
        },
        {
          "output_type": "stream",
          "text": [
            "[Parallel(n_jobs=-1)]: Using backend LokyBackend with 4 concurrent workers.\n",
            "[Parallel(n_jobs=-1)]: Batch computation too fast (0.0280s.) Setting batch_size=2.\n",
            "[Parallel(n_jobs=-1)]: Done   5 tasks      | elapsed:    0.1s\n",
            "[Parallel(n_jobs=-1)]: Batch computation too fast (0.0816s.) Setting batch_size=4.\n",
            "[Parallel(n_jobs=-1)]: Done  12 tasks      | elapsed:    0.1s\n",
            "[Parallel(n_jobs=-1)]: Done  28 tasks      | elapsed:    0.3s\n",
            "[Parallel(n_jobs=-1)]: Batch computation too fast (0.1610s.) Setting batch_size=8.\n",
            "[Parallel(n_jobs=-1)]: Done  56 tasks      | elapsed:    0.4s\n",
            "[Parallel(n_jobs=-1)]: Done 128 tasks      | elapsed:    1.0s\n",
            "[Parallel(n_jobs=-1)]: Done 186 tasks      | elapsed:    1.3s\n",
            "[Parallel(n_jobs=-1)]: Done 200 out of 200 | elapsed:    1.4s finished\n",
            "[Parallel(n_jobs=4)]: Using backend ThreadingBackend with 4 concurrent workers.\n",
            "[Parallel(n_jobs=4)]: Done   5 tasks      | elapsed:    0.0s\n",
            "[Parallel(n_jobs=4)]: Done  10 tasks      | elapsed:    0.0s\n",
            "[Parallel(n_jobs=4)]: Done  17 tasks      | elapsed:    0.0s\n",
            "[Parallel(n_jobs=4)]: Done  24 tasks      | elapsed:    0.0s\n",
            "[Parallel(n_jobs=4)]: Done  33 tasks      | elapsed:    0.0s\n",
            "[Parallel(n_jobs=4)]: Done  42 tasks      | elapsed:    0.0s\n",
            "[Parallel(n_jobs=4)]: Done  53 tasks      | elapsed:    0.0s\n",
            "[Parallel(n_jobs=4)]: Done  64 tasks      | elapsed:    0.0s\n",
            "[Parallel(n_jobs=4)]: Done  77 tasks      | elapsed:    0.0s\n",
            "[Parallel(n_jobs=4)]: Done  90 tasks      | elapsed:    0.0s\n",
            "[Parallel(n_jobs=4)]: Done 105 tasks      | elapsed:    0.0s\n",
            "[Parallel(n_jobs=4)]: Done 120 tasks      | elapsed:    0.0s\n",
            "[Parallel(n_jobs=4)]: Done 137 tasks      | elapsed:    0.0s\n",
            "[Parallel(n_jobs=4)]: Done 154 tasks      | elapsed:    0.0s\n",
            "[Parallel(n_jobs=4)]: Done 173 tasks      | elapsed:    0.0s\n",
            "[Parallel(n_jobs=4)]: Done 192 tasks      | elapsed:    0.0s\n",
            "[Parallel(n_jobs=4)]: Done 200 out of 200 | elapsed:    0.0s finished\n"
          ],
          "name": "stderr"
        },
        {
          "output_type": "stream",
          "text": [
            "Using ThreadingBackend as joblib.Parallel backend instead of LokyBackend as the latter does not provide shared memory semantics.\n"
          ],
          "name": "stdout"
        },
        {
          "output_type": "stream",
          "text": [
            "[Parallel(n_jobs=-1)]: Using backend LokyBackend with 4 concurrent workers.\n",
            "[Parallel(n_jobs=-1)]: Batch computation too fast (0.0279s.) Setting batch_size=2.\n",
            "[Parallel(n_jobs=-1)]: Done   5 tasks      | elapsed:    0.1s\n",
            "[Parallel(n_jobs=-1)]: Batch computation too fast (0.0810s.) Setting batch_size=4.\n",
            "[Parallel(n_jobs=-1)]: Done  12 tasks      | elapsed:    0.1s\n",
            "[Parallel(n_jobs=-1)]: Done  28 tasks      | elapsed:    0.3s\n",
            "[Parallel(n_jobs=-1)]: Batch computation too fast (0.1587s.) Setting batch_size=8.\n",
            "[Parallel(n_jobs=-1)]: Done  56 tasks      | elapsed:    0.4s\n",
            "[Parallel(n_jobs=-1)]: Done 128 tasks      | elapsed:    1.0s\n",
            "[Parallel(n_jobs=-1)]: Done 179 tasks      | elapsed:    1.3s\n",
            "[Parallel(n_jobs=-1)]: Done 200 out of 200 | elapsed:    1.4s finished\n",
            "[Parallel(n_jobs=4)]: Using backend ThreadingBackend with 4 concurrent workers.\n",
            "[Parallel(n_jobs=4)]: Done   5 tasks      | elapsed:    0.0s\n",
            "[Parallel(n_jobs=4)]: Done  10 tasks      | elapsed:    0.0s\n",
            "[Parallel(n_jobs=4)]: Done  17 tasks      | elapsed:    0.0s\n",
            "[Parallel(n_jobs=4)]: Done  24 tasks      | elapsed:    0.0s\n",
            "[Parallel(n_jobs=4)]: Done  33 tasks      | elapsed:    0.0s\n",
            "[Parallel(n_jobs=4)]: Done  42 tasks      | elapsed:    0.0s\n",
            "[Parallel(n_jobs=4)]: Done  53 tasks      | elapsed:    0.0s\n",
            "[Parallel(n_jobs=4)]: Done  64 tasks      | elapsed:    0.0s\n",
            "[Parallel(n_jobs=4)]: Done  77 tasks      | elapsed:    0.0s\n",
            "[Parallel(n_jobs=4)]: Done  90 tasks      | elapsed:    0.0s\n",
            "[Parallel(n_jobs=4)]: Done 105 tasks      | elapsed:    0.0s\n",
            "[Parallel(n_jobs=4)]: Done 120 tasks      | elapsed:    0.0s\n",
            "[Parallel(n_jobs=4)]: Done 137 tasks      | elapsed:    0.0s\n",
            "[Parallel(n_jobs=4)]: Done 154 tasks      | elapsed:    0.0s\n",
            "[Parallel(n_jobs=4)]: Done 173 tasks      | elapsed:    0.0s\n",
            "[Parallel(n_jobs=4)]: Done 192 tasks      | elapsed:    0.0s\n",
            "[Parallel(n_jobs=4)]: Done 200 out of 200 | elapsed:    0.1s finished\n"
          ],
          "name": "stderr"
        },
        {
          "output_type": "stream",
          "text": [
            "Using ThreadingBackend as joblib.Parallel backend instead of LokyBackend as the latter does not provide shared memory semantics.\n"
          ],
          "name": "stdout"
        },
        {
          "output_type": "stream",
          "text": [
            "[Parallel(n_jobs=-1)]: Using backend LokyBackend with 4 concurrent workers.\n",
            "[Parallel(n_jobs=-1)]: Batch computation too fast (0.0336s.) Setting batch_size=2.\n",
            "[Parallel(n_jobs=-1)]: Done   5 tasks      | elapsed:    0.1s\n",
            "[Parallel(n_jobs=-1)]: Batch computation too fast (0.0790s.) Setting batch_size=4.\n",
            "[Parallel(n_jobs=-1)]: Done  12 tasks      | elapsed:    0.1s\n",
            "[Parallel(n_jobs=-1)]: Done  28 tasks      | elapsed:    0.3s\n",
            "[Parallel(n_jobs=-1)]: Batch computation too fast (0.1583s.) Setting batch_size=8.\n",
            "[Parallel(n_jobs=-1)]: Done  56 tasks      | elapsed:    0.4s\n",
            "[Parallel(n_jobs=-1)]: Done 128 tasks      | elapsed:    1.0s\n"
          ],
          "name": "stderr"
        },
        {
          "output_type": "stream",
          "text": [
            "Using ThreadingBackend as joblib.Parallel backend instead of LokyBackend as the latter does not provide shared memory semantics.\n",
            "[0.98477413 0.98735031 0.98512861 0.98790237 0.98458369]\n",
            "Accuracy: 0.99 (+/- 0.00)\n"
          ],
          "name": "stdout"
        },
        {
          "output_type": "stream",
          "text": [
            "[Parallel(n_jobs=-1)]: Done 186 tasks      | elapsed:    1.3s\n",
            "[Parallel(n_jobs=-1)]: Done 200 out of 200 | elapsed:    1.3s finished\n",
            "[Parallel(n_jobs=4)]: Using backend ThreadingBackend with 4 concurrent workers.\n",
            "[Parallel(n_jobs=4)]: Done   5 tasks      | elapsed:    0.0s\n",
            "[Parallel(n_jobs=4)]: Done  10 tasks      | elapsed:    0.0s\n",
            "[Parallel(n_jobs=4)]: Done  17 tasks      | elapsed:    0.0s\n",
            "[Parallel(n_jobs=4)]: Done  24 tasks      | elapsed:    0.0s\n",
            "[Parallel(n_jobs=4)]: Done  33 tasks      | elapsed:    0.0s\n",
            "[Parallel(n_jobs=4)]: Done  42 tasks      | elapsed:    0.0s\n",
            "[Parallel(n_jobs=4)]: Done  53 tasks      | elapsed:    0.0s\n",
            "[Parallel(n_jobs=4)]: Done  64 tasks      | elapsed:    0.0s\n",
            "[Parallel(n_jobs=4)]: Done  77 tasks      | elapsed:    0.0s\n",
            "[Parallel(n_jobs=4)]: Done  90 tasks      | elapsed:    0.0s\n",
            "[Parallel(n_jobs=4)]: Done 105 tasks      | elapsed:    0.0s\n",
            "[Parallel(n_jobs=4)]: Done 120 tasks      | elapsed:    0.0s\n",
            "[Parallel(n_jobs=4)]: Done 137 tasks      | elapsed:    0.0s\n",
            "[Parallel(n_jobs=4)]: Done 154 tasks      | elapsed:    0.0s\n",
            "[Parallel(n_jobs=4)]: Done 173 tasks      | elapsed:    0.0s\n",
            "[Parallel(n_jobs=4)]: Done 192 tasks      | elapsed:    0.0s\n",
            "[Parallel(n_jobs=4)]: Done 200 out of 200 | elapsed:    0.0s finished\n"
          ],
          "name": "stderr"
        }
      ]
    },
    {
      "cell_type": "markdown",
      "metadata": {
        "id": "es-Zse_p8nea",
        "colab_type": "text"
      },
      "source": [
        "#Caso você queira aplicar mais alguns algoritmos, segue aqui algumas recomendações"
      ]
    },
    {
      "cell_type": "code",
      "metadata": {
        "id": "3H2W5258382K",
        "colab_type": "code",
        "colab": {
          "base_uri": "https://localhost:8080/",
          "height": 224
        },
        "outputId": "bced0589-0fbd-4bc9-a505-2e7a9104ef64"
      },
      "source": [
        "# Outra opção de Pipeline\n",
        "from sklearn.model_selection import GridSearchCV\n",
        "# Outras opções de Regressores\n",
        "from sklearn.neural_network import MLPRegressor\n",
        "from sklearn.linear_model import Perceptron\n",
        "from sklearn.linear_model import LinearRegression\n",
        "from sklearn.linear_model import LogisticRegression\n",
        "from sklearn.linear_model import SGDRegressor\n",
        "from sklearn.ensemble import ExtraTreesRegressor\n",
        "\n",
        "# Outra opção de scaler\n",
        "# Primeiro instala\n",
        "!pip install category_encoders\n",
        "# Depois o utiliza da mesma forma que usa o StandardScaler\n",
        "import category_encoders as ce\n",
        "onehotencoder = ce.OneHotEncoder()\n",
        "x_train_onehotencoder = onehotencoder.fit_transform(x_train)\n",
        "x_test_onehotencoder = onehotencoder.fit_transform(x_test)"
      ],
      "execution_count": 34,
      "outputs": [
        {
          "output_type": "stream",
          "text": [
            "Requirement already satisfied: category_encoders in /usr/local/lib/python3.6/dist-packages (2.1.0)\n",
            "Requirement already satisfied: patsy>=0.4.1 in /usr/local/lib/python3.6/dist-packages (from category_encoders) (0.5.1)\n",
            "Requirement already satisfied: scipy>=0.19.0 in /usr/local/lib/python3.6/dist-packages (from category_encoders) (1.4.1)\n",
            "Requirement already satisfied: statsmodels>=0.6.1 in /usr/local/lib/python3.6/dist-packages (from category_encoders) (0.10.2)\n",
            "Requirement already satisfied: numpy>=1.11.3 in /usr/local/lib/python3.6/dist-packages (from category_encoders) (1.18.2)\n",
            "Requirement already satisfied: pandas>=0.21.1 in /usr/local/lib/python3.6/dist-packages (from category_encoders) (1.0.3)\n",
            "Requirement already satisfied: scikit-learn>=0.20.0 in /usr/local/lib/python3.6/dist-packages (from category_encoders) (0.22.2.post1)\n",
            "Requirement already satisfied: six in /usr/local/lib/python3.6/dist-packages (from patsy>=0.4.1->category_encoders) (1.12.0)\n",
            "Requirement already satisfied: python-dateutil>=2.6.1 in /usr/local/lib/python3.6/dist-packages (from pandas>=0.21.1->category_encoders) (2.8.1)\n",
            "Requirement already satisfied: pytz>=2017.2 in /usr/local/lib/python3.6/dist-packages (from pandas>=0.21.1->category_encoders) (2018.9)\n",
            "Requirement already satisfied: joblib>=0.11 in /usr/local/lib/python3.6/dist-packages (from scikit-learn>=0.20.0->category_encoders) (0.14.1)\n"
          ],
          "name": "stdout"
        }
      ]
    },
    {
      "cell_type": "markdown",
      "metadata": {
        "id": "rzN9wn0worVL",
        "colab_type": "text"
      },
      "source": [
        "#Script que não permite que o Google Colab desconecte. Assim, você não perde suas execuções que demoram mais de 30 minutos.\n",
        "\n",
        "Basta abrir as opções de desenvolvedor (F12 ou ctrl + shift + i), colar o código abaixo na aba Console e dar Enter.\n",
        "\n",
        "> function ConnectButton(){\n",
        "    const arraydocolab = document.querySelectorAll('.notebook-content .cell.code .cell-gutter paper-icon-button')\n",
        "    arraydocolab[arraydocolab.length - 1].click()\n",
        "    console.log('==== Reconecta a cada 20 minutos ====')\n",
        "}\n",
        "var intervaldocolab = setInterval(ConnectButton,1200000);\n",
        "// se quiser remover isso, basta digitar no console: clearInterval(intervaldocolab)\n",
        "\n"
      ]
    },
    {
      "cell_type": "code",
      "metadata": {
        "id": "Jq7K3FFY_2MY",
        "colab_type": "code",
        "colab": {}
      },
      "source": [
        "# Mantenha essa célula aqui para garantir o funcionamento do script"
      ],
      "execution_count": 0,
      "outputs": []
    }
  ]
}