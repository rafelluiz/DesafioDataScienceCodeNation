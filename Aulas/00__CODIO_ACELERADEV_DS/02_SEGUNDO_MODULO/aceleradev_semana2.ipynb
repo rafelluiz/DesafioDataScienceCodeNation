{
 "cells": [
  {
   "cell_type": "markdown",
   "metadata": {},
   "source": [
    "# AceleraDev Codenation - Semana 2\n",
    "\n",
    "### Túlio Vieira de Souza | Data Scientist"
   ]
  },
  {
   "cell_type": "markdown",
   "metadata": {},
   "source": [
    "## Manipulando dados"
   ]
  },
  {
   "cell_type": "code",
   "execution_count": 115,
   "metadata": {},
   "outputs": [],
   "source": [
    "#Importando os pacotes\n",
    "import pandas as pd\n",
    "import numpy as np"
   ]
  },
  {
   "cell_type": "code",
   "execution_count": 116,
   "metadata": {},
   "outputs": [],
   "source": [
    "#acessando o help dos pacotes\n",
    "#pd?"
   ]
  },
  {
   "cell_type": "markdown",
   "metadata": {},
   "source": [
    "### Dicionarios"
   ]
  },
  {
   "cell_type": "code",
   "execution_count": 117,
   "metadata": {},
   "outputs": [],
   "source": [
    "#Criando um dicionário com os dados\n",
    "dados = {'canal_venda' : ['facebook', 'twitter', 'instagram', 'linkedin', 'facebook'],\n",
    "        'acessos': [100, 200, 300 ,400, 500],\n",
    "        'site': ['site1', 'site1', 'site2', 'site2', 'site3'],\n",
    "        'vendas': [1000.52, 1052.34, 2002, 5000, 300 ]}"
   ]
  },
  {
   "cell_type": "code",
   "execution_count": 118,
   "metadata": {},
   "outputs": [
    {
     "data": {
      "text/plain": "{'canal_venda': ['facebook', 'twitter', 'instagram', 'linkedin', 'facebook'],\n 'acessos': [100, 200, 300, 400, 500],\n 'site': ['site1', 'site1', 'site2', 'site2', 'site3'],\n 'vendas': [1000.52, 1052.34, 2002, 5000, 300]}"
     },
     "execution_count": 118,
     "metadata": {},
     "output_type": "execute_result"
    }
   ],
   "source": [
    "#para printar o dicionáario\n",
    "dados"
   ]
  },
  {
   "cell_type": "code",
   "execution_count": 119,
   "metadata": {},
   "outputs": [
    {
     "data": {
      "text/plain": "dict"
     },
     "execution_count": 119,
     "metadata": {},
     "output_type": "execute_result"
    }
   ],
   "source": [
    "#verificando o tipo do dicionario\n",
    "type(dados)"
   ]
  },
  {
   "cell_type": "code",
   "execution_count": 120,
   "metadata": {},
   "outputs": [
    {
     "data": {
      "text/plain": "dict_keys(['canal_venda', 'acessos', 'site', 'vendas'])"
     },
     "execution_count": 120,
     "metadata": {},
     "output_type": "execute_result"
    }
   ],
   "source": [
    "#Acessando as chaves do meu dicionario\n",
    "dados.keys()"
   ]
  },
  {
   "cell_type": "code",
   "execution_count": 121,
   "metadata": {},
   "outputs": [
    {
     "data": {
      "text/plain": "['site1', 'site1', 'site2', 'site2', 'site3']"
     },
     "execution_count": 121,
     "metadata": {},
     "output_type": "execute_result"
    }
   ],
   "source": [
    "#Acessando uma chave especifica\n",
    "dados['site']"
   ]
  },
  {
   "cell_type": "code",
   "execution_count": 122,
   "metadata": {},
   "outputs": [
    {
     "data": {
      "text/plain": "300"
     },
     "execution_count": 122,
     "metadata": {},
     "output_type": "execute_result"
    }
   ],
   "source": [
    "#Acessando uma posicao especifica de um dicionario\n",
    "dados['acessos'][2]"
   ]
  },
  {
   "cell_type": "code",
   "execution_count": 123,
   "metadata": {},
   "outputs": [
    {
     "data": {
      "text/plain": "'instagram'"
     },
     "execution_count": 123,
     "metadata": {},
     "output_type": "execute_result"
    }
   ],
   "source": [
    "#Acessando uma posicao especifica de um dicionario\n",
    "dados['canal_venda'][2]"
   ]
  },
  {
   "cell_type": "code",
   "execution_count": 124,
   "metadata": {},
   "outputs": [
    {
     "data": {
      "text/plain": "['facebook', 'twitter', 'instagram']"
     },
     "execution_count": 124,
     "metadata": {},
     "output_type": "execute_result"
    }
   ],
   "source": [
    "#Acessando uma posicao especifica de um dicionario\n",
    "dados['canal_venda'][:3]"
   ]
  },
  {
   "cell_type": "markdown",
   "metadata": {},
   "source": [
    "### Listas"
   ]
  },
  {
   "cell_type": "code",
   "execution_count": 125,
   "metadata": {},
   "outputs": [
    {
     "data": {
      "text/plain": "list"
     },
     "execution_count": 125,
     "metadata": {},
     "output_type": "execute_result"
    }
   ],
   "source": [
    "type([1,2,3])"
   ]
  },
  {
   "cell_type": "code",
   "execution_count": 126,
   "metadata": {},
   "outputs": [],
   "source": [
    "#Criando uma lista\n",
    "lista = [200, 200 , 300 ,800, 200]"
   ]
  },
  {
   "cell_type": "code",
   "execution_count": 127,
   "metadata": {},
   "outputs": [
    {
     "data": {
      "text/plain": "[200, 200, 300, 800, 200]"
     },
     "execution_count": 127,
     "metadata": {},
     "output_type": "execute_result"
    }
   ],
   "source": [
    "#printando a lista\n",
    "lista"
   ]
  },
  {
   "cell_type": "code",
   "execution_count": 128,
   "metadata": {},
   "outputs": [
    {
     "data": {
      "text/plain": "200"
     },
     "execution_count": 128,
     "metadata": {},
     "output_type": "execute_result"
    }
   ],
   "source": [
    "#Vendo valores especificos\n",
    "lista[1]"
   ]
  },
  {
   "cell_type": "code",
   "execution_count": 129,
   "metadata": {},
   "outputs": [
    {
     "data": {
      "text/plain": "[200, 200, 300]"
     },
     "execution_count": 129,
     "metadata": {},
     "output_type": "execute_result"
    }
   ],
   "source": [
    "#fatia da lista\n",
    "lista[:3]"
   ]
  },
  {
   "cell_type": "code",
   "execution_count": 130,
   "metadata": {},
   "outputs": [],
   "source": [
    "# Adicionando a lista ao dicionario \n",
    "dados['lista'] = lista"
   ]
  },
  {
   "cell_type": "code",
   "execution_count": 131,
   "metadata": {},
   "outputs": [
    {
     "data": {
      "text/plain": "{'canal_venda': ['facebook', 'twitter', 'instagram', 'linkedin', 'facebook'],\n 'acessos': [100, 200, 300, 400, 500],\n 'site': ['site1', 'site1', 'site2', 'site2', 'site3'],\n 'vendas': [1000.52, 1052.34, 2002, 5000, 300],\n 'lista': [200, 200, 300, 800, 200]}"
     },
     "execution_count": 131,
     "metadata": {},
     "output_type": "execute_result"
    }
   ],
   "source": [
    "dados"
   ]
  },
  {
   "cell_type": "markdown",
   "metadata": {},
   "source": [
    "### DataFrames"
   ]
  },
  {
   "cell_type": "code",
   "execution_count": 132,
   "metadata": {},
   "outputs": [
    {
     "data": {
      "text/plain": "{'canal_venda': ['facebook', 'twitter', 'instagram', 'linkedin', 'facebook'],\n 'acessos': [100, 200, 300, 400, 500],\n 'site': ['site1', 'site1', 'site2', 'site2', 'site3'],\n 'vendas': [1000.52, 1052.34, 2002, 5000, 300],\n 'lista': [200, 200, 300, 800, 200]}"
     },
     "execution_count": 132,
     "metadata": {},
     "output_type": "execute_result"
    }
   ],
   "source": [
    "dados"
   ]
  },
  {
   "cell_type": "code",
   "execution_count": 133,
   "metadata": {},
   "outputs": [],
   "source": [
    "#Criar um data frame a partir de um dict\n",
    "dataframe = pd.DataFrame(dados)"
   ]
  },
  {
   "cell_type": "code",
   "execution_count": 134,
   "metadata": {},
   "outputs": [
    {
     "data": {
      "text/plain": "  canal_venda  acessos   site   vendas  lista\n0    facebook      100  site1  1000.52    200\n1     twitter      200  site1  1052.34    200\n2   instagram      300  site2  2002.00    300\n3    linkedin      400  site2  5000.00    800\n4    facebook      500  site3   300.00    200",
      "text/html": "<div>\n<style scoped>\n    .dataframe tbody tr th:only-of-type {\n        vertical-align: middle;\n    }\n\n    .dataframe tbody tr th {\n        vertical-align: top;\n    }\n\n    .dataframe thead th {\n        text-align: right;\n    }\n</style>\n<table border=\"1\" class=\"dataframe\">\n  <thead>\n    <tr style=\"text-align: right;\">\n      <th></th>\n      <th>canal_venda</th>\n      <th>acessos</th>\n      <th>site</th>\n      <th>vendas</th>\n      <th>lista</th>\n    </tr>\n  </thead>\n  <tbody>\n    <tr>\n      <th>0</th>\n      <td>facebook</td>\n      <td>100</td>\n      <td>site1</td>\n      <td>1000.52</td>\n      <td>200</td>\n    </tr>\n    <tr>\n      <th>1</th>\n      <td>twitter</td>\n      <td>200</td>\n      <td>site1</td>\n      <td>1052.34</td>\n      <td>200</td>\n    </tr>\n    <tr>\n      <th>2</th>\n      <td>instagram</td>\n      <td>300</td>\n      <td>site2</td>\n      <td>2002.00</td>\n      <td>300</td>\n    </tr>\n    <tr>\n      <th>3</th>\n      <td>linkedin</td>\n      <td>400</td>\n      <td>site2</td>\n      <td>5000.00</td>\n      <td>800</td>\n    </tr>\n    <tr>\n      <th>4</th>\n      <td>facebook</td>\n      <td>500</td>\n      <td>site3</td>\n      <td>300.00</td>\n      <td>200</td>\n    </tr>\n  </tbody>\n</table>\n</div>"
     },
     "execution_count": 134,
     "metadata": {},
     "output_type": "execute_result"
    }
   ],
   "source": [
    "#acessando o dataframe\n",
    "dataframe"
   ]
  },
  {
   "cell_type": "code",
   "execution_count": 135,
   "metadata": {},
   "outputs": [
    {
     "data": {
      "text/plain": "  canal_venda  acessos   site   vendas  lista\n0    facebook      100  site1  1000.52    200\n1     twitter      200  site1  1052.34    200",
      "text/html": "<div>\n<style scoped>\n    .dataframe tbody tr th:only-of-type {\n        vertical-align: middle;\n    }\n\n    .dataframe tbody tr th {\n        vertical-align: top;\n    }\n\n    .dataframe thead th {\n        text-align: right;\n    }\n</style>\n<table border=\"1\" class=\"dataframe\">\n  <thead>\n    <tr style=\"text-align: right;\">\n      <th></th>\n      <th>canal_venda</th>\n      <th>acessos</th>\n      <th>site</th>\n      <th>vendas</th>\n      <th>lista</th>\n    </tr>\n  </thead>\n  <tbody>\n    <tr>\n      <th>0</th>\n      <td>facebook</td>\n      <td>100</td>\n      <td>site1</td>\n      <td>1000.52</td>\n      <td>200</td>\n    </tr>\n    <tr>\n      <th>1</th>\n      <td>twitter</td>\n      <td>200</td>\n      <td>site1</td>\n      <td>1052.34</td>\n      <td>200</td>\n    </tr>\n  </tbody>\n</table>\n</div>"
     },
     "execution_count": 135,
     "metadata": {},
     "output_type": "execute_result"
    }
   ],
   "source": [
    "#printando os primeiros casos do dataframe\n",
    "dataframe.head(2)"
   ]
  },
  {
   "cell_type": "code",
   "execution_count": 136,
   "metadata": {},
   "outputs": [
    {
     "data": {
      "text/plain": "(5, 5)"
     },
     "execution_count": 136,
     "metadata": {},
     "output_type": "execute_result"
    }
   ],
   "source": [
    "#Verificando o formato do dataframe\n",
    "dataframe.shape"
   ]
  },
  {
   "cell_type": "code",
   "execution_count": 137,
   "metadata": {},
   "outputs": [],
   "source": [
    "QQRNOME = dataframe"
   ]
  },
  {
   "cell_type": "code",
   "execution_count": 138,
   "metadata": {},
   "outputs": [
    {
     "data": {
      "text/plain": "(5, 5)"
     },
     "execution_count": 138,
     "metadata": {},
     "output_type": "execute_result"
    }
   ],
   "source": [
    "QQRNOME.shape"
   ]
  },
  {
   "cell_type": "code",
   "execution_count": 139,
   "metadata": {},
   "outputs": [
    {
     "data": {
      "text/plain": "pandas.core.frame.DataFrame"
     },
     "execution_count": 139,
     "metadata": {},
     "output_type": "execute_result"
    }
   ],
   "source": [
    "type(QQRNOME)"
   ]
  },
  {
   "cell_type": "code",
   "execution_count": 140,
   "metadata": {},
   "outputs": [
    {
     "data": {
      "text/plain": "RangeIndex(start=0, stop=5, step=1)"
     },
     "execution_count": 140,
     "metadata": {},
     "output_type": "execute_result"
    }
   ],
   "source": [
    "#Verificando o indice do dataframe\n",
    "dataframe.index"
   ]
  },
  {
   "cell_type": "code",
   "execution_count": 141,
   "metadata": {},
   "outputs": [
    {
     "data": {
      "text/plain": "canal_venda     object\nacessos          int64\nsite            object\nvendas         float64\nlista            int64\ndtype: object"
     },
     "execution_count": 141,
     "metadata": {},
     "output_type": "execute_result"
    }
   ],
   "source": [
    "#Verificando os tipos dos dados do dataframe\n",
    "dataframe.dtypes"
   ]
  },
  {
   "cell_type": "code",
   "execution_count": 142,
   "metadata": {},
   "outputs": [
    {
     "data": {
      "text/plain": "   canal_venda  acessos   site  vendas  lista\n0        False    False  False   False  False\n1        False    False  False   False  False\n2        False    False  False   False  False\n3        False    False  False   False  False\n4        False    False  False   False  False",
      "text/html": "<div>\n<style scoped>\n    .dataframe tbody tr th:only-of-type {\n        vertical-align: middle;\n    }\n\n    .dataframe tbody tr th {\n        vertical-align: top;\n    }\n\n    .dataframe thead th {\n        text-align: right;\n    }\n</style>\n<table border=\"1\" class=\"dataframe\">\n  <thead>\n    <tr style=\"text-align: right;\">\n      <th></th>\n      <th>canal_venda</th>\n      <th>acessos</th>\n      <th>site</th>\n      <th>vendas</th>\n      <th>lista</th>\n    </tr>\n  </thead>\n  <tbody>\n    <tr>\n      <th>0</th>\n      <td>False</td>\n      <td>False</td>\n      <td>False</td>\n      <td>False</td>\n      <td>False</td>\n    </tr>\n    <tr>\n      <th>1</th>\n      <td>False</td>\n      <td>False</td>\n      <td>False</td>\n      <td>False</td>\n      <td>False</td>\n    </tr>\n    <tr>\n      <th>2</th>\n      <td>False</td>\n      <td>False</td>\n      <td>False</td>\n      <td>False</td>\n      <td>False</td>\n    </tr>\n    <tr>\n      <th>3</th>\n      <td>False</td>\n      <td>False</td>\n      <td>False</td>\n      <td>False</td>\n      <td>False</td>\n    </tr>\n    <tr>\n      <th>4</th>\n      <td>False</td>\n      <td>False</td>\n      <td>False</td>\n      <td>False</td>\n      <td>False</td>\n    </tr>\n  </tbody>\n</table>\n</div>"
     },
     "execution_count": 142,
     "metadata": {},
     "output_type": "execute_result"
    }
   ],
   "source": [
    "#Verificando se existem valores faltantes\n",
    "dataframe.isna()"
   ]
  },
  {
   "cell_type": "code",
   "execution_count": 143,
   "metadata": {},
   "outputs": [
    {
     "data": {
      "text/plain": "Index(['canal_venda', 'acessos', 'site', 'vendas', 'lista'], dtype='object')"
     },
     "execution_count": 143,
     "metadata": {},
     "output_type": "execute_result"
    }
   ],
   "source": [
    "#printando os nomes das colunas\n",
    "dataframe.columns"
   ]
  },
  {
   "cell_type": "code",
   "execution_count": 144,
   "metadata": {},
   "outputs": [
    {
     "data": {
      "text/plain": "0     facebook\n1      twitter\n2    instagram\n3     linkedin\n4     facebook\nName: canal_venda, dtype: object"
     },
     "execution_count": 144,
     "metadata": {},
     "output_type": "execute_result"
    }
   ],
   "source": [
    "#Acessando uma coluna especifica\n",
    "dataframe['canal_venda']"
   ]
  },
  {
   "cell_type": "code",
   "execution_count": 145,
   "metadata": {},
   "outputs": [],
   "source": [
    "# Criando uma nova coluna\n",
    "dataframe['nova_coluna'] = [1, 2, 3, 4, 5]"
   ]
  },
  {
   "cell_type": "code",
   "execution_count": 146,
   "metadata": {},
   "outputs": [
    {
     "data": {
      "text/plain": "  canal_venda  acessos   site   vendas  lista  nova_coluna\n0    facebook      100  site1  1000.52    200            1\n1     twitter      200  site1  1052.34    200            2\n2   instagram      300  site2  2002.00    300            3\n3    linkedin      400  site2  5000.00    800            4\n4    facebook      500  site3   300.00    200            5",
      "text/html": "<div>\n<style scoped>\n    .dataframe tbody tr th:only-of-type {\n        vertical-align: middle;\n    }\n\n    .dataframe tbody tr th {\n        vertical-align: top;\n    }\n\n    .dataframe thead th {\n        text-align: right;\n    }\n</style>\n<table border=\"1\" class=\"dataframe\">\n  <thead>\n    <tr style=\"text-align: right;\">\n      <th></th>\n      <th>canal_venda</th>\n      <th>acessos</th>\n      <th>site</th>\n      <th>vendas</th>\n      <th>lista</th>\n      <th>nova_coluna</th>\n    </tr>\n  </thead>\n  <tbody>\n    <tr>\n      <th>0</th>\n      <td>facebook</td>\n      <td>100</td>\n      <td>site1</td>\n      <td>1000.52</td>\n      <td>200</td>\n      <td>1</td>\n    </tr>\n    <tr>\n      <th>1</th>\n      <td>twitter</td>\n      <td>200</td>\n      <td>site1</td>\n      <td>1052.34</td>\n      <td>200</td>\n      <td>2</td>\n    </tr>\n    <tr>\n      <th>2</th>\n      <td>instagram</td>\n      <td>300</td>\n      <td>site2</td>\n      <td>2002.00</td>\n      <td>300</td>\n      <td>3</td>\n    </tr>\n    <tr>\n      <th>3</th>\n      <td>linkedin</td>\n      <td>400</td>\n      <td>site2</td>\n      <td>5000.00</td>\n      <td>800</td>\n      <td>4</td>\n    </tr>\n    <tr>\n      <th>4</th>\n      <td>facebook</td>\n      <td>500</td>\n      <td>site3</td>\n      <td>300.00</td>\n      <td>200</td>\n      <td>5</td>\n    </tr>\n  </tbody>\n</table>\n</div>"
     },
     "execution_count": 146,
     "metadata": {},
     "output_type": "execute_result"
    }
   ],
   "source": [
    "dataframe"
   ]
  },
  {
   "cell_type": "code",
   "execution_count": 147,
   "metadata": {},
   "outputs": [
    {
     "data": {
      "text/plain": "Index(['canal_venda', 'acessos', 'site', 'vendas', 'lista', 'nova_coluna'], dtype='object')"
     },
     "execution_count": 147,
     "metadata": {},
     "output_type": "execute_result"
    }
   ],
   "source": [
    "dataframe.columns"
   ]
  },
  {
   "cell_type": "code",
   "execution_count": 148,
   "metadata": {},
   "outputs": [
    {
     "data": {
      "text/plain": "    vendas  lista  nova_coluna\n0  1000.52    200            1\n1  1052.34    200            2\n2  2002.00    300            3\n3  5000.00    800            4\n4   300.00    200            5",
      "text/html": "<div>\n<style scoped>\n    .dataframe tbody tr th:only-of-type {\n        vertical-align: middle;\n    }\n\n    .dataframe tbody tr th {\n        vertical-align: top;\n    }\n\n    .dataframe thead th {\n        text-align: right;\n    }\n</style>\n<table border=\"1\" class=\"dataframe\">\n  <thead>\n    <tr style=\"text-align: right;\">\n      <th></th>\n      <th>vendas</th>\n      <th>lista</th>\n      <th>nova_coluna</th>\n    </tr>\n  </thead>\n  <tbody>\n    <tr>\n      <th>0</th>\n      <td>1000.52</td>\n      <td>200</td>\n      <td>1</td>\n    </tr>\n    <tr>\n      <th>1</th>\n      <td>1052.34</td>\n      <td>200</td>\n      <td>2</td>\n    </tr>\n    <tr>\n      <th>2</th>\n      <td>2002.00</td>\n      <td>300</td>\n      <td>3</td>\n    </tr>\n    <tr>\n      <th>3</th>\n      <td>5000.00</td>\n      <td>800</td>\n      <td>4</td>\n    </tr>\n    <tr>\n      <th>4</th>\n      <td>300.00</td>\n      <td>200</td>\n      <td>5</td>\n    </tr>\n  </tbody>\n</table>\n</div>"
     },
     "execution_count": 148,
     "metadata": {},
     "output_type": "execute_result"
    }
   ],
   "source": [
    "# Removendo colunas\n",
    "dataframe.drop(columns = ['acessos','site', 'canal_venda'])"
   ]
  },
  {
   "cell_type": "code",
   "execution_count": 149,
   "metadata": {},
   "outputs": [
    {
     "data": {
      "text/plain": "  canal_venda  acessos   site   vendas  lista  nova_coluna\n0    facebook      100  site1  1000.52    200            1\n1     twitter      200  site1  1052.34    200            2\n2   instagram      300  site2  2002.00    300            3\n3    linkedin      400  site2  5000.00    800            4\n4    facebook      500  site3   300.00    200            5",
      "text/html": "<div>\n<style scoped>\n    .dataframe tbody tr th:only-of-type {\n        vertical-align: middle;\n    }\n\n    .dataframe tbody tr th {\n        vertical-align: top;\n    }\n\n    .dataframe thead th {\n        text-align: right;\n    }\n</style>\n<table border=\"1\" class=\"dataframe\">\n  <thead>\n    <tr style=\"text-align: right;\">\n      <th></th>\n      <th>canal_venda</th>\n      <th>acessos</th>\n      <th>site</th>\n      <th>vendas</th>\n      <th>lista</th>\n      <th>nova_coluna</th>\n    </tr>\n  </thead>\n  <tbody>\n    <tr>\n      <th>0</th>\n      <td>facebook</td>\n      <td>100</td>\n      <td>site1</td>\n      <td>1000.52</td>\n      <td>200</td>\n      <td>1</td>\n    </tr>\n    <tr>\n      <th>1</th>\n      <td>twitter</td>\n      <td>200</td>\n      <td>site1</td>\n      <td>1052.34</td>\n      <td>200</td>\n      <td>2</td>\n    </tr>\n    <tr>\n      <th>2</th>\n      <td>instagram</td>\n      <td>300</td>\n      <td>site2</td>\n      <td>2002.00</td>\n      <td>300</td>\n      <td>3</td>\n    </tr>\n    <tr>\n      <th>3</th>\n      <td>linkedin</td>\n      <td>400</td>\n      <td>site2</td>\n      <td>5000.00</td>\n      <td>800</td>\n      <td>4</td>\n    </tr>\n    <tr>\n      <th>4</th>\n      <td>facebook</td>\n      <td>500</td>\n      <td>site3</td>\n      <td>300.00</td>\n      <td>200</td>\n      <td>5</td>\n    </tr>\n  </tbody>\n</table>\n</div>"
     },
     "execution_count": 149,
     "metadata": {},
     "output_type": "execute_result"
    }
   ],
   "source": [
    "dataframe"
   ]
  },
  {
   "cell_type": "code",
   "execution_count": 150,
   "metadata": {},
   "outputs": [
    {
     "data": {
      "text/plain": "Index(['canal_venda', 'acessos', 'site', 'vendas', 'lista', 'nova_coluna'], dtype='object')"
     },
     "execution_count": 150,
     "metadata": {},
     "output_type": "execute_result"
    }
   ],
   "source": [
    "#Mostrando as colunas\n",
    "dataframe.columns"
   ]
  },
  {
   "cell_type": "code",
   "execution_count": 151,
   "metadata": {},
   "outputs": [
    {
     "data": {
      "text/plain": "200"
     },
     "execution_count": 151,
     "metadata": {},
     "output_type": "execute_result"
    }
   ],
   "source": [
    "#Acessando valores especificos\n",
    "dataframe['acessos'][1]"
   ]
  },
  {
   "cell_type": "code",
   "execution_count": 152,
   "metadata": {},
   "outputs": [
    {
     "data": {
      "text/plain": "0    facebook\n1     twitter\nName: canal_venda, dtype: object"
     },
     "execution_count": 152,
     "metadata": {},
     "output_type": "execute_result"
    }
   ],
   "source": [
    "#Acessando fatia de coluna especifica\n",
    "dataframe['canal_venda'][:2]"
   ]
  },
  {
   "cell_type": "code",
   "execution_count": 153,
   "metadata": {},
   "outputs": [
    {
     "data": {
      "text/plain": "  canal_venda  acessos   site   vendas  lista  nova_coluna\n0    facebook      100  site1  1000.52    200            1\n1     twitter      200  site1  1052.34    200            2\n2   instagram      300  site2  2002.00    300            3\n3    linkedin      400  site2  5000.00    800            4\n4    facebook      500  site3   300.00    200            5",
      "text/html": "<div>\n<style scoped>\n    .dataframe tbody tr th:only-of-type {\n        vertical-align: middle;\n    }\n\n    .dataframe tbody tr th {\n        vertical-align: top;\n    }\n\n    .dataframe thead th {\n        text-align: right;\n    }\n</style>\n<table border=\"1\" class=\"dataframe\">\n  <thead>\n    <tr style=\"text-align: right;\">\n      <th></th>\n      <th>canal_venda</th>\n      <th>acessos</th>\n      <th>site</th>\n      <th>vendas</th>\n      <th>lista</th>\n      <th>nova_coluna</th>\n    </tr>\n  </thead>\n  <tbody>\n    <tr>\n      <th>0</th>\n      <td>facebook</td>\n      <td>100</td>\n      <td>site1</td>\n      <td>1000.52</td>\n      <td>200</td>\n      <td>1</td>\n    </tr>\n    <tr>\n      <th>1</th>\n      <td>twitter</td>\n      <td>200</td>\n      <td>site1</td>\n      <td>1052.34</td>\n      <td>200</td>\n      <td>2</td>\n    </tr>\n    <tr>\n      <th>2</th>\n      <td>instagram</td>\n      <td>300</td>\n      <td>site2</td>\n      <td>2002.00</td>\n      <td>300</td>\n      <td>3</td>\n    </tr>\n    <tr>\n      <th>3</th>\n      <td>linkedin</td>\n      <td>400</td>\n      <td>site2</td>\n      <td>5000.00</td>\n      <td>800</td>\n      <td>4</td>\n    </tr>\n    <tr>\n      <th>4</th>\n      <td>facebook</td>\n      <td>500</td>\n      <td>site3</td>\n      <td>300.00</td>\n      <td>200</td>\n      <td>5</td>\n    </tr>\n  </tbody>\n</table>\n</div>"
     },
     "execution_count": 153,
     "metadata": {},
     "output_type": "execute_result"
    }
   ],
   "source": [
    "dataframe"
   ]
  },
  {
   "cell_type": "code",
   "execution_count": 154,
   "metadata": {},
   "outputs": [
    {
     "data": {
      "text/plain": "   lista  nova_coluna\n3    800            4\n4    200            5",
      "text/html": "<div>\n<style scoped>\n    .dataframe tbody tr th:only-of-type {\n        vertical-align: middle;\n    }\n\n    .dataframe tbody tr th {\n        vertical-align: top;\n    }\n\n    .dataframe thead th {\n        text-align: right;\n    }\n</style>\n<table border=\"1\" class=\"dataframe\">\n  <thead>\n    <tr style=\"text-align: right;\">\n      <th></th>\n      <th>lista</th>\n      <th>nova_coluna</th>\n    </tr>\n  </thead>\n  <tbody>\n    <tr>\n      <th>3</th>\n      <td>800</td>\n      <td>4</td>\n    </tr>\n    <tr>\n      <th>4</th>\n      <td>200</td>\n      <td>5</td>\n    </tr>\n  </tbody>\n</table>\n</div>"
     },
     "execution_count": 154,
     "metadata": {},
     "output_type": "execute_result"
    }
   ],
   "source": [
    "### Fatiando os dados usando o iloc (linhas | colunas)\n",
    "dataframe.iloc[3:,4:]"
   ]
  },
  {
   "cell_type": "code",
   "execution_count": 155,
   "metadata": {},
   "outputs": [
    {
     "data": {
      "text/plain": "  canal_venda  acessos   site   vendas  lista  nova_coluna\n0    facebook      100  site1  1000.52    200            1\n1     twitter      200  site1  1052.34    200            2\n2   instagram      300  site2  2002.00    300            3\n3    linkedin      400  site2  5000.00    800            4\n4    facebook      500  site3   300.00    200            5",
      "text/html": "<div>\n<style scoped>\n    .dataframe tbody tr th:only-of-type {\n        vertical-align: middle;\n    }\n\n    .dataframe tbody tr th {\n        vertical-align: top;\n    }\n\n    .dataframe thead th {\n        text-align: right;\n    }\n</style>\n<table border=\"1\" class=\"dataframe\">\n  <thead>\n    <tr style=\"text-align: right;\">\n      <th></th>\n      <th>canal_venda</th>\n      <th>acessos</th>\n      <th>site</th>\n      <th>vendas</th>\n      <th>lista</th>\n      <th>nova_coluna</th>\n    </tr>\n  </thead>\n  <tbody>\n    <tr>\n      <th>0</th>\n      <td>facebook</td>\n      <td>100</td>\n      <td>site1</td>\n      <td>1000.52</td>\n      <td>200</td>\n      <td>1</td>\n    </tr>\n    <tr>\n      <th>1</th>\n      <td>twitter</td>\n      <td>200</td>\n      <td>site1</td>\n      <td>1052.34</td>\n      <td>200</td>\n      <td>2</td>\n    </tr>\n    <tr>\n      <th>2</th>\n      <td>instagram</td>\n      <td>300</td>\n      <td>site2</td>\n      <td>2002.00</td>\n      <td>300</td>\n      <td>3</td>\n    </tr>\n    <tr>\n      <th>3</th>\n      <td>linkedin</td>\n      <td>400</td>\n      <td>site2</td>\n      <td>5000.00</td>\n      <td>800</td>\n      <td>4</td>\n    </tr>\n    <tr>\n      <th>4</th>\n      <td>facebook</td>\n      <td>500</td>\n      <td>site3</td>\n      <td>300.00</td>\n      <td>200</td>\n      <td>5</td>\n    </tr>\n  </tbody>\n</table>\n</div>"
     },
     "execution_count": 155,
     "metadata": {},
     "output_type": "execute_result"
    }
   ],
   "source": [
    "dataframe"
   ]
  },
  {
   "cell_type": "code",
   "execution_count": 156,
   "metadata": {},
   "outputs": [
    {
     "data": {
      "text/plain": "  canal_venda  acessos   site   vendas  lista  nova_coluna\n0    facebook      100  site1  1000.52    200            1\n1     twitter      200  site1  1052.34    200            2\n2   instagram      300  site2  2002.00    300            3\n3    linkedin      400  site2  5000.00    800            4",
      "text/html": "<div>\n<style scoped>\n    .dataframe tbody tr th:only-of-type {\n        vertical-align: middle;\n    }\n\n    .dataframe tbody tr th {\n        vertical-align: top;\n    }\n\n    .dataframe thead th {\n        text-align: right;\n    }\n</style>\n<table border=\"1\" class=\"dataframe\">\n  <thead>\n    <tr style=\"text-align: right;\">\n      <th></th>\n      <th>canal_venda</th>\n      <th>acessos</th>\n      <th>site</th>\n      <th>vendas</th>\n      <th>lista</th>\n      <th>nova_coluna</th>\n    </tr>\n  </thead>\n  <tbody>\n    <tr>\n      <th>0</th>\n      <td>facebook</td>\n      <td>100</td>\n      <td>site1</td>\n      <td>1000.52</td>\n      <td>200</td>\n      <td>1</td>\n    </tr>\n    <tr>\n      <th>1</th>\n      <td>twitter</td>\n      <td>200</td>\n      <td>site1</td>\n      <td>1052.34</td>\n      <td>200</td>\n      <td>2</td>\n    </tr>\n    <tr>\n      <th>2</th>\n      <td>instagram</td>\n      <td>300</td>\n      <td>site2</td>\n      <td>2002.00</td>\n      <td>300</td>\n      <td>3</td>\n    </tr>\n    <tr>\n      <th>3</th>\n      <td>linkedin</td>\n      <td>400</td>\n      <td>site2</td>\n      <td>5000.00</td>\n      <td>800</td>\n      <td>4</td>\n    </tr>\n  </tbody>\n</table>\n</div>"
     },
     "execution_count": 156,
     "metadata": {},
     "output_type": "execute_result"
    }
   ],
   "source": [
    "#Fatiar os dados usando o loc (indice)\n",
    "dataframe.loc[:3]"
   ]
  },
  {
   "cell_type": "code",
   "execution_count": 157,
   "metadata": {},
   "outputs": [
    {
     "data": {
      "text/plain": "  canal_venda   vendas\n0    facebook  1000.52\n1     twitter  1052.34\n2   instagram  2002.00\n3    linkedin  5000.00\n4    facebook   300.00",
      "text/html": "<div>\n<style scoped>\n    .dataframe tbody tr th:only-of-type {\n        vertical-align: middle;\n    }\n\n    .dataframe tbody tr th {\n        vertical-align: top;\n    }\n\n    .dataframe thead th {\n        text-align: right;\n    }\n</style>\n<table border=\"1\" class=\"dataframe\">\n  <thead>\n    <tr style=\"text-align: right;\">\n      <th></th>\n      <th>canal_venda</th>\n      <th>vendas</th>\n    </tr>\n  </thead>\n  <tbody>\n    <tr>\n      <th>0</th>\n      <td>facebook</td>\n      <td>1000.52</td>\n    </tr>\n    <tr>\n      <th>1</th>\n      <td>twitter</td>\n      <td>1052.34</td>\n    </tr>\n    <tr>\n      <th>2</th>\n      <td>instagram</td>\n      <td>2002.00</td>\n    </tr>\n    <tr>\n      <th>3</th>\n      <td>linkedin</td>\n      <td>5000.00</td>\n    </tr>\n    <tr>\n      <th>4</th>\n      <td>facebook</td>\n      <td>300.00</td>\n    </tr>\n  </tbody>\n</table>\n</div>"
     },
     "execution_count": 157,
     "metadata": {},
     "output_type": "execute_result"
    }
   ],
   "source": [
    "#Selecionando colunas especificas\n",
    "dataframe[['canal_venda', 'vendas']]"
   ]
  },
  {
   "cell_type": "code",
   "execution_count": 158,
   "metadata": {},
   "outputs": [],
   "source": [
    "#Passando os valores atraves de lista\n",
    "filtro = ['canal_venda', 'acessos']"
   ]
  },
  {
   "cell_type": "code",
   "execution_count": 159,
   "metadata": {},
   "outputs": [
    {
     "data": {
      "text/plain": "  canal_venda  acessos\n0    facebook      100\n1     twitter      200\n2   instagram      300\n3    linkedin      400\n4    facebook      500",
      "text/html": "<div>\n<style scoped>\n    .dataframe tbody tr th:only-of-type {\n        vertical-align: middle;\n    }\n\n    .dataframe tbody tr th {\n        vertical-align: top;\n    }\n\n    .dataframe thead th {\n        text-align: right;\n    }\n</style>\n<table border=\"1\" class=\"dataframe\">\n  <thead>\n    <tr style=\"text-align: right;\">\n      <th></th>\n      <th>canal_venda</th>\n      <th>acessos</th>\n    </tr>\n  </thead>\n  <tbody>\n    <tr>\n      <th>0</th>\n      <td>facebook</td>\n      <td>100</td>\n    </tr>\n    <tr>\n      <th>1</th>\n      <td>twitter</td>\n      <td>200</td>\n    </tr>\n    <tr>\n      <th>2</th>\n      <td>instagram</td>\n      <td>300</td>\n    </tr>\n    <tr>\n      <th>3</th>\n      <td>linkedin</td>\n      <td>400</td>\n    </tr>\n    <tr>\n      <th>4</th>\n      <td>facebook</td>\n      <td>500</td>\n    </tr>\n  </tbody>\n</table>\n</div>"
     },
     "execution_count": 159,
     "metadata": {},
     "output_type": "execute_result"
    }
   ],
   "source": [
    "dataframe[filtro]"
   ]
  },
  {
   "cell_type": "code",
   "execution_count": 160,
   "metadata": {},
   "outputs": [
    {
     "name": "stdout",
     "output_type": "stream",
     "text": [
      "<class 'pandas.core.frame.DataFrame'>\n",
      "RangeIndex: 5 entries, 0 to 4\n",
      "Data columns (total 6 columns):\n",
      " #   Column       Non-Null Count  Dtype  \n",
      "---  ------       --------------  -----  \n",
      " 0   canal_venda  5 non-null      object \n",
      " 1   acessos      5 non-null      int64  \n",
      " 2   site         5 non-null      object \n",
      " 3   vendas       5 non-null      float64\n",
      " 4   lista        5 non-null      int64  \n",
      " 5   nova_coluna  5 non-null      int64  \n",
      "dtypes: float64(1), int64(3), object(2)\n",
      "memory usage: 368.0+ bytes\n"
     ]
    }
   ],
   "source": [
    "# Usando o metodo info()\n",
    "dataframe.info()"
   ]
  },
  {
   "cell_type": "code",
   "execution_count": 161,
   "metadata": {},
   "outputs": [
    {
     "data": {
      "text/plain": "  canal_venda  acessos   site   vendas  lista  nova_coluna\n0    facebook      100  site1  1000.52    200            1\n1     twitter      200  site1  1052.34    200            2\n2   instagram      300  site2  2002.00    300            3\n3    linkedin      400  site2  5000.00    800            4\n4    facebook      500  site3   300.00    200            5",
      "text/html": "<div>\n<style scoped>\n    .dataframe tbody tr th:only-of-type {\n        vertical-align: middle;\n    }\n\n    .dataframe tbody tr th {\n        vertical-align: top;\n    }\n\n    .dataframe thead th {\n        text-align: right;\n    }\n</style>\n<table border=\"1\" class=\"dataframe\">\n  <thead>\n    <tr style=\"text-align: right;\">\n      <th></th>\n      <th>canal_venda</th>\n      <th>acessos</th>\n      <th>site</th>\n      <th>vendas</th>\n      <th>lista</th>\n      <th>nova_coluna</th>\n    </tr>\n  </thead>\n  <tbody>\n    <tr>\n      <th>0</th>\n      <td>facebook</td>\n      <td>100</td>\n      <td>site1</td>\n      <td>1000.52</td>\n      <td>200</td>\n      <td>1</td>\n    </tr>\n    <tr>\n      <th>1</th>\n      <td>twitter</td>\n      <td>200</td>\n      <td>site1</td>\n      <td>1052.34</td>\n      <td>200</td>\n      <td>2</td>\n    </tr>\n    <tr>\n      <th>2</th>\n      <td>instagram</td>\n      <td>300</td>\n      <td>site2</td>\n      <td>2002.00</td>\n      <td>300</td>\n      <td>3</td>\n    </tr>\n    <tr>\n      <th>3</th>\n      <td>linkedin</td>\n      <td>400</td>\n      <td>site2</td>\n      <td>5000.00</td>\n      <td>800</td>\n      <td>4</td>\n    </tr>\n    <tr>\n      <th>4</th>\n      <td>facebook</td>\n      <td>500</td>\n      <td>site3</td>\n      <td>300.00</td>\n      <td>200</td>\n      <td>5</td>\n    </tr>\n  </tbody>\n</table>\n</div>"
     },
     "execution_count": 161,
     "metadata": {},
     "output_type": "execute_result"
    }
   ],
   "source": [
    "dataframe"
   ]
  },
  {
   "cell_type": "code",
   "execution_count": 162,
   "metadata": {},
   "outputs": [],
   "source": [
    "#Pivotando os dados (coluna)\n",
    "aux = dataframe.pivot(index = 'canal_venda', columns='site', values='acessos')"
   ]
  },
  {
   "cell_type": "code",
   "execution_count": 163,
   "metadata": {},
   "outputs": [
    {
     "name": "stdout",
     "output_type": "stream",
     "text": [
      "<class 'pandas.core.frame.DataFrame'>\n",
      "Index: 4 entries, facebook to twitter\n",
      "Data columns (total 3 columns):\n",
      " #   Column  Non-Null Count  Dtype  \n",
      "---  ------  --------------  -----  \n",
      " 0   site1   2 non-null      float64\n",
      " 1   site2   2 non-null      float64\n",
      " 2   site3   1 non-null      float64\n",
      "dtypes: float64(3)\n",
      "memory usage: 128.0+ bytes\n"
     ]
    }
   ],
   "source": [
    "aux.info()"
   ]
  },
  {
   "cell_type": "code",
   "execution_count": 164,
   "metadata": {},
   "outputs": [
    {
     "data": {
      "text/plain": "site         site1  site2  site3\ncanal_venda                     \nfacebook     100.0    0.0  500.0\ninstagram      0.0  300.0    0.0\nlinkedin       0.0  400.0    0.0\ntwitter      200.0    0.0    0.0",
      "text/html": "<div>\n<style scoped>\n    .dataframe tbody tr th:only-of-type {\n        vertical-align: middle;\n    }\n\n    .dataframe tbody tr th {\n        vertical-align: top;\n    }\n\n    .dataframe thead th {\n        text-align: right;\n    }\n</style>\n<table border=\"1\" class=\"dataframe\">\n  <thead>\n    <tr style=\"text-align: right;\">\n      <th>site</th>\n      <th>site1</th>\n      <th>site2</th>\n      <th>site3</th>\n    </tr>\n    <tr>\n      <th>canal_venda</th>\n      <th></th>\n      <th></th>\n      <th></th>\n    </tr>\n  </thead>\n  <tbody>\n    <tr>\n      <th>facebook</th>\n      <td>100.0</td>\n      <td>0.0</td>\n      <td>500.0</td>\n    </tr>\n    <tr>\n      <th>instagram</th>\n      <td>0.0</td>\n      <td>300.0</td>\n      <td>0.0</td>\n    </tr>\n    <tr>\n      <th>linkedin</th>\n      <td>0.0</td>\n      <td>400.0</td>\n      <td>0.0</td>\n    </tr>\n    <tr>\n      <th>twitter</th>\n      <td>200.0</td>\n      <td>0.0</td>\n      <td>0.0</td>\n    </tr>\n  </tbody>\n</table>\n</div>"
     },
     "execution_count": 164,
     "metadata": {},
     "output_type": "execute_result"
    }
   ],
   "source": [
    "#Completando os valores faltantes usando fillna\n",
    "#Pivotando os dados (coluna)\n",
    "aux= dataframe.pivot(index = 'canal_venda', columns='site', values='acessos').fillna(0)\n",
    "dataframe.pivot(index = 'canal_venda', columns='site', values='acessos').fillna(0)"
   ]
  },
  {
   "cell_type": "code",
   "execution_count": 165,
   "metadata": {},
   "outputs": [
    {
     "data": {
      "text/plain": "  canal_venda  acessos   site   vendas  lista  nova_coluna\n0    facebook      100  site1  1000.52    200            1\n1     twitter      200  site1  1052.34    200            2\n2   instagram      300  site2  2002.00    300            3\n3    linkedin      400  site2  5000.00    800            4\n4    facebook      500  site3   300.00    200            5",
      "text/html": "<div>\n<style scoped>\n    .dataframe tbody tr th:only-of-type {\n        vertical-align: middle;\n    }\n\n    .dataframe tbody tr th {\n        vertical-align: top;\n    }\n\n    .dataframe thead th {\n        text-align: right;\n    }\n</style>\n<table border=\"1\" class=\"dataframe\">\n  <thead>\n    <tr style=\"text-align: right;\">\n      <th></th>\n      <th>canal_venda</th>\n      <th>acessos</th>\n      <th>site</th>\n      <th>vendas</th>\n      <th>lista</th>\n      <th>nova_coluna</th>\n    </tr>\n  </thead>\n  <tbody>\n    <tr>\n      <th>0</th>\n      <td>facebook</td>\n      <td>100</td>\n      <td>site1</td>\n      <td>1000.52</td>\n      <td>200</td>\n      <td>1</td>\n    </tr>\n    <tr>\n      <th>1</th>\n      <td>twitter</td>\n      <td>200</td>\n      <td>site1</td>\n      <td>1052.34</td>\n      <td>200</td>\n      <td>2</td>\n    </tr>\n    <tr>\n      <th>2</th>\n      <td>instagram</td>\n      <td>300</td>\n      <td>site2</td>\n      <td>2002.00</td>\n      <td>300</td>\n      <td>3</td>\n    </tr>\n    <tr>\n      <th>3</th>\n      <td>linkedin</td>\n      <td>400</td>\n      <td>site2</td>\n      <td>5000.00</td>\n      <td>800</td>\n      <td>4</td>\n    </tr>\n    <tr>\n      <th>4</th>\n      <td>facebook</td>\n      <td>500</td>\n      <td>site3</td>\n      <td>300.00</td>\n      <td>200</td>\n      <td>5</td>\n    </tr>\n  </tbody>\n</table>\n</div>"
     },
     "execution_count": 165,
     "metadata": {},
     "output_type": "execute_result"
    }
   ],
   "source": [
    "dataframe"
   ]
  },
  {
   "cell_type": "code",
   "execution_count": 166,
   "metadata": {},
   "outputs": [
    {
     "data": {
      "text/plain": "    site     variable      value\n0  site1  canal_venda   facebook\n1  site1  canal_venda    twitter\n2  site2  canal_venda  instagram\n3  site2  canal_venda   linkedin\n4  site3  canal_venda   facebook",
      "text/html": "<div>\n<style scoped>\n    .dataframe tbody tr th:only-of-type {\n        vertical-align: middle;\n    }\n\n    .dataframe tbody tr th {\n        vertical-align: top;\n    }\n\n    .dataframe thead th {\n        text-align: right;\n    }\n</style>\n<table border=\"1\" class=\"dataframe\">\n  <thead>\n    <tr style=\"text-align: right;\">\n      <th></th>\n      <th>site</th>\n      <th>variable</th>\n      <th>value</th>\n    </tr>\n  </thead>\n  <tbody>\n    <tr>\n      <th>0</th>\n      <td>site1</td>\n      <td>canal_venda</td>\n      <td>facebook</td>\n    </tr>\n    <tr>\n      <th>1</th>\n      <td>site1</td>\n      <td>canal_venda</td>\n      <td>twitter</td>\n    </tr>\n    <tr>\n      <th>2</th>\n      <td>site2</td>\n      <td>canal_venda</td>\n      <td>instagram</td>\n    </tr>\n    <tr>\n      <th>3</th>\n      <td>site2</td>\n      <td>canal_venda</td>\n      <td>linkedin</td>\n    </tr>\n    <tr>\n      <th>4</th>\n      <td>site3</td>\n      <td>canal_venda</td>\n      <td>facebook</td>\n    </tr>\n  </tbody>\n</table>\n</div>"
     },
     "execution_count": 166,
     "metadata": {},
     "output_type": "execute_result"
    }
   ],
   "source": [
    "# Mudando as colunas usando o comando melt\n",
    "dataframe.melt(id_vars='site', value_vars=['canal_venda'])"
   ]
  },
  {
   "cell_type": "code",
   "execution_count": 167,
   "metadata": {},
   "outputs": [
    {
     "name": "stdout",
     "output_type": "stream",
     "text": [
      "Index(['site1', 'site2', 'site3'], dtype='object', name='site')\n",
      "Index(['index', 'canal_venda', 'acessos', 'site', 'vendas', 'lista',\n",
      "       'nova_coluna'],\n",
      "      dtype='object')\n"
     ]
    }
   ],
   "source": [
    "#Resetando o indice do dataframe\n",
    "print(aux.columns)\n",
    "aux = dataframe.reset_index()\n",
    "print(aux.columns)"
   ]
  },
  {
   "cell_type": "code",
   "execution_count": 168,
   "metadata": {},
   "outputs": [
    {
     "data": {
      "text/plain": "  canal_venda  acessos   site   vendas  lista  nova_coluna\n0    facebook      100  site1  1000.52    200            1\n1     twitter      200  site1  1052.34    200            2\n2   instagram      300  site2  2002.00    300            3\n3    linkedin      400  site2  5000.00    800            4\n4    facebook      500  site3   300.00    200            5",
      "text/html": "<div>\n<style scoped>\n    .dataframe tbody tr th:only-of-type {\n        vertical-align: middle;\n    }\n\n    .dataframe tbody tr th {\n        vertical-align: top;\n    }\n\n    .dataframe thead th {\n        text-align: right;\n    }\n</style>\n<table border=\"1\" class=\"dataframe\">\n  <thead>\n    <tr style=\"text-align: right;\">\n      <th></th>\n      <th>canal_venda</th>\n      <th>acessos</th>\n      <th>site</th>\n      <th>vendas</th>\n      <th>lista</th>\n      <th>nova_coluna</th>\n    </tr>\n  </thead>\n  <tbody>\n    <tr>\n      <th>0</th>\n      <td>facebook</td>\n      <td>100</td>\n      <td>site1</td>\n      <td>1000.52</td>\n      <td>200</td>\n      <td>1</td>\n    </tr>\n    <tr>\n      <th>1</th>\n      <td>twitter</td>\n      <td>200</td>\n      <td>site1</td>\n      <td>1052.34</td>\n      <td>200</td>\n      <td>2</td>\n    </tr>\n    <tr>\n      <th>2</th>\n      <td>instagram</td>\n      <td>300</td>\n      <td>site2</td>\n      <td>2002.00</td>\n      <td>300</td>\n      <td>3</td>\n    </tr>\n    <tr>\n      <th>3</th>\n      <td>linkedin</td>\n      <td>400</td>\n      <td>site2</td>\n      <td>5000.00</td>\n      <td>800</td>\n      <td>4</td>\n    </tr>\n    <tr>\n      <th>4</th>\n      <td>facebook</td>\n      <td>500</td>\n      <td>site3</td>\n      <td>300.00</td>\n      <td>200</td>\n      <td>5</td>\n    </tr>\n  </tbody>\n</table>\n</div>"
     },
     "execution_count": 168,
     "metadata": {},
     "output_type": "execute_result"
    }
   ],
   "source": [
    "dataframe"
   ]
  },
  {
   "cell_type": "code",
   "execution_count": 169,
   "metadata": {},
   "outputs": [
    {
     "data": {
      "text/plain": "   level_0  index canal_venda  acessos   site   vendas  lista  nova_coluna\n0        0      0    facebook      100  site1  1000.52    200            1\n1        1      1     twitter      200  site1  1052.34    200            2\n2        2      2   instagram      300  site2  2002.00    300            3\n3        3      3    linkedin      400  site2  5000.00    800            4\n4        4      4    facebook      500  site3   300.00    200            5",
      "text/html": "<div>\n<style scoped>\n    .dataframe tbody tr th:only-of-type {\n        vertical-align: middle;\n    }\n\n    .dataframe tbody tr th {\n        vertical-align: top;\n    }\n\n    .dataframe thead th {\n        text-align: right;\n    }\n</style>\n<table border=\"1\" class=\"dataframe\">\n  <thead>\n    <tr style=\"text-align: right;\">\n      <th></th>\n      <th>level_0</th>\n      <th>index</th>\n      <th>canal_venda</th>\n      <th>acessos</th>\n      <th>site</th>\n      <th>vendas</th>\n      <th>lista</th>\n      <th>nova_coluna</th>\n    </tr>\n  </thead>\n  <tbody>\n    <tr>\n      <th>0</th>\n      <td>0</td>\n      <td>0</td>\n      <td>facebook</td>\n      <td>100</td>\n      <td>site1</td>\n      <td>1000.52</td>\n      <td>200</td>\n      <td>1</td>\n    </tr>\n    <tr>\n      <th>1</th>\n      <td>1</td>\n      <td>1</td>\n      <td>twitter</td>\n      <td>200</td>\n      <td>site1</td>\n      <td>1052.34</td>\n      <td>200</td>\n      <td>2</td>\n    </tr>\n    <tr>\n      <th>2</th>\n      <td>2</td>\n      <td>2</td>\n      <td>instagram</td>\n      <td>300</td>\n      <td>site2</td>\n      <td>2002.00</td>\n      <td>300</td>\n      <td>3</td>\n    </tr>\n    <tr>\n      <th>3</th>\n      <td>3</td>\n      <td>3</td>\n      <td>linkedin</td>\n      <td>400</td>\n      <td>site2</td>\n      <td>5000.00</td>\n      <td>800</td>\n      <td>4</td>\n    </tr>\n    <tr>\n      <th>4</th>\n      <td>4</td>\n      <td>4</td>\n      <td>facebook</td>\n      <td>500</td>\n      <td>site3</td>\n      <td>300.00</td>\n      <td>200</td>\n      <td>5</td>\n    </tr>\n  </tbody>\n</table>\n</div>"
     },
     "execution_count": 169,
     "metadata": {},
     "output_type": "execute_result"
    }
   ],
   "source": [
    "aux.reset_index()"
   ]
  },
  {
   "cell_type": "code",
   "execution_count": 170,
   "metadata": {},
   "outputs": [
    {
     "data": {
      "text/plain": "site canal_venda  site1  site2  site3\n0       facebook  100.0    0.0  500.0\n1      instagram    0.0  300.0    0.0\n2       linkedin    0.0  400.0    0.0\n3        twitter  200.0    0.0    0.0",
      "text/html": "<div>\n<style scoped>\n    .dataframe tbody tr th:only-of-type {\n        vertical-align: middle;\n    }\n\n    .dataframe tbody tr th {\n        vertical-align: top;\n    }\n\n    .dataframe thead th {\n        text-align: right;\n    }\n</style>\n<table border=\"1\" class=\"dataframe\">\n  <thead>\n    <tr style=\"text-align: right;\">\n      <th>site</th>\n      <th>canal_venda</th>\n      <th>site1</th>\n      <th>site2</th>\n      <th>site3</th>\n    </tr>\n  </thead>\n  <tbody>\n    <tr>\n      <th>0</th>\n      <td>facebook</td>\n      <td>100.0</td>\n      <td>0.0</td>\n      <td>500.0</td>\n    </tr>\n    <tr>\n      <th>1</th>\n      <td>instagram</td>\n      <td>0.0</td>\n      <td>300.0</td>\n      <td>0.0</td>\n    </tr>\n    <tr>\n      <th>2</th>\n      <td>linkedin</td>\n      <td>0.0</td>\n      <td>400.0</td>\n      <td>0.0</td>\n    </tr>\n    <tr>\n      <th>3</th>\n      <td>twitter</td>\n      <td>200.0</td>\n      <td>0.0</td>\n      <td>0.0</td>\n    </tr>\n  </tbody>\n</table>\n</div>"
     },
     "execution_count": 170,
     "metadata": {},
     "output_type": "execute_result"
    }
   ],
   "source": [
    "aux = dataframe.pivot(index = 'canal_venda', columns='site', values='acessos').fillna(0)\n",
    "# Para aparecer o nome do índice\n",
    "# https://pandas.pydata.org/pandas-docs/stable/reference/api/pandas.DataFrame.reset_index.html\n",
    "\n",
    "aux.reset_index(inplace=True)\n",
    "aux"
   ]
  },
  {
   "cell_type": "code",
   "execution_count": 171,
   "metadata": {},
   "outputs": [
    {
     "data": {
      "text/plain": "   canal_venda   site  value\n0     facebook  site1  100.0\n1    instagram  site1    0.0\n2     linkedin  site1    0.0\n3      twitter  site1  200.0\n4     facebook  site2    0.0\n5    instagram  site2  300.0\n6     linkedin  site2  400.0\n7      twitter  site2    0.0\n8     facebook  site3  500.0\n9    instagram  site3    0.0\n10    linkedin  site3    0.0\n11     twitter  site3    0.0",
      "text/html": "<div>\n<style scoped>\n    .dataframe tbody tr th:only-of-type {\n        vertical-align: middle;\n    }\n\n    .dataframe tbody tr th {\n        vertical-align: top;\n    }\n\n    .dataframe thead th {\n        text-align: right;\n    }\n</style>\n<table border=\"1\" class=\"dataframe\">\n  <thead>\n    <tr style=\"text-align: right;\">\n      <th></th>\n      <th>canal_venda</th>\n      <th>site</th>\n      <th>value</th>\n    </tr>\n  </thead>\n  <tbody>\n    <tr>\n      <th>0</th>\n      <td>facebook</td>\n      <td>site1</td>\n      <td>100.0</td>\n    </tr>\n    <tr>\n      <th>1</th>\n      <td>instagram</td>\n      <td>site1</td>\n      <td>0.0</td>\n    </tr>\n    <tr>\n      <th>2</th>\n      <td>linkedin</td>\n      <td>site1</td>\n      <td>0.0</td>\n    </tr>\n    <tr>\n      <th>3</th>\n      <td>twitter</td>\n      <td>site1</td>\n      <td>200.0</td>\n    </tr>\n    <tr>\n      <th>4</th>\n      <td>facebook</td>\n      <td>site2</td>\n      <td>0.0</td>\n    </tr>\n    <tr>\n      <th>5</th>\n      <td>instagram</td>\n      <td>site2</td>\n      <td>300.0</td>\n    </tr>\n    <tr>\n      <th>6</th>\n      <td>linkedin</td>\n      <td>site2</td>\n      <td>400.0</td>\n    </tr>\n    <tr>\n      <th>7</th>\n      <td>twitter</td>\n      <td>site2</td>\n      <td>0.0</td>\n    </tr>\n    <tr>\n      <th>8</th>\n      <td>facebook</td>\n      <td>site3</td>\n      <td>500.0</td>\n    </tr>\n    <tr>\n      <th>9</th>\n      <td>instagram</td>\n      <td>site3</td>\n      <td>0.0</td>\n    </tr>\n    <tr>\n      <th>10</th>\n      <td>linkedin</td>\n      <td>site3</td>\n      <td>0.0</td>\n    </tr>\n    <tr>\n      <th>11</th>\n      <td>twitter</td>\n      <td>site3</td>\n      <td>0.0</td>\n    </tr>\n  </tbody>\n</table>\n</div>"
     },
     "execution_count": 171,
     "metadata": {},
     "output_type": "execute_result"
    }
   ],
   "source": [
    "#Exemplo do comando melt\n",
    "aux.melt(id_vars='canal_venda',value_vars=['site1','site2','site3'])"
   ]
  },
  {
   "cell_type": "code",
   "execution_count": 172,
   "metadata": {},
   "outputs": [
    {
     "data": {
      "text/plain": "  canal_venda  acessos   site   vendas  lista  nova_coluna\n0    facebook      100  site1  1000.52    200            1\n1     twitter      200  site1  1052.34    200            2\n2   instagram      300  site2  2002.00    300            3\n3    linkedin      400  site2  5000.00    800            4\n4    facebook      500  site3   300.00    200            5",
      "text/html": "<div>\n<style scoped>\n    .dataframe tbody tr th:only-of-type {\n        vertical-align: middle;\n    }\n\n    .dataframe tbody tr th {\n        vertical-align: top;\n    }\n\n    .dataframe thead th {\n        text-align: right;\n    }\n</style>\n<table border=\"1\" class=\"dataframe\">\n  <thead>\n    <tr style=\"text-align: right;\">\n      <th></th>\n      <th>canal_venda</th>\n      <th>acessos</th>\n      <th>site</th>\n      <th>vendas</th>\n      <th>lista</th>\n      <th>nova_coluna</th>\n    </tr>\n  </thead>\n  <tbody>\n    <tr>\n      <th>0</th>\n      <td>facebook</td>\n      <td>100</td>\n      <td>site1</td>\n      <td>1000.52</td>\n      <td>200</td>\n      <td>1</td>\n    </tr>\n    <tr>\n      <th>1</th>\n      <td>twitter</td>\n      <td>200</td>\n      <td>site1</td>\n      <td>1052.34</td>\n      <td>200</td>\n      <td>2</td>\n    </tr>\n    <tr>\n      <th>2</th>\n      <td>instagram</td>\n      <td>300</td>\n      <td>site2</td>\n      <td>2002.00</td>\n      <td>300</td>\n      <td>3</td>\n    </tr>\n    <tr>\n      <th>3</th>\n      <td>linkedin</td>\n      <td>400</td>\n      <td>site2</td>\n      <td>5000.00</td>\n      <td>800</td>\n      <td>4</td>\n    </tr>\n    <tr>\n      <th>4</th>\n      <td>facebook</td>\n      <td>500</td>\n      <td>site3</td>\n      <td>300.00</td>\n      <td>200</td>\n      <td>5</td>\n    </tr>\n  </tbody>\n</table>\n</div>"
     },
     "execution_count": 172,
     "metadata": {},
     "output_type": "execute_result"
    }
   ],
   "source": [
    "dataframe"
   ]
  },
  {
   "cell_type": "code",
   "execution_count": 173,
   "metadata": {},
   "outputs": [
    {
     "name": "stdout",
     "output_type": "stream",
     "text": [
      "Por linha:  0    150.0\n",
      "1    200.0\n",
      "2    300.0\n",
      "3    600.0\n",
      "4    250.0\n",
      "dtype: float64\n",
      "Por coluna:  acessos         300.00\n",
      "vendas         1052.34\n",
      "lista           200.00\n",
      "nova_coluna       3.00\n",
      "dtype: float64\n"
     ]
    }
   ],
   "source": [
    "#Calculando a mediana das colunas numericas\n",
    "print('Por linha: ',dataframe.median(axis= 1) )\n",
    "print('Por coluna: ', dataframe.median())"
   ]
  },
  {
   "cell_type": "code",
   "execution_count": 174,
   "metadata": {},
   "outputs": [
    {
     "data": {
      "text/plain": "acessos         300.000\nvendas         1870.972\nlista           340.000\nnova_coluna       3.000\ndtype: float64"
     },
     "execution_count": 174,
     "metadata": {},
     "output_type": "execute_result"
    }
   ],
   "source": [
    "#Calculando a media das colunas númericas\n",
    "dataframe.mean()"
   ]
  },
  {
   "cell_type": "code",
   "execution_count": 175,
   "metadata": {},
   "outputs": [
    {
     "data": {
      "text/plain": "acessos         158.113883\nvendas         1850.931024\nlista           260.768096\nnova_coluna       1.581139\ndtype: float64"
     },
     "execution_count": 175,
     "metadata": {},
     "output_type": "execute_result"
    }
   ],
   "source": [
    "#Calculando o desvio padrão das colunas numericas\n",
    "dataframe.std()"
   ]
  },
  {
   "cell_type": "code",
   "execution_count": 176,
   "metadata": {},
   "outputs": [
    {
     "data": {
      "text/plain": "          acessos       vendas       lista  nova_coluna\ncount    5.000000     5.000000    5.000000     5.000000\nmean   300.000000  1870.972000  340.000000     3.000000\nstd    158.113883  1850.931024  260.768096     1.581139\nmin    100.000000   300.000000  200.000000     1.000000\n25%    200.000000  1000.520000  200.000000     2.000000\n50%    300.000000  1052.340000  200.000000     3.000000\n75%    400.000000  2002.000000  300.000000     4.000000\nmax    500.000000  5000.000000  800.000000     5.000000",
      "text/html": "<div>\n<style scoped>\n    .dataframe tbody tr th:only-of-type {\n        vertical-align: middle;\n    }\n\n    .dataframe tbody tr th {\n        vertical-align: top;\n    }\n\n    .dataframe thead th {\n        text-align: right;\n    }\n</style>\n<table border=\"1\" class=\"dataframe\">\n  <thead>\n    <tr style=\"text-align: right;\">\n      <th></th>\n      <th>acessos</th>\n      <th>vendas</th>\n      <th>lista</th>\n      <th>nova_coluna</th>\n    </tr>\n  </thead>\n  <tbody>\n    <tr>\n      <th>count</th>\n      <td>5.000000</td>\n      <td>5.000000</td>\n      <td>5.000000</td>\n      <td>5.000000</td>\n    </tr>\n    <tr>\n      <th>mean</th>\n      <td>300.000000</td>\n      <td>1870.972000</td>\n      <td>340.000000</td>\n      <td>3.000000</td>\n    </tr>\n    <tr>\n      <th>std</th>\n      <td>158.113883</td>\n      <td>1850.931024</td>\n      <td>260.768096</td>\n      <td>1.581139</td>\n    </tr>\n    <tr>\n      <th>min</th>\n      <td>100.000000</td>\n      <td>300.000000</td>\n      <td>200.000000</td>\n      <td>1.000000</td>\n    </tr>\n    <tr>\n      <th>25%</th>\n      <td>200.000000</td>\n      <td>1000.520000</td>\n      <td>200.000000</td>\n      <td>2.000000</td>\n    </tr>\n    <tr>\n      <th>50%</th>\n      <td>300.000000</td>\n      <td>1052.340000</td>\n      <td>200.000000</td>\n      <td>3.000000</td>\n    </tr>\n    <tr>\n      <th>75%</th>\n      <td>400.000000</td>\n      <td>2002.000000</td>\n      <td>300.000000</td>\n      <td>4.000000</td>\n    </tr>\n    <tr>\n      <th>max</th>\n      <td>500.000000</td>\n      <td>5000.000000</td>\n      <td>800.000000</td>\n      <td>5.000000</td>\n    </tr>\n  </tbody>\n</table>\n</div>"
     },
     "execution_count": 176,
     "metadata": {},
     "output_type": "execute_result"
    }
   ],
   "source": [
    "#Usando o comando describe que calcula estatisticas descritivas para colunas numericas\n",
    "dataframe.describe()"
   ]
  },
  {
   "cell_type": "code",
   "execution_count": 177,
   "metadata": {},
   "outputs": [
    {
     "data": {
      "text/plain": "  canal_venda  acessos   site   vendas  lista  nova_coluna\n0    facebook      100  site1   300.00  200.0            1\n1         NaN      200  site2  1000.52    NaN            2\n2         NaN      300    NaN  1052.34    NaN            3\n3         NaN      400    NaN  2002.00    NaN            4\n4         NaN      500    NaN  5000.00    NaN            5",
      "text/html": "<div>\n<style scoped>\n    .dataframe tbody tr th:only-of-type {\n        vertical-align: middle;\n    }\n\n    .dataframe tbody tr th {\n        vertical-align: top;\n    }\n\n    .dataframe thead th {\n        text-align: right;\n    }\n</style>\n<table border=\"1\" class=\"dataframe\">\n  <thead>\n    <tr style=\"text-align: right;\">\n      <th></th>\n      <th>canal_venda</th>\n      <th>acessos</th>\n      <th>site</th>\n      <th>vendas</th>\n      <th>lista</th>\n      <th>nova_coluna</th>\n    </tr>\n  </thead>\n  <tbody>\n    <tr>\n      <th>0</th>\n      <td>facebook</td>\n      <td>100</td>\n      <td>site1</td>\n      <td>300.00</td>\n      <td>200.0</td>\n      <td>1</td>\n    </tr>\n    <tr>\n      <th>1</th>\n      <td>NaN</td>\n      <td>200</td>\n      <td>site2</td>\n      <td>1000.52</td>\n      <td>NaN</td>\n      <td>2</td>\n    </tr>\n    <tr>\n      <th>2</th>\n      <td>NaN</td>\n      <td>300</td>\n      <td>NaN</td>\n      <td>1052.34</td>\n      <td>NaN</td>\n      <td>3</td>\n    </tr>\n    <tr>\n      <th>3</th>\n      <td>NaN</td>\n      <td>400</td>\n      <td>NaN</td>\n      <td>2002.00</td>\n      <td>NaN</td>\n      <td>4</td>\n    </tr>\n    <tr>\n      <th>4</th>\n      <td>NaN</td>\n      <td>500</td>\n      <td>NaN</td>\n      <td>5000.00</td>\n      <td>NaN</td>\n      <td>5</td>\n    </tr>\n  </tbody>\n</table>\n</div>"
     },
     "execution_count": 177,
     "metadata": {},
     "output_type": "execute_result"
    }
   ],
   "source": [
    "#Calculando a moda\n",
    "dataframe.mode()"
   ]
  },
  {
   "cell_type": "code",
   "execution_count": 178,
   "metadata": {},
   "outputs": [
    {
     "data": {
      "text/plain": "canal_venda    twitter\nacessos            500\nsite             site3\nvendas            5000\nlista              800\nnova_coluna          5\ndtype: object"
     },
     "execution_count": 178,
     "metadata": {},
     "output_type": "execute_result"
    }
   ],
   "source": [
    "# Valor maximo por coluna\n",
    "dataframe.max()"
   ]
  },
  {
   "cell_type": "code",
   "execution_count": 179,
   "metadata": {},
   "outputs": [
    {
     "data": {
      "text/plain": "canal_venda    facebook\nacessos             100\nsite              site1\nvendas              300\nlista               200\nnova_coluna           1\ndtype: object"
     },
     "execution_count": 179,
     "metadata": {},
     "output_type": "execute_result"
    }
   ],
   "source": [
    "#Valor minimo por coluna\n",
    "dataframe.min()"
   ]
  },
  {
   "cell_type": "code",
   "execution_count": 180,
   "metadata": {},
   "outputs": [
    {
     "data": {
      "text/plain": "canal_venda    4\nacessos        5\nsite           3\nvendas         5\nlista          3\nnova_coluna    5\ndtype: int64"
     },
     "execution_count": 180,
     "metadata": {},
     "output_type": "execute_result"
    }
   ],
   "source": [
    "#Printando o numero de unicos\n",
    "dataframe.nunique()"
   ]
  },
  {
   "cell_type": "code",
   "execution_count": 181,
   "metadata": {},
   "outputs": [
    {
     "data": {
      "text/plain": "facebook     2\ntwitter      1\nlinkedin     1\ninstagram    1\nName: canal_venda, dtype: int64"
     },
     "execution_count": 181,
     "metadata": {},
     "output_type": "execute_result"
    }
   ],
   "source": [
    "#Contando valores unicos de uma coluna\n",
    "dataframe['canal_venda'].value_counts()"
   ]
  },
  {
   "cell_type": "code",
   "execution_count": 182,
   "metadata": {},
   "outputs": [
    {
     "data": {
      "text/plain": "array(['facebook', 'twitter', 'instagram', 'linkedin'], dtype=object)"
     },
     "execution_count": 182,
     "metadata": {},
     "output_type": "execute_result"
    }
   ],
   "source": [
    "#Valores unicos de uma coluna\n",
    "dataframe['canal_venda'].unique()"
   ]
  },
  {
   "cell_type": "code",
   "execution_count": 183,
   "metadata": {},
   "outputs": [
    {
     "data": {
      "text/plain": "site\nsite1    300\nsite2    700\nsite3    500\nName: acessos, dtype: int64"
     },
     "execution_count": 183,
     "metadata": {},
     "output_type": "execute_result"
    }
   ],
   "source": [
    "# Usando o groupby com valores numericos\n",
    "dataframe.groupby('site')['acessos'].sum()"
   ]
  },
  {
   "cell_type": "code",
   "execution_count": 184,
   "metadata": {},
   "outputs": [
    {
     "data": {
      "text/plain": "canal_venda\nfacebook     300\ninstagram    300\nlinkedin     400\ntwitter      200\nName: acessos, dtype: int64"
     },
     "execution_count": 184,
     "metadata": {},
     "output_type": "execute_result"
    }
   ],
   "source": [
    "# Usando o groupby com valores numericos\n",
    "dataframe.groupby('canal_venda')['acessos'].median()"
   ]
  },
  {
   "cell_type": "code",
   "execution_count": 185,
   "metadata": {},
   "outputs": [
    {
     "data": {
      "text/plain": "site\nsite1      [facebook, twitter]\nsite2    [instagram, linkedin]\nsite3               [facebook]\nName: canal_venda, dtype: object"
     },
     "execution_count": 185,
     "metadata": {},
     "output_type": "execute_result"
    }
   ],
   "source": [
    "# Usando o groupby com categoricos\n",
    "dataframe.groupby('site')['canal_venda'].unique()"
   ]
  },
  {
   "cell_type": "code",
   "execution_count": 186,
   "metadata": {},
   "outputs": [
    {
     "data": {
      "text/plain": "site\nsite1     facebook\nsite2    instagram\nsite3     facebook\nName: canal_venda, dtype: object"
     },
     "execution_count": 186,
     "metadata": {},
     "output_type": "execute_result"
    }
   ],
   "source": [
    "# Usando o groupby com categoricos\n",
    "dataframe.groupby('site')['canal_venda'].first()"
   ]
  },
  {
   "cell_type": "code",
   "execution_count": 187,
   "metadata": {},
   "outputs": [
    {
     "data": {
      "text/plain": "                       site  acessos\ncanal_venda                         \nfacebook     [site1, site3]      600\ninstagram           [site2]      300\nlinkedin            [site2]      400\ntwitter             [site1]      200",
      "text/html": "<div>\n<style scoped>\n    .dataframe tbody tr th:only-of-type {\n        vertical-align: middle;\n    }\n\n    .dataframe tbody tr th {\n        vertical-align: top;\n    }\n\n    .dataframe thead th {\n        text-align: right;\n    }\n</style>\n<table border=\"1\" class=\"dataframe\">\n  <thead>\n    <tr style=\"text-align: right;\">\n      <th></th>\n      <th>site</th>\n      <th>acessos</th>\n    </tr>\n    <tr>\n      <th>canal_venda</th>\n      <th></th>\n      <th></th>\n    </tr>\n  </thead>\n  <tbody>\n    <tr>\n      <th>facebook</th>\n      <td>[site1, site3]</td>\n      <td>600</td>\n    </tr>\n    <tr>\n      <th>instagram</th>\n      <td>[site2]</td>\n      <td>300</td>\n    </tr>\n    <tr>\n      <th>linkedin</th>\n      <td>[site2]</td>\n      <td>400</td>\n    </tr>\n    <tr>\n      <th>twitter</th>\n      <td>[site1]</td>\n      <td>200</td>\n    </tr>\n  </tbody>\n</table>\n</div>"
     },
     "execution_count": 187,
     "metadata": {},
     "output_type": "execute_result"
    }
   ],
   "source": [
    "#Usando o groupby com a função agg\n",
    "dataframe.groupby('canal_venda').agg({'site': 'unique',\n",
    "                                     'acessos': 'sum'})\n"
   ]
  },
  {
   "cell_type": "code",
   "execution_count": 188,
   "metadata": {},
   "outputs": [
    {
     "data": {
      "text/plain": "             acessos    vendas     lista  nova_coluna\nacessos      1.00000  0.000000  0.335410      1.00000\nvendas       0.00000  1.000000  0.894427      0.00000\nlista        0.33541  0.894427  1.000000      0.33541\nnova_coluna  1.00000  0.000000  0.335410      1.00000",
      "text/html": "<div>\n<style scoped>\n    .dataframe tbody tr th:only-of-type {\n        vertical-align: middle;\n    }\n\n    .dataframe tbody tr th {\n        vertical-align: top;\n    }\n\n    .dataframe thead th {\n        text-align: right;\n    }\n</style>\n<table border=\"1\" class=\"dataframe\">\n  <thead>\n    <tr style=\"text-align: right;\">\n      <th></th>\n      <th>acessos</th>\n      <th>vendas</th>\n      <th>lista</th>\n      <th>nova_coluna</th>\n    </tr>\n  </thead>\n  <tbody>\n    <tr>\n      <th>acessos</th>\n      <td>1.00000</td>\n      <td>0.000000</td>\n      <td>0.335410</td>\n      <td>1.00000</td>\n    </tr>\n    <tr>\n      <th>vendas</th>\n      <td>0.00000</td>\n      <td>1.000000</td>\n      <td>0.894427</td>\n      <td>0.00000</td>\n    </tr>\n    <tr>\n      <th>lista</th>\n      <td>0.33541</td>\n      <td>0.894427</td>\n      <td>1.000000</td>\n      <td>0.33541</td>\n    </tr>\n    <tr>\n      <th>nova_coluna</th>\n      <td>1.00000</td>\n      <td>0.000000</td>\n      <td>0.335410</td>\n      <td>1.00000</td>\n    </tr>\n  </tbody>\n</table>\n</div>"
     },
     "execution_count": 188,
     "metadata": {},
     "output_type": "execute_result"
    }
   ],
   "source": [
    "#Correlações entre variaveis\n",
    "dataframe.corr(method = 'spearman')"
   ]
  },
  {
   "cell_type": "code",
   "execution_count": 189,
   "metadata": {},
   "outputs": [
    {
     "data": {
      "text/plain": "  canal_venda  acessos   site   vendas  lista  nova_coluna\n0    facebook      100  site1  1000.52    200            1\n1     twitter      200  site1  1052.34    200            2\n2   instagram      300  site2  2002.00    300            3\n3    linkedin      400  site2  5000.00    800            4\n4    facebook      500  site3   300.00    200            5",
      "text/html": "<div>\n<style scoped>\n    .dataframe tbody tr th:only-of-type {\n        vertical-align: middle;\n    }\n\n    .dataframe tbody tr th {\n        vertical-align: top;\n    }\n\n    .dataframe thead th {\n        text-align: right;\n    }\n</style>\n<table border=\"1\" class=\"dataframe\">\n  <thead>\n    <tr style=\"text-align: right;\">\n      <th></th>\n      <th>canal_venda</th>\n      <th>acessos</th>\n      <th>site</th>\n      <th>vendas</th>\n      <th>lista</th>\n      <th>nova_coluna</th>\n    </tr>\n  </thead>\n  <tbody>\n    <tr>\n      <th>0</th>\n      <td>facebook</td>\n      <td>100</td>\n      <td>site1</td>\n      <td>1000.52</td>\n      <td>200</td>\n      <td>1</td>\n    </tr>\n    <tr>\n      <th>1</th>\n      <td>twitter</td>\n      <td>200</td>\n      <td>site1</td>\n      <td>1052.34</td>\n      <td>200</td>\n      <td>2</td>\n    </tr>\n    <tr>\n      <th>2</th>\n      <td>instagram</td>\n      <td>300</td>\n      <td>site2</td>\n      <td>2002.00</td>\n      <td>300</td>\n      <td>3</td>\n    </tr>\n    <tr>\n      <th>3</th>\n      <td>linkedin</td>\n      <td>400</td>\n      <td>site2</td>\n      <td>5000.00</td>\n      <td>800</td>\n      <td>4</td>\n    </tr>\n    <tr>\n      <th>4</th>\n      <td>facebook</td>\n      <td>500</td>\n      <td>site3</td>\n      <td>300.00</td>\n      <td>200</td>\n      <td>5</td>\n    </tr>\n  </tbody>\n</table>\n</div>"
     },
     "execution_count": 189,
     "metadata": {},
     "output_type": "execute_result"
    }
   ],
   "source": [
    "dataframe"
   ]
  },
  {
   "cell_type": "code",
   "execution_count": 190,
   "metadata": {},
   "outputs": [],
   "source": [
    "#Criando variaveis categoricas por fatia de variavel numerica\n",
    "dataframe['categoria_vendas'] = pd.cut(dataframe['vendas'],\n",
    "                                       bins= (0, 1500, 2000, 8000), \n",
    "                                       labels = ('0 a 1500', '1500 a 2000', '2000 a 8000'))"
   ]
  },
  {
   "cell_type": "code",
   "execution_count": 191,
   "metadata": {},
   "outputs": [
    {
     "data": {
      "text/plain": "  canal_venda  acessos   site   vendas  lista  nova_coluna categoria_vendas\n0    facebook      100  site1  1000.52    200            1         0 a 1500\n1     twitter      200  site1  1052.34    200            2         0 a 1500\n2   instagram      300  site2  2002.00    300            3      2000 a 8000\n3    linkedin      400  site2  5000.00    800            4      2000 a 8000\n4    facebook      500  site3   300.00    200            5         0 a 1500",
      "text/html": "<div>\n<style scoped>\n    .dataframe tbody tr th:only-of-type {\n        vertical-align: middle;\n    }\n\n    .dataframe tbody tr th {\n        vertical-align: top;\n    }\n\n    .dataframe thead th {\n        text-align: right;\n    }\n</style>\n<table border=\"1\" class=\"dataframe\">\n  <thead>\n    <tr style=\"text-align: right;\">\n      <th></th>\n      <th>canal_venda</th>\n      <th>acessos</th>\n      <th>site</th>\n      <th>vendas</th>\n      <th>lista</th>\n      <th>nova_coluna</th>\n      <th>categoria_vendas</th>\n    </tr>\n  </thead>\n  <tbody>\n    <tr>\n      <th>0</th>\n      <td>facebook</td>\n      <td>100</td>\n      <td>site1</td>\n      <td>1000.52</td>\n      <td>200</td>\n      <td>1</td>\n      <td>0 a 1500</td>\n    </tr>\n    <tr>\n      <th>1</th>\n      <td>twitter</td>\n      <td>200</td>\n      <td>site1</td>\n      <td>1052.34</td>\n      <td>200</td>\n      <td>2</td>\n      <td>0 a 1500</td>\n    </tr>\n    <tr>\n      <th>2</th>\n      <td>instagram</td>\n      <td>300</td>\n      <td>site2</td>\n      <td>2002.00</td>\n      <td>300</td>\n      <td>3</td>\n      <td>2000 a 8000</td>\n    </tr>\n    <tr>\n      <th>3</th>\n      <td>linkedin</td>\n      <td>400</td>\n      <td>site2</td>\n      <td>5000.00</td>\n      <td>800</td>\n      <td>4</td>\n      <td>2000 a 8000</td>\n    </tr>\n    <tr>\n      <th>4</th>\n      <td>facebook</td>\n      <td>500</td>\n      <td>site3</td>\n      <td>300.00</td>\n      <td>200</td>\n      <td>5</td>\n      <td>0 a 1500</td>\n    </tr>\n  </tbody>\n</table>\n</div>"
     },
     "execution_count": 191,
     "metadata": {},
     "output_type": "execute_result"
    }
   ],
   "source": [
    "dataframe"
   ]
  },
  {
   "cell_type": "code",
   "execution_count": 192,
   "metadata": {},
   "outputs": [],
   "source": [
    "#Criando variavel categorica usando compressao de lista\n",
    "dataframe['categoria_acessos'] = ['maior_que_300' if x > 300 else 'menor_que_300' for x in dataframe['acessos']]"
   ]
  },
  {
   "cell_type": "code",
   "execution_count": 193,
   "metadata": {},
   "outputs": [
    {
     "data": {
      "text/plain": "  canal_venda  acessos   site   vendas  lista  nova_coluna categoria_vendas  \\\n0    facebook      100  site1  1000.52    200            1         0 a 1500   \n1     twitter      200  site1  1052.34    200            2         0 a 1500   \n2   instagram      300  site2  2002.00    300            3      2000 a 8000   \n3    linkedin      400  site2  5000.00    800            4      2000 a 8000   \n4    facebook      500  site3   300.00    200            5         0 a 1500   \n\n  categoria_acessos  \n0     menor_que_300  \n1     menor_que_300  \n2     menor_que_300  \n3     maior_que_300  \n4     maior_que_300  ",
      "text/html": "<div>\n<style scoped>\n    .dataframe tbody tr th:only-of-type {\n        vertical-align: middle;\n    }\n\n    .dataframe tbody tr th {\n        vertical-align: top;\n    }\n\n    .dataframe thead th {\n        text-align: right;\n    }\n</style>\n<table border=\"1\" class=\"dataframe\">\n  <thead>\n    <tr style=\"text-align: right;\">\n      <th></th>\n      <th>canal_venda</th>\n      <th>acessos</th>\n      <th>site</th>\n      <th>vendas</th>\n      <th>lista</th>\n      <th>nova_coluna</th>\n      <th>categoria_vendas</th>\n      <th>categoria_acessos</th>\n    </tr>\n  </thead>\n  <tbody>\n    <tr>\n      <th>0</th>\n      <td>facebook</td>\n      <td>100</td>\n      <td>site1</td>\n      <td>1000.52</td>\n      <td>200</td>\n      <td>1</td>\n      <td>0 a 1500</td>\n      <td>menor_que_300</td>\n    </tr>\n    <tr>\n      <th>1</th>\n      <td>twitter</td>\n      <td>200</td>\n      <td>site1</td>\n      <td>1052.34</td>\n      <td>200</td>\n      <td>2</td>\n      <td>0 a 1500</td>\n      <td>menor_que_300</td>\n    </tr>\n    <tr>\n      <th>2</th>\n      <td>instagram</td>\n      <td>300</td>\n      <td>site2</td>\n      <td>2002.00</td>\n      <td>300</td>\n      <td>3</td>\n      <td>2000 a 8000</td>\n      <td>menor_que_300</td>\n    </tr>\n    <tr>\n      <th>3</th>\n      <td>linkedin</td>\n      <td>400</td>\n      <td>site2</td>\n      <td>5000.00</td>\n      <td>800</td>\n      <td>4</td>\n      <td>2000 a 8000</td>\n      <td>maior_que_300</td>\n    </tr>\n    <tr>\n      <th>4</th>\n      <td>facebook</td>\n      <td>500</td>\n      <td>site3</td>\n      <td>300.00</td>\n      <td>200</td>\n      <td>5</td>\n      <td>0 a 1500</td>\n      <td>maior_que_300</td>\n    </tr>\n  </tbody>\n</table>\n</div>"
     },
     "execution_count": 193,
     "metadata": {},
     "output_type": "execute_result"
    }
   ],
   "source": [
    "dataframe"
   ]
  },
  {
   "cell_type": "code",
   "execution_count": 194,
   "metadata": {},
   "outputs": [],
   "source": [
    "#Juntando dois dataframes | Criando o dataframe_2\n",
    "dataframe_2 = pd.DataFrame({'site': ['site1', 'site1', 'site2', 'site2', 'site3'],\n",
    "               'suporte': ['Carlos', 'Carlos', 'Maria', 'Maria', 'Ezequiel']})\n"
   ]
  },
  {
   "cell_type": "code",
   "execution_count": 195,
   "metadata": {},
   "outputs": [
    {
     "data": {
      "text/plain": "  canal_venda  acessos   site   vendas  lista  nova_coluna categoria_vendas  \\\n0    facebook      100  site1  1000.52    200            1         0 a 1500   \n1    facebook      100  site1  1000.52    200            1         0 a 1500   \n2     twitter      200  site1  1052.34    200            2         0 a 1500   \n3     twitter      200  site1  1052.34    200            2         0 a 1500   \n4   instagram      300  site2  2002.00    300            3      2000 a 8000   \n5   instagram      300  site2  2002.00    300            3      2000 a 8000   \n6    linkedin      400  site2  5000.00    800            4      2000 a 8000   \n7    linkedin      400  site2  5000.00    800            4      2000 a 8000   \n8    facebook      500  site3   300.00    200            5         0 a 1500   \n\n  categoria_acessos   suporte  \n0     menor_que_300    Carlos  \n1     menor_que_300    Carlos  \n2     menor_que_300    Carlos  \n3     menor_que_300    Carlos  \n4     menor_que_300     Maria  \n5     menor_que_300     Maria  \n6     maior_que_300     Maria  \n7     maior_que_300     Maria  \n8     maior_que_300  Ezequiel  ",
      "text/html": "<div>\n<style scoped>\n    .dataframe tbody tr th:only-of-type {\n        vertical-align: middle;\n    }\n\n    .dataframe tbody tr th {\n        vertical-align: top;\n    }\n\n    .dataframe thead th {\n        text-align: right;\n    }\n</style>\n<table border=\"1\" class=\"dataframe\">\n  <thead>\n    <tr style=\"text-align: right;\">\n      <th></th>\n      <th>canal_venda</th>\n      <th>acessos</th>\n      <th>site</th>\n      <th>vendas</th>\n      <th>lista</th>\n      <th>nova_coluna</th>\n      <th>categoria_vendas</th>\n      <th>categoria_acessos</th>\n      <th>suporte</th>\n    </tr>\n  </thead>\n  <tbody>\n    <tr>\n      <th>0</th>\n      <td>facebook</td>\n      <td>100</td>\n      <td>site1</td>\n      <td>1000.52</td>\n      <td>200</td>\n      <td>1</td>\n      <td>0 a 1500</td>\n      <td>menor_que_300</td>\n      <td>Carlos</td>\n    </tr>\n    <tr>\n      <th>1</th>\n      <td>facebook</td>\n      <td>100</td>\n      <td>site1</td>\n      <td>1000.52</td>\n      <td>200</td>\n      <td>1</td>\n      <td>0 a 1500</td>\n      <td>menor_que_300</td>\n      <td>Carlos</td>\n    </tr>\n    <tr>\n      <th>2</th>\n      <td>twitter</td>\n      <td>200</td>\n      <td>site1</td>\n      <td>1052.34</td>\n      <td>200</td>\n      <td>2</td>\n      <td>0 a 1500</td>\n      <td>menor_que_300</td>\n      <td>Carlos</td>\n    </tr>\n    <tr>\n      <th>3</th>\n      <td>twitter</td>\n      <td>200</td>\n      <td>site1</td>\n      <td>1052.34</td>\n      <td>200</td>\n      <td>2</td>\n      <td>0 a 1500</td>\n      <td>menor_que_300</td>\n      <td>Carlos</td>\n    </tr>\n    <tr>\n      <th>4</th>\n      <td>instagram</td>\n      <td>300</td>\n      <td>site2</td>\n      <td>2002.00</td>\n      <td>300</td>\n      <td>3</td>\n      <td>2000 a 8000</td>\n      <td>menor_que_300</td>\n      <td>Maria</td>\n    </tr>\n    <tr>\n      <th>5</th>\n      <td>instagram</td>\n      <td>300</td>\n      <td>site2</td>\n      <td>2002.00</td>\n      <td>300</td>\n      <td>3</td>\n      <td>2000 a 8000</td>\n      <td>menor_que_300</td>\n      <td>Maria</td>\n    </tr>\n    <tr>\n      <th>6</th>\n      <td>linkedin</td>\n      <td>400</td>\n      <td>site2</td>\n      <td>5000.00</td>\n      <td>800</td>\n      <td>4</td>\n      <td>2000 a 8000</td>\n      <td>maior_que_300</td>\n      <td>Maria</td>\n    </tr>\n    <tr>\n      <th>7</th>\n      <td>linkedin</td>\n      <td>400</td>\n      <td>site2</td>\n      <td>5000.00</td>\n      <td>800</td>\n      <td>4</td>\n      <td>2000 a 8000</td>\n      <td>maior_que_300</td>\n      <td>Maria</td>\n    </tr>\n    <tr>\n      <th>8</th>\n      <td>facebook</td>\n      <td>500</td>\n      <td>site3</td>\n      <td>300.00</td>\n      <td>200</td>\n      <td>5</td>\n      <td>0 a 1500</td>\n      <td>maior_que_300</td>\n      <td>Ezequiel</td>\n    </tr>\n  </tbody>\n</table>\n</div>"
     },
     "execution_count": 195,
     "metadata": {},
     "output_type": "execute_result"
    }
   ],
   "source": [
    "#Realizando o merge\n",
    "dataframe.merge(dataframe_2, on = 'site', how = 'left')"
   ]
  },
  {
   "cell_type": "code",
   "execution_count": 196,
   "metadata": {},
   "outputs": [],
   "source": [
    "#Salvando o dataframe como csv\n",
    "dataframe.to_csv('dataframe.csv', sep = ';', decimal = ',', index = False)"
   ]
  },
  {
   "cell_type": "code",
   "execution_count": 197,
   "metadata": {},
   "outputs": [],
   "source": [
    "#Lendo dados no formato csv\n",
    "dataframe_lido = pd.read_csv('dataframe.csv', sep = ';', decimal = ',')"
   ]
  },
  {
   "cell_type": "code",
   "execution_count": 198,
   "metadata": {},
   "outputs": [
    {
     "data": {
      "text/plain": "  canal_venda  acessos   site   vendas  lista  nova_coluna categoria_vendas  \\\n0    facebook      100  site1  1000.52    200            1         0 a 1500   \n1     twitter      200  site1  1052.34    200            2         0 a 1500   \n2   instagram      300  site2  2002.00    300            3      2000 a 8000   \n3    linkedin      400  site2  5000.00    800            4      2000 a 8000   \n4    facebook      500  site3   300.00    200            5         0 a 1500   \n\n  categoria_acessos  \n0     menor_que_300  \n1     menor_que_300  \n2     menor_que_300  \n3     maior_que_300  \n4     maior_que_300  ",
      "text/html": "<div>\n<style scoped>\n    .dataframe tbody tr th:only-of-type {\n        vertical-align: middle;\n    }\n\n    .dataframe tbody tr th {\n        vertical-align: top;\n    }\n\n    .dataframe thead th {\n        text-align: right;\n    }\n</style>\n<table border=\"1\" class=\"dataframe\">\n  <thead>\n    <tr style=\"text-align: right;\">\n      <th></th>\n      <th>canal_venda</th>\n      <th>acessos</th>\n      <th>site</th>\n      <th>vendas</th>\n      <th>lista</th>\n      <th>nova_coluna</th>\n      <th>categoria_vendas</th>\n      <th>categoria_acessos</th>\n    </tr>\n  </thead>\n  <tbody>\n    <tr>\n      <th>0</th>\n      <td>facebook</td>\n      <td>100</td>\n      <td>site1</td>\n      <td>1000.52</td>\n      <td>200</td>\n      <td>1</td>\n      <td>0 a 1500</td>\n      <td>menor_que_300</td>\n    </tr>\n    <tr>\n      <th>1</th>\n      <td>twitter</td>\n      <td>200</td>\n      <td>site1</td>\n      <td>1052.34</td>\n      <td>200</td>\n      <td>2</td>\n      <td>0 a 1500</td>\n      <td>menor_que_300</td>\n    </tr>\n    <tr>\n      <th>2</th>\n      <td>instagram</td>\n      <td>300</td>\n      <td>site2</td>\n      <td>2002.00</td>\n      <td>300</td>\n      <td>3</td>\n      <td>2000 a 8000</td>\n      <td>menor_que_300</td>\n    </tr>\n    <tr>\n      <th>3</th>\n      <td>linkedin</td>\n      <td>400</td>\n      <td>site2</td>\n      <td>5000.00</td>\n      <td>800</td>\n      <td>4</td>\n      <td>2000 a 8000</td>\n      <td>maior_que_300</td>\n    </tr>\n    <tr>\n      <th>4</th>\n      <td>facebook</td>\n      <td>500</td>\n      <td>site3</td>\n      <td>300.00</td>\n      <td>200</td>\n      <td>5</td>\n      <td>0 a 1500</td>\n      <td>maior_que_300</td>\n    </tr>\n  </tbody>\n</table>\n</div>"
     },
     "execution_count": 198,
     "metadata": {},
     "output_type": "execute_result"
    }
   ],
   "source": [
    "dataframe_lido.head()"
   ]
  },
  {
   "cell_type": "code",
   "execution_count": 199,
   "metadata": {},
   "outputs": [],
   "source": [
    "json = pd.read_json('https://pricing.us-east-1.amazonaws.com/offers/v1.0/aws/index.json')"
   ]
  },
  {
   "cell_type": "code",
   "execution_count": 200,
   "metadata": {},
   "outputs": [
    {
     "data": {
      "text/plain": "{'offerCode': 'AmazonLex',\n 'versionIndexUrl': '/offers/v1.0/aws/AmazonLex/index.json',\n 'currentVersionUrl': '/offers/v1.0/aws/AmazonLex/current/index.json',\n 'currentRegionIndexUrl': '/offers/v1.0/aws/AmazonLex/current/region_index.json'}"
     },
     "execution_count": 200,
     "metadata": {},
     "output_type": "execute_result"
    }
   ],
   "source": [
    "json['offers'][99]"
   ]
  },
  {
   "cell_type": "code",
   "execution_count": 201,
   "metadata": {},
   "outputs": [],
   "source": [
    "json.reset_index(inplace = True)"
   ]
  },
  {
   "cell_type": "code",
   "execution_count": 202,
   "metadata": {},
   "outputs": [
    {
     "data": {
      "text/plain": "0                    A4B\n1             AWSAmplify\n2             AWSAppSync\n3              AWSBackup\n4             AWSBudgets\n             ...        \n148    comprehendmedical\n149         datapipeline\n150      mobileanalytics\n151           transcribe\n152            translate\nName: index, Length: 153, dtype: object"
     },
     "execution_count": 202,
     "metadata": {},
     "output_type": "execute_result"
    }
   ],
   "source": [
    "json['index']"
   ]
  },
  {
   "cell_type": "markdown",
   "metadata": {},
   "source": [
    "## Imputação de dados"
   ]
  },
  {
   "cell_type": "code",
   "execution_count": 203,
   "metadata": {},
   "outputs": [],
   "source": [
    "df = pd.read_csv('train.csv')"
   ]
  },
  {
   "cell_type": "code",
   "execution_count": 204,
   "metadata": {},
   "outputs": [],
   "source": [
    "aux = pd.DataFrame({'colunas': df.columns,\n",
    "                    'tipos': df.dtypes,\n",
    "                    'percentual_faltante': df.isna().sum() / df.shape[0]})"
   ]
  },
  {
   "cell_type": "code",
   "execution_count": 205,
   "metadata": {},
   "outputs": [
    {
     "data": {
      "text/plain": "                 colunas    tipos  percentual_faltante\nPassengerId  PassengerId    int64             0.000000\nSurvived        Survived    int64             0.000000\nPclass            Pclass    int64             0.000000\nName                Name   object             0.000000\nSex                  Sex   object             0.000000\nAge                  Age  float64             0.198653\nSibSp              SibSp    int64             0.000000\nParch              Parch    int64             0.000000\nTicket            Ticket   object             0.000000\nFare                Fare  float64             0.000000\nCabin              Cabin   object             0.771044\nEmbarked        Embarked   object             0.002245",
      "text/html": "<div>\n<style scoped>\n    .dataframe tbody tr th:only-of-type {\n        vertical-align: middle;\n    }\n\n    .dataframe tbody tr th {\n        vertical-align: top;\n    }\n\n    .dataframe thead th {\n        text-align: right;\n    }\n</style>\n<table border=\"1\" class=\"dataframe\">\n  <thead>\n    <tr style=\"text-align: right;\">\n      <th></th>\n      <th>colunas</th>\n      <th>tipos</th>\n      <th>percentual_faltante</th>\n    </tr>\n  </thead>\n  <tbody>\n    <tr>\n      <th>PassengerId</th>\n      <td>PassengerId</td>\n      <td>int64</td>\n      <td>0.000000</td>\n    </tr>\n    <tr>\n      <th>Survived</th>\n      <td>Survived</td>\n      <td>int64</td>\n      <td>0.000000</td>\n    </tr>\n    <tr>\n      <th>Pclass</th>\n      <td>Pclass</td>\n      <td>int64</td>\n      <td>0.000000</td>\n    </tr>\n    <tr>\n      <th>Name</th>\n      <td>Name</td>\n      <td>object</td>\n      <td>0.000000</td>\n    </tr>\n    <tr>\n      <th>Sex</th>\n      <td>Sex</td>\n      <td>object</td>\n      <td>0.000000</td>\n    </tr>\n    <tr>\n      <th>Age</th>\n      <td>Age</td>\n      <td>float64</td>\n      <td>0.198653</td>\n    </tr>\n    <tr>\n      <th>SibSp</th>\n      <td>SibSp</td>\n      <td>int64</td>\n      <td>0.000000</td>\n    </tr>\n    <tr>\n      <th>Parch</th>\n      <td>Parch</td>\n      <td>int64</td>\n      <td>0.000000</td>\n    </tr>\n    <tr>\n      <th>Ticket</th>\n      <td>Ticket</td>\n      <td>object</td>\n      <td>0.000000</td>\n    </tr>\n    <tr>\n      <th>Fare</th>\n      <td>Fare</td>\n      <td>float64</td>\n      <td>0.000000</td>\n    </tr>\n    <tr>\n      <th>Cabin</th>\n      <td>Cabin</td>\n      <td>object</td>\n      <td>0.771044</td>\n    </tr>\n    <tr>\n      <th>Embarked</th>\n      <td>Embarked</td>\n      <td>object</td>\n      <td>0.002245</td>\n    </tr>\n  </tbody>\n</table>\n</div>"
     },
     "execution_count": 205,
     "metadata": {},
     "output_type": "execute_result"
    }
   ],
   "source": [
    "aux"
   ]
  },
  {
   "cell_type": "code",
   "execution_count": 206,
   "metadata": {},
   "outputs": [],
   "source": [
    "#Dados númericos : média ou mediana\n",
    "df['Age'] = df['Age'].fillna(df['Age'].mode())"
   ]
  },
  {
   "cell_type": "code",
   "execution_count": 207,
   "metadata": {},
   "outputs": [],
   "source": [
    "#Dados categoricos: Unknown ou moda\n",
    "df['Cabin'] = df['Cabin'].fillna('Unknown')"
   ]
  },
  {
   "cell_type": "code",
   "execution_count": 208,
   "metadata": {},
   "outputs": [
    {
     "data": {
      "text/plain": "Unknown        687\nB96 B98          4\nC23 C25 C27      4\nG6               4\nD                3\n              ... \nD47              1\nA10              1\nA31              1\nB69              1\nA32              1\nName: Cabin, Length: 148, dtype: int64"
     },
     "execution_count": 208,
     "metadata": {},
     "output_type": "execute_result"
    }
   ],
   "source": [
    "df['Cabin'].value_counts()"
   ]
  },
  {
   "cell_type": "code",
   "execution_count": 209,
   "metadata": {},
   "outputs": [
    {
     "data": {
      "text/plain": "891"
     },
     "execution_count": 209,
     "metadata": {},
     "output_type": "execute_result"
    }
   ],
   "source": [
    "df.shape[0]"
   ]
  },
  {
   "cell_type": "code",
   "execution_count": 209,
   "metadata": {},
   "outputs": [],
   "source": []
  }
 ],
 "metadata": {
  "kernelspec": {
   "display_name": "Python 3",
   "language": "python",
   "name": "python3"
  },
  "language_info": {
   "codemirror_mode": {
    "name": "ipython",
    "version": 3
   },
   "file_extension": ".py",
   "mimetype": "text/x-python",
   "name": "python",
   "nbconvert_exporter": "python",
   "pygments_lexer": "ipython3",
   "version": "3.8.2"
  }
 },
 "nbformat": 4,
 "nbformat_minor": 2
}